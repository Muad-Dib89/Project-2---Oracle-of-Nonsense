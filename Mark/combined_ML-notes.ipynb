{
 "cells": [
  {
   "cell_type": "code",
   "execution_count": 60,
   "id": "cbee52eb-c94a-481e-ad7a-7afe35ad7989",
   "metadata": {},
   "outputs": [
    {
     "name": "stderr",
     "output_type": "stream",
     "text": [
      "WARNING:param.panel_extension: A HoloViz extension was loaded previously. This means the extension is already initialized and the following Panel extensions could not be properly loaded: ['plotly']. If you are loading custom extensions with pn.extension(...) ensure that this is called before any other HoloViz extension such as hvPlot or HoloViews.\n"
     ]
    }
   ],
   "source": [
    "# Initial imports\n",
    "import os\n",
    "import requests\n",
    "import pandas as pd\n",
    "from dotenv import load_dotenv\n",
    "import alpaca_trade_api as tradeapi\n",
    "from yahoofinancials import YahooFinancials\n",
    "import json\n",
    "import hvplot.pandas\n",
    "\n",
    "\n",
    "import numpy as np\n",
    "import panel as pn\n",
    "from panel.interact import interact\n",
    "import plotly.express as px\n",
    "pn.extension(\"plotly\")"
   ]
  },
  {
   "cell_type": "code",
   "execution_count": 61,
   "id": "3bd7eee6-62d4-4748-9724-1c56900193c3",
   "metadata": {},
   "outputs": [],
   "source": [
    "yahoo_financials = YahooFinancials('CL=F')\n",
    "crude_prices=(yahoo_financials.get_historical_price_data(\"2020-06-01\", \"2022-06-01\", \"weekly\"))\n",
    "#print(crude_prices)"
   ]
  },
  {
   "cell_type": "code",
   "execution_count": 62,
   "id": "2fd1c83a-30b3-4497-820b-138a03f118ed",
   "metadata": {},
   "outputs": [],
   "source": [
    "json_object= json.dumps(crude_prices['CL=F']['prices'], indent = 4)\n",
    "with open(\"sample.json\", \"w\") as outfile:\n",
    "    outfile.write(json_object)      \n",
    "           \n",
    "\n"
   ]
  },
  {
   "cell_type": "code",
   "execution_count": 63,
   "id": "db108c71-bcfb-44a2-823d-4c85af4870fb",
   "metadata": {},
   "outputs": [],
   "source": [
    "crude_prices = pd.read_json('sample.json')"
   ]
  },
  {
   "cell_type": "code",
   "execution_count": 64,
   "id": "d525511c-93f8-4a4e-9f4a-b44203d15dc9",
   "metadata": {},
   "outputs": [
    {
     "data": {
      "text/plain": [
       "(105, 8)"
      ]
     },
     "execution_count": 64,
     "metadata": {},
     "output_type": "execute_result"
    }
   ],
   "source": [
    "crude_prices.shape"
   ]
  },
  {
   "cell_type": "code",
   "execution_count": 65,
   "id": "95221168-8954-490f-b61f-b807c63fd931",
   "metadata": {},
   "outputs": [
    {
     "data": {
      "text/html": [
       "<div>\n",
       "<style scoped>\n",
       "    .dataframe tbody tr th:only-of-type {\n",
       "        vertical-align: middle;\n",
       "    }\n",
       "\n",
       "    .dataframe tbody tr th {\n",
       "        vertical-align: top;\n",
       "    }\n",
       "\n",
       "    .dataframe thead th {\n",
       "        text-align: right;\n",
       "    }\n",
       "</style>\n",
       "<table border=\"1\" class=\"dataframe\">\n",
       "  <thead>\n",
       "    <tr style=\"text-align: right;\">\n",
       "      <th></th>\n",
       "      <th>date</th>\n",
       "      <th>high</th>\n",
       "      <th>low</th>\n",
       "      <th>open</th>\n",
       "      <th>close</th>\n",
       "      <th>volume</th>\n",
       "      <th>adjclose</th>\n",
       "      <th>formatted_date</th>\n",
       "    </tr>\n",
       "  </thead>\n",
       "  <tbody>\n",
       "    <tr>\n",
       "      <th>0</th>\n",
       "      <td>2020-06-01 04:00:00</td>\n",
       "      <td>39.680000</td>\n",
       "      <td>34.270000</td>\n",
       "      <td>35.209999</td>\n",
       "      <td>39.549999</td>\n",
       "      <td>1927914</td>\n",
       "      <td>39.549999</td>\n",
       "      <td>2020-06-01</td>\n",
       "    </tr>\n",
       "    <tr>\n",
       "      <th>1</th>\n",
       "      <td>2020-06-08 04:00:00</td>\n",
       "      <td>40.439999</td>\n",
       "      <td>34.480000</td>\n",
       "      <td>39.410000</td>\n",
       "      <td>36.259998</td>\n",
       "      <td>2118960</td>\n",
       "      <td>36.259998</td>\n",
       "      <td>2020-06-08</td>\n",
       "    </tr>\n",
       "    <tr>\n",
       "      <th>2</th>\n",
       "      <td>2020-06-15 04:00:00</td>\n",
       "      <td>40.490002</td>\n",
       "      <td>34.360001</td>\n",
       "      <td>36.029999</td>\n",
       "      <td>39.750000</td>\n",
       "      <td>1170882</td>\n",
       "      <td>39.750000</td>\n",
       "      <td>2020-06-15</td>\n",
       "    </tr>\n",
       "    <tr>\n",
       "      <th>3</th>\n",
       "      <td>2020-06-22 04:00:00</td>\n",
       "      <td>41.630001</td>\n",
       "      <td>37.080002</td>\n",
       "      <td>39.180000</td>\n",
       "      <td>38.490002</td>\n",
       "      <td>1991836</td>\n",
       "      <td>38.490002</td>\n",
       "      <td>2020-06-22</td>\n",
       "    </tr>\n",
       "    <tr>\n",
       "      <th>4</th>\n",
       "      <td>2020-06-29 04:00:00</td>\n",
       "      <td>40.740002</td>\n",
       "      <td>37.500000</td>\n",
       "      <td>37.959999</td>\n",
       "      <td>40.650002</td>\n",
       "      <td>1468238</td>\n",
       "      <td>40.650002</td>\n",
       "      <td>2020-06-29</td>\n",
       "    </tr>\n",
       "  </tbody>\n",
       "</table>\n",
       "</div>"
      ],
      "text/plain": [
       "                 date       high        low       open      close   volume  \\\n",
       "0 2020-06-01 04:00:00  39.680000  34.270000  35.209999  39.549999  1927914   \n",
       "1 2020-06-08 04:00:00  40.439999  34.480000  39.410000  36.259998  2118960   \n",
       "2 2020-06-15 04:00:00  40.490002  34.360001  36.029999  39.750000  1170882   \n",
       "3 2020-06-22 04:00:00  41.630001  37.080002  39.180000  38.490002  1991836   \n",
       "4 2020-06-29 04:00:00  40.740002  37.500000  37.959999  40.650002  1468238   \n",
       "\n",
       "    adjclose formatted_date  \n",
       "0  39.549999     2020-06-01  \n",
       "1  36.259998     2020-06-08  \n",
       "2  39.750000     2020-06-15  \n",
       "3  38.490002     2020-06-22  \n",
       "4  40.650002     2020-06-29  "
      ]
     },
     "execution_count": 65,
     "metadata": {},
     "output_type": "execute_result"
    }
   ],
   "source": [
    "crude_prices_df = pd.DataFrame(crude_prices)\n",
    "crude_prices_df.head()"
   ]
  },
  {
   "cell_type": "code",
   "execution_count": 66,
   "id": "5c5c1ecf-d486-436a-86ca-f2e3eb1d8a82",
   "metadata": {},
   "outputs": [
    {
     "data": {
      "text/html": [
       "<div>\n",
       "<style scoped>\n",
       "    .dataframe tbody tr th:only-of-type {\n",
       "        vertical-align: middle;\n",
       "    }\n",
       "\n",
       "    .dataframe tbody tr th {\n",
       "        vertical-align: top;\n",
       "    }\n",
       "\n",
       "    .dataframe thead th {\n",
       "        text-align: right;\n",
       "    }\n",
       "</style>\n",
       "<table border=\"1\" class=\"dataframe\">\n",
       "  <thead>\n",
       "    <tr style=\"text-align: right;\">\n",
       "      <th></th>\n",
       "      <th>close</th>\n",
       "      <th>volume</th>\n",
       "      <th>formatted_date</th>\n",
       "    </tr>\n",
       "  </thead>\n",
       "  <tbody>\n",
       "    <tr>\n",
       "      <th>0</th>\n",
       "      <td>39.549999</td>\n",
       "      <td>1927914</td>\n",
       "      <td>2020-06-01</td>\n",
       "    </tr>\n",
       "    <tr>\n",
       "      <th>1</th>\n",
       "      <td>36.259998</td>\n",
       "      <td>2118960</td>\n",
       "      <td>2020-06-08</td>\n",
       "    </tr>\n",
       "    <tr>\n",
       "      <th>2</th>\n",
       "      <td>39.750000</td>\n",
       "      <td>1170882</td>\n",
       "      <td>2020-06-15</td>\n",
       "    </tr>\n",
       "    <tr>\n",
       "      <th>3</th>\n",
       "      <td>38.490002</td>\n",
       "      <td>1991836</td>\n",
       "      <td>2020-06-22</td>\n",
       "    </tr>\n",
       "    <tr>\n",
       "      <th>4</th>\n",
       "      <td>40.650002</td>\n",
       "      <td>1468238</td>\n",
       "      <td>2020-06-29</td>\n",
       "    </tr>\n",
       "  </tbody>\n",
       "</table>\n",
       "</div>"
      ],
      "text/plain": [
       "       close   volume formatted_date\n",
       "0  39.549999  1927914     2020-06-01\n",
       "1  36.259998  2118960     2020-06-08\n",
       "2  39.750000  1170882     2020-06-15\n",
       "3  38.490002  1991836     2020-06-22\n",
       "4  40.650002  1468238     2020-06-29"
      ]
     },
     "execution_count": 66,
     "metadata": {},
     "output_type": "execute_result"
    }
   ],
   "source": [
    "crude_prices_df.drop(['date','high','low','open','adjclose'],axis=1, inplace = True)\n",
    "crude_prices_df.head()"
   ]
  },
  {
   "cell_type": "code",
   "execution_count": 67,
   "id": "685335da-00a9-4ea6-bd3f-95137e513f0d",
   "metadata": {},
   "outputs": [
    {
     "data": {
      "text/html": [
       "<div>\n",
       "<style scoped>\n",
       "    .dataframe tbody tr th:only-of-type {\n",
       "        vertical-align: middle;\n",
       "    }\n",
       "\n",
       "    .dataframe tbody tr th {\n",
       "        vertical-align: top;\n",
       "    }\n",
       "\n",
       "    .dataframe thead th {\n",
       "        text-align: right;\n",
       "    }\n",
       "</style>\n",
       "<table border=\"1\" class=\"dataframe\">\n",
       "  <thead>\n",
       "    <tr style=\"text-align: right;\">\n",
       "      <th></th>\n",
       "      <th>Crude Close</th>\n",
       "      <th>Crude Volume</th>\n",
       "    </tr>\n",
       "    <tr>\n",
       "      <th>Date</th>\n",
       "      <th></th>\n",
       "      <th></th>\n",
       "    </tr>\n",
       "  </thead>\n",
       "  <tbody>\n",
       "    <tr>\n",
       "      <th>2020-06-01</th>\n",
       "      <td>39.549999</td>\n",
       "      <td>1927914</td>\n",
       "    </tr>\n",
       "    <tr>\n",
       "      <th>2020-06-08</th>\n",
       "      <td>36.259998</td>\n",
       "      <td>2118960</td>\n",
       "    </tr>\n",
       "    <tr>\n",
       "      <th>2020-06-15</th>\n",
       "      <td>39.750000</td>\n",
       "      <td>1170882</td>\n",
       "    </tr>\n",
       "    <tr>\n",
       "      <th>2020-06-22</th>\n",
       "      <td>38.490002</td>\n",
       "      <td>1991836</td>\n",
       "    </tr>\n",
       "    <tr>\n",
       "      <th>2020-06-29</th>\n",
       "      <td>40.650002</td>\n",
       "      <td>1468238</td>\n",
       "    </tr>\n",
       "  </tbody>\n",
       "</table>\n",
       "</div>"
      ],
      "text/plain": [
       "            Crude Close  Crude Volume\n",
       "Date                                 \n",
       "2020-06-01    39.549999       1927914\n",
       "2020-06-08    36.259998       2118960\n",
       "2020-06-15    39.750000       1170882\n",
       "2020-06-22    38.490002       1991836\n",
       "2020-06-29    40.650002       1468238"
      ]
     },
     "execution_count": 67,
     "metadata": {},
     "output_type": "execute_result"
    }
   ],
   "source": [
    "crude_prices_df.rename(columns = {'close':'Crude Close', 'volume':'Crude Volume','formatted_date':'Date'}, inplace = True)\n",
    "crude_prices_df.set_index('Date', inplace = True)\n",
    "crude_prices_df.head()"
   ]
  },
  {
   "cell_type": "code",
   "execution_count": 68,
   "id": "6c160c46-2d49-4af3-af50-ded0d7d25268",
   "metadata": {},
   "outputs": [
    {
     "data": {},
     "metadata": {},
     "output_type": "display_data"
    },
    {
     "data": {
      "application/vnd.holoviews_exec.v0+json": "",
      "text/html": [
       "<div id='2139'>\n",
       "\n",
       "\n",
       "\n",
       "\n",
       "\n",
       "  <div class=\"bk-root\" id=\"d7ca07a2-324e-4da4-b569-b04eaa78fdb6\" data-root-id=\"2139\"></div>\n",
       "</div>\n",
       "<script type=\"application/javascript\">(function(root) {\n",
       "  function embed_document(root) {\n",
       "    var docs_json = {\"201b4ebe-b5c6-4251-86a1-2ed732f16e04\":{\"defs\":[{\"extends\":null,\"module\":null,\"name\":\"ReactiveHTML1\",\"overrides\":[],\"properties\":[]},{\"extends\":null,\"module\":null,\"name\":\"FlexBox1\",\"overrides\":[],\"properties\":[{\"default\":\"flex-start\",\"kind\":null,\"name\":\"align_content\"},{\"default\":\"flex-start\",\"kind\":null,\"name\":\"align_items\"},{\"default\":\"row\",\"kind\":null,\"name\":\"flex_direction\"},{\"default\":\"wrap\",\"kind\":null,\"name\":\"flex_wrap\"},{\"default\":\"flex-start\",\"kind\":null,\"name\":\"justify_content\"}]},{\"extends\":null,\"module\":null,\"name\":\"GridStack1\",\"overrides\":[],\"properties\":[{\"default\":\"warn\",\"kind\":null,\"name\":\"mode\"},{\"default\":null,\"kind\":null,\"name\":\"ncols\"},{\"default\":null,\"kind\":null,\"name\":\"nrows\"},{\"default\":true,\"kind\":null,\"name\":\"allow_resize\"},{\"default\":true,\"kind\":null,\"name\":\"allow_drag\"},{\"default\":[],\"kind\":null,\"name\":\"state\"}]},{\"extends\":null,\"module\":null,\"name\":\"click1\",\"overrides\":[],\"properties\":[{\"default\":\"\",\"kind\":null,\"name\":\"terminal_output\"},{\"default\":\"\",\"kind\":null,\"name\":\"debug_name\"},{\"default\":0,\"kind\":null,\"name\":\"clears\"}]},{\"extends\":null,\"module\":null,\"name\":\"TemplateActions1\",\"overrides\":[],\"properties\":[{\"default\":0,\"kind\":null,\"name\":\"open_modal\"},{\"default\":0,\"kind\":null,\"name\":\"close_modal\"}]},{\"extends\":null,\"module\":null,\"name\":\"MaterialTemplateActions1\",\"overrides\":[],\"properties\":[{\"default\":0,\"kind\":null,\"name\":\"open_modal\"},{\"default\":0,\"kind\":null,\"name\":\"close_modal\"}]}],\"roots\":{\"references\":[{\"attributes\":{\"margin\":[5,5,5,5],\"name\":\"HSpacer03966\",\"sizing_mode\":\"stretch_width\"},\"id\":\"2331\",\"type\":\"Spacer\"},{\"attributes\":{\"margin\":[5,5,5,5],\"name\":\"HSpacer03965\",\"sizing_mode\":\"stretch_width\"},\"id\":\"2140\",\"type\":\"Spacer\"},{\"attributes\":{\"source\":{\"id\":\"2201\"}},\"id\":\"2208\",\"type\":\"CDSView\"},{\"attributes\":{\"callback\":null,\"renderers\":[{\"id\":\"2186\"},{\"id\":\"2207\"}],\"tags\":[\"hv_created\"],\"tooltips\":[[\"Variable\",\"@{Variable}\"],[\"Date\",\"@{Date}\"],[\"value\",\"@{value}\"]]},\"id\":\"2143\",\"type\":\"HoverTool\"},{\"attributes\":{\"overlay\":{\"id\":\"2166\"}},\"id\":\"2164\",\"type\":\"BoxZoomTool\"},{\"attributes\":{},\"id\":\"2165\",\"type\":\"ResetTool\"},{\"attributes\":{\"coordinates\":null,\"data_source\":{\"id\":\"2201\"},\"glyph\":{\"id\":\"2204\"},\"group\":null,\"hover_glyph\":null,\"muted_glyph\":{\"id\":\"2206\"},\"nonselection_glyph\":{\"id\":\"2205\"},\"selection_glyph\":{\"id\":\"2222\"},\"view\":{\"id\":\"2208\"}},\"id\":\"2207\",\"type\":\"GlyphRenderer\"},{\"attributes\":{\"line_alpha\":0.2,\"line_color\":\"#30a2da\",\"line_width\":2,\"x\":{\"field\":\"Date\"},\"y\":{\"field\":\"value\"}},\"id\":\"2185\",\"type\":\"Line\"},{\"attributes\":{\"children\":[{\"id\":\"2140\"},{\"id\":\"2145\"},{\"id\":\"2331\"}],\"margin\":[0,0,0,0],\"name\":\"Row03961\",\"tags\":[\"embedded\"]},\"id\":\"2139\",\"type\":\"Row\"},{\"attributes\":{},\"id\":\"2176\",\"type\":\"AllLabels\"},{\"attributes\":{\"line_alpha\":0.2,\"line_color\":\"#fc4f30\",\"line_width\":2,\"x\":{\"field\":\"Date\"},\"y\":{\"field\":\"value\"}},\"id\":\"2206\",\"type\":\"Line\"},{\"attributes\":{},\"id\":\"2179\",\"type\":\"AllLabels\"},{\"attributes\":{\"below\":[{\"id\":\"2154\"}],\"center\":[{\"id\":\"2156\"},{\"id\":\"2160\"}],\"height\":300,\"left\":[{\"id\":\"2157\"}],\"margin\":[5,5,5,5],\"min_border_bottom\":10,\"min_border_left\":10,\"min_border_right\":10,\"min_border_top\":10,\"renderers\":[{\"id\":\"2186\"},{\"id\":\"2207\"}],\"right\":[{\"id\":\"2198\"}],\"sizing_mode\":\"fixed\",\"title\":{\"id\":\"2146\"},\"toolbar\":{\"id\":\"2167\"},\"width\":700,\"x_range\":{\"id\":\"2141\"},\"x_scale\":{\"id\":\"2150\"},\"y_range\":{\"id\":\"2142\"},\"y_scale\":{\"id\":\"2152\"}},\"id\":\"2145\",\"subtype\":\"Figure\",\"type\":\"Plot\"},{\"attributes\":{\"data\":{\"Date\":[\"2020-06-01\",\"2020-06-08\",\"2020-06-15\",\"2020-06-22\",\"2020-06-29\",\"2020-07-06\",\"2020-07-13\",\"2020-07-20\",\"2020-07-27\",\"2020-08-03\",\"2020-08-10\",\"2020-08-17\",\"2020-08-24\",\"2020-08-31\",\"2020-09-07\",\"2020-09-14\",\"2020-09-21\",\"2020-09-28\",\"2020-10-05\",\"2020-10-12\",\"2020-10-19\",\"2020-10-26\",\"2020-11-02\",\"2020-11-09\",\"2020-11-16\",\"2020-11-23\",\"2020-11-30\",\"2020-12-07\",\"2020-12-14\",\"2020-12-21\",\"2020-12-28\",\"2021-01-04\",\"2021-01-11\",\"2021-01-18\",\"2021-01-25\",\"2021-02-01\",\"2021-02-08\",\"2021-02-15\",\"2021-02-22\",\"2021-03-01\",\"2021-03-08\",\"2021-03-15\",\"2021-03-22\",\"2021-03-29\",\"2021-04-05\",\"2021-04-12\",\"2021-04-19\",\"2021-04-26\",\"2021-05-03\",\"2021-05-10\",\"2021-05-17\",\"2021-05-24\",\"2021-05-31\",\"2021-06-07\",\"2021-06-14\",\"2021-06-21\",\"2021-06-28\",\"2021-07-05\",\"2021-07-12\",\"2021-07-19\",\"2021-07-26\",\"2021-08-02\",\"2021-08-09\",\"2021-08-16\",\"2021-08-23\",\"2021-08-30\",\"2021-09-06\",\"2021-09-13\",\"2021-09-20\",\"2021-09-27\",\"2021-10-04\",\"2021-10-11\",\"2021-10-18\",\"2021-10-25\",\"2021-11-01\",\"2021-11-08\",\"2021-11-15\",\"2021-11-22\",\"2021-11-29\",\"2021-12-06\",\"2021-12-13\",\"2021-12-20\",\"2021-12-27\",\"2022-01-03\",\"2022-01-10\",\"2022-01-17\",\"2022-01-24\",\"2022-01-31\",\"2022-02-07\",\"2022-02-14\",\"2022-02-21\",\"2022-02-28\",\"2022-03-07\",\"2022-03-14\",\"2022-03-21\",\"2022-03-28\",\"2022-04-04\",\"2022-04-11\",\"2022-04-18\",\"2022-04-25\",\"2022-05-02\",\"2022-05-09\",\"2022-05-16\",\"2022-05-23\",\"2022-05-30\"],\"Variable\":[\"Crude Volume\",\"Crude Volume\",\"Crude Volume\",\"Crude Volume\",\"Crude Volume\",\"Crude Volume\",\"Crude Volume\",\"Crude Volume\",\"Crude Volume\",\"Crude Volume\",\"Crude Volume\",\"Crude Volume\",\"Crude Volume\",\"Crude Volume\",\"Crude Volume\",\"Crude Volume\",\"Crude Volume\",\"Crude Volume\",\"Crude Volume\",\"Crude Volume\",\"Crude Volume\",\"Crude Volume\",\"Crude Volume\",\"Crude Volume\",\"Crude Volume\",\"Crude Volume\",\"Crude Volume\",\"Crude Volume\",\"Crude Volume\",\"Crude Volume\",\"Crude Volume\",\"Crude Volume\",\"Crude Volume\",\"Crude Volume\",\"Crude Volume\",\"Crude Volume\",\"Crude Volume\",\"Crude Volume\",\"Crude Volume\",\"Crude Volume\",\"Crude Volume\",\"Crude Volume\",\"Crude Volume\",\"Crude Volume\",\"Crude Volume\",\"Crude Volume\",\"Crude Volume\",\"Crude Volume\",\"Crude Volume\",\"Crude Volume\",\"Crude Volume\",\"Crude Volume\",\"Crude Volume\",\"Crude Volume\",\"Crude Volume\",\"Crude Volume\",\"Crude Volume\",\"Crude Volume\",\"Crude Volume\",\"Crude Volume\",\"Crude Volume\",\"Crude Volume\",\"Crude Volume\",\"Crude Volume\",\"Crude Volume\",\"Crude Volume\",\"Crude Volume\",\"Crude Volume\",\"Crude Volume\",\"Crude Volume\",\"Crude Volume\",\"Crude Volume\",\"Crude Volume\",\"Crude Volume\",\"Crude Volume\",\"Crude Volume\",\"Crude Volume\",\"Crude Volume\",\"Crude Volume\",\"Crude Volume\",\"Crude Volume\",\"Crude Volume\",\"Crude Volume\",\"Crude Volume\",\"Crude Volume\",\"Crude Volume\",\"Crude Volume\",\"Crude Volume\",\"Crude Volume\",\"Crude Volume\",\"Crude Volume\",\"Crude Volume\",\"Crude Volume\",\"Crude Volume\",\"Crude Volume\",\"Crude Volume\",\"Crude Volume\",\"Crude Volume\",\"Crude Volume\",\"Crude Volume\",\"Crude Volume\",\"Crude Volume\",\"Crude Volume\",\"Crude Volume\",\"Crude Volume\"],\"value\":[1927914,2118960,1170882,1991836,1468238,1677107,1438549,1525514,1756486,2039776,1838843,1123794,1481542,1805612,1907673,1430611,1171773,1781188,1953665,1370539,1379233,2147460,2046207,2262956,1093959,1501554,1740749,1931322,1170290,1285531,901091,2549789,1780675,1316146,1928310,2110715,2233224,1172213,2549463,2653919,2349205,1178038,2735079,2462844,2143098,1510929,1672023,1901088,1936874,2403245,1592725,2068251,1581597,2273782,1595813,1750978,2052984,2273859,1872974,1857183,1645939,2494529,2188297,1144590,1757262,1802547,1838559,1642180,1604088,2290350,2573696,2416923,1780256,2565287,2620667,2319740,1551055,2475081,3118279,2153522,1281061,1427928,1270056,1979473,2021601,1682543,2342532,2069481,2457272,1674099,2776034,2927369,2560019,1324831,1312570,1819617,1611850,1202364,965746,1565234,1355247,1705170,943867,1083820,440796]},\"selected\":{\"id\":\"2202\"},\"selection_policy\":{\"id\":\"2218\"}},\"id\":\"2201\",\"type\":\"ColumnDataSource\"},{\"attributes\":{\"coordinates\":null,\"group\":null,\"text_color\":\"black\",\"text_font_size\":\"12pt\"},\"id\":\"2146\",\"type\":\"Title\"},{\"attributes\":{},\"id\":\"2163\",\"type\":\"WheelZoomTool\"},{\"attributes\":{},\"id\":\"2152\",\"type\":\"LinearScale\"},{\"attributes\":{},\"id\":\"2150\",\"type\":\"CategoricalScale\"},{\"attributes\":{\"click_policy\":\"mute\",\"coordinates\":null,\"group\":null,\"items\":[{\"id\":\"2199\"},{\"id\":\"2221\"}],\"location\":[0,0],\"title\":\"Variable\"},\"id\":\"2198\",\"type\":\"Legend\"},{\"attributes\":{\"bottom_units\":\"screen\",\"coordinates\":null,\"fill_alpha\":0.5,\"fill_color\":\"lightgrey\",\"group\":null,\"left_units\":\"screen\",\"level\":\"overlay\",\"line_alpha\":1.0,\"line_color\":\"black\",\"line_dash\":[4,4],\"line_width\":2,\"right_units\":\"screen\",\"syncable\":false,\"top_units\":\"screen\"},\"id\":\"2166\",\"type\":\"BoxAnnotation\"},{\"attributes\":{},\"id\":\"2158\",\"type\":\"BasicTicker\"},{\"attributes\":{},\"id\":\"2175\",\"type\":\"CategoricalTickFormatter\"},{\"attributes\":{},\"id\":\"2155\",\"type\":\"CategoricalTicker\"},{\"attributes\":{\"source\":{\"id\":\"2180\"}},\"id\":\"2187\",\"type\":\"CDSView\"},{\"attributes\":{\"factors\":[\"2020-06-01\",\"2020-06-08\",\"2020-06-15\",\"2020-06-22\",\"2020-06-29\",\"2020-07-06\",\"2020-07-13\",\"2020-07-20\",\"2020-07-27\",\"2020-08-03\",\"2020-08-10\",\"2020-08-17\",\"2020-08-24\",\"2020-08-31\",\"2020-09-07\",\"2020-09-14\",\"2020-09-21\",\"2020-09-28\",\"2020-10-05\",\"2020-10-12\",\"2020-10-19\",\"2020-10-26\",\"2020-11-02\",\"2020-11-09\",\"2020-11-16\",\"2020-11-23\",\"2020-11-30\",\"2020-12-07\",\"2020-12-14\",\"2020-12-21\",\"2020-12-28\",\"2021-01-04\",\"2021-01-11\",\"2021-01-18\",\"2021-01-25\",\"2021-02-01\",\"2021-02-08\",\"2021-02-15\",\"2021-02-22\",\"2021-03-01\",\"2021-03-08\",\"2021-03-15\",\"2021-03-22\",\"2021-03-29\",\"2021-04-05\",\"2021-04-12\",\"2021-04-19\",\"2021-04-26\",\"2021-05-03\",\"2021-05-10\",\"2021-05-17\",\"2021-05-24\",\"2021-05-31\",\"2021-06-07\",\"2021-06-14\",\"2021-06-21\",\"2021-06-28\",\"2021-07-05\",\"2021-07-12\",\"2021-07-19\",\"2021-07-26\",\"2021-08-02\",\"2021-08-09\",\"2021-08-16\",\"2021-08-23\",\"2021-08-30\",\"2021-09-06\",\"2021-09-13\",\"2021-09-20\",\"2021-09-27\",\"2021-10-04\",\"2021-10-11\",\"2021-10-18\",\"2021-10-25\",\"2021-11-01\",\"2021-11-08\",\"2021-11-15\",\"2021-11-22\",\"2021-11-29\",\"2021-12-06\",\"2021-12-13\",\"2021-12-20\",\"2021-12-27\",\"2022-01-03\",\"2022-01-10\",\"2022-01-17\",\"2022-01-24\",\"2022-01-31\",\"2022-02-07\",\"2022-02-14\",\"2022-02-21\",\"2022-02-28\",\"2022-03-07\",\"2022-03-14\",\"2022-03-21\",\"2022-03-28\",\"2022-04-04\",\"2022-04-11\",\"2022-04-18\",\"2022-04-25\",\"2022-05-02\",\"2022-05-09\",\"2022-05-16\",\"2022-05-23\",\"2022-05-30\"],\"tags\":[[[\"Date\",\"Date\",null]]]},\"id\":\"2141\",\"type\":\"FactorRange\"},{\"attributes\":{\"axis_label\":\"\",\"coordinates\":null,\"formatter\":{\"id\":\"2178\"},\"group\":null,\"major_label_policy\":{\"id\":\"2179\"},\"ticker\":{\"id\":\"2158\"}},\"id\":\"2157\",\"type\":\"LinearAxis\"},{\"attributes\":{},\"id\":\"2181\",\"type\":\"Selection\"},{\"attributes\":{},\"id\":\"2202\",\"type\":\"Selection\"},{\"attributes\":{\"axis_label\":\"Date\",\"coordinates\":null,\"formatter\":{\"id\":\"2175\"},\"group\":null,\"major_label_policy\":{\"id\":\"2176\"},\"ticker\":{\"id\":\"2155\"}},\"id\":\"2154\",\"type\":\"CategoricalAxis\"},{\"attributes\":{\"axis\":{\"id\":\"2157\"},\"coordinates\":null,\"dimension\":1,\"grid_line_color\":null,\"group\":null,\"ticker\":null},\"id\":\"2160\",\"type\":\"Grid\"},{\"attributes\":{\"line_color\":\"#30a2da\",\"line_width\":2,\"x\":{\"field\":\"Date\"},\"y\":{\"field\":\"value\"}},\"id\":\"2200\",\"type\":\"Line\"},{\"attributes\":{\"line_color\":\"#fc4f30\",\"line_width\":2,\"x\":{\"field\":\"Date\"},\"y\":{\"field\":\"value\"}},\"id\":\"2204\",\"type\":\"Line\"},{\"attributes\":{\"label\":{\"value\":\"Crude Volume\"},\"renderers\":[{\"id\":\"2207\"}]},\"id\":\"2221\",\"type\":\"LegendItem\"},{\"attributes\":{\"line_alpha\":0.1,\"line_color\":\"#fc4f30\",\"line_width\":2,\"x\":{\"field\":\"Date\"},\"y\":{\"field\":\"value\"}},\"id\":\"2205\",\"type\":\"Line\"},{\"attributes\":{},\"id\":\"2195\",\"type\":\"UnionRenderers\"},{\"attributes\":{\"data\":{\"Date\":[\"2020-06-01\",\"2020-06-08\",\"2020-06-15\",\"2020-06-22\",\"2020-06-29\",\"2020-07-06\",\"2020-07-13\",\"2020-07-20\",\"2020-07-27\",\"2020-08-03\",\"2020-08-10\",\"2020-08-17\",\"2020-08-24\",\"2020-08-31\",\"2020-09-07\",\"2020-09-14\",\"2020-09-21\",\"2020-09-28\",\"2020-10-05\",\"2020-10-12\",\"2020-10-19\",\"2020-10-26\",\"2020-11-02\",\"2020-11-09\",\"2020-11-16\",\"2020-11-23\",\"2020-11-30\",\"2020-12-07\",\"2020-12-14\",\"2020-12-21\",\"2020-12-28\",\"2021-01-04\",\"2021-01-11\",\"2021-01-18\",\"2021-01-25\",\"2021-02-01\",\"2021-02-08\",\"2021-02-15\",\"2021-02-22\",\"2021-03-01\",\"2021-03-08\",\"2021-03-15\",\"2021-03-22\",\"2021-03-29\",\"2021-04-05\",\"2021-04-12\",\"2021-04-19\",\"2021-04-26\",\"2021-05-03\",\"2021-05-10\",\"2021-05-17\",\"2021-05-24\",\"2021-05-31\",\"2021-06-07\",\"2021-06-14\",\"2021-06-21\",\"2021-06-28\",\"2021-07-05\",\"2021-07-12\",\"2021-07-19\",\"2021-07-26\",\"2021-08-02\",\"2021-08-09\",\"2021-08-16\",\"2021-08-23\",\"2021-08-30\",\"2021-09-06\",\"2021-09-13\",\"2021-09-20\",\"2021-09-27\",\"2021-10-04\",\"2021-10-11\",\"2021-10-18\",\"2021-10-25\",\"2021-11-01\",\"2021-11-08\",\"2021-11-15\",\"2021-11-22\",\"2021-11-29\",\"2021-12-06\",\"2021-12-13\",\"2021-12-20\",\"2021-12-27\",\"2022-01-03\",\"2022-01-10\",\"2022-01-17\",\"2022-01-24\",\"2022-01-31\",\"2022-02-07\",\"2022-02-14\",\"2022-02-21\",\"2022-02-28\",\"2022-03-07\",\"2022-03-14\",\"2022-03-21\",\"2022-03-28\",\"2022-04-04\",\"2022-04-11\",\"2022-04-18\",\"2022-04-25\",\"2022-05-02\",\"2022-05-09\",\"2022-05-16\",\"2022-05-23\",\"2022-05-30\"],\"Variable\":[\"Crude Close\",\"Crude Close\",\"Crude Close\",\"Crude Close\",\"Crude Close\",\"Crude Close\",\"Crude Close\",\"Crude Close\",\"Crude Close\",\"Crude Close\",\"Crude Close\",\"Crude Close\",\"Crude Close\",\"Crude Close\",\"Crude Close\",\"Crude Close\",\"Crude Close\",\"Crude Close\",\"Crude Close\",\"Crude Close\",\"Crude Close\",\"Crude Close\",\"Crude Close\",\"Crude Close\",\"Crude Close\",\"Crude Close\",\"Crude Close\",\"Crude Close\",\"Crude Close\",\"Crude Close\",\"Crude Close\",\"Crude Close\",\"Crude Close\",\"Crude Close\",\"Crude Close\",\"Crude Close\",\"Crude Close\",\"Crude Close\",\"Crude Close\",\"Crude Close\",\"Crude Close\",\"Crude Close\",\"Crude Close\",\"Crude Close\",\"Crude Close\",\"Crude Close\",\"Crude Close\",\"Crude Close\",\"Crude Close\",\"Crude Close\",\"Crude Close\",\"Crude Close\",\"Crude Close\",\"Crude Close\",\"Crude Close\",\"Crude Close\",\"Crude Close\",\"Crude Close\",\"Crude Close\",\"Crude Close\",\"Crude Close\",\"Crude Close\",\"Crude Close\",\"Crude Close\",\"Crude Close\",\"Crude Close\",\"Crude Close\",\"Crude Close\",\"Crude Close\",\"Crude Close\",\"Crude Close\",\"Crude Close\",\"Crude Close\",\"Crude Close\",\"Crude Close\",\"Crude Close\",\"Crude Close\",\"Crude Close\",\"Crude Close\",\"Crude Close\",\"Crude Close\",\"Crude Close\",\"Crude Close\",\"Crude Close\",\"Crude Close\",\"Crude Close\",\"Crude Close\",\"Crude Close\",\"Crude Close\",\"Crude Close\",\"Crude Close\",\"Crude Close\",\"Crude Close\",\"Crude Close\",\"Crude Close\",\"Crude Close\",\"Crude Close\",\"Crude Close\",\"Crude Close\",\"Crude Close\",\"Crude Close\",\"Crude Close\",\"Crude Close\",\"Crude Close\",\"Crude Close\"],\"value\":{\"__ndarray__\":\"AAAAYGbGQ0AAAACgRyFCQAAAAAAA4ENAAAAAYLg+Q0AAAABAM1NEQAAAAGBmRkRAAAAAIIVLREAAAADAHqVEQAAAAGCPIkRAAAAAACmcREAAAACgRwFFQAAAACCFK0VAAAAAACl8RUAAAABgj+JDQAAAAIA9qkJAAAAAgBSOREAAAAAAACBEQAAAAGBmhkJAAAAAwMxMREAAAADgo3BEQAAAAMDM7ENAAAAAwB7lQUAAAACA65FCQAAAAOCjEERAAAAAQDMTRUAAAAAA18NGQAAAAKBHIUdAAAAAwPVIR0AAAADAzIxIQAAAAKBwHUhAAAAAYI9CSEAAAABguB5KQAAAAIAULkpAAAAAYI8iSkAAAACgmRlKQAAAAMDMbExAAAAAACm8TUAAAABguJ5NQAAAAAAAwE5AAAAAgMKFUEAAAABACmdQQAAAAIDCtU5AAAAAACl8TkAAAACgmblOQAAAAMD1qE1AAAAA4KOQT0AAAACA6xFPQAAAAIA9yk9AAAAAoJk5UEAAAAAgrldQQAAAAIA9yk9AAAAA4HqUUEAAAAAgrmdRQAAAAIA9ulFAAAAAwPXoUUAAAABAM4NSQAAAAIA9ylJAAAAAANejUkAAAAAA1/NRQAAAAOB6BFJAAAAAwMx8UkAAAACA6xFRQAAAAAApHFFAAAAAwPUoT0AAAAAgXC9RQAAAAGCPUlFAAAAAgBRuUUAAAACAFP5RQAAAAGC4flJAAAAA4FH4UkAAAABgZtZTQAAAAIDrkVRAAAAA4KPwVEAAAADgeuRUQAAAAKBHUVRAAAAAYI8yVEAAAABgZgZTQAAAAKCZCVFAAAAA4KOQUEAAAABA4epRQAAAAEAKt1FAAAAAYI9yUkAAAACgcM1SQAAAAKCZuVNAAAAA4Hr0VEAAAADA9UhVQAAAAOB6tFVAAAAAANcTV0AAAABgZkZXQAAAAOB6xFZAAAAAgMLlVkAAAAAghetcQAAAAMAeVVtAAAAAwMwsWkAAAACgmXlcQAAAAKBH0VhAAAAA4KOQWEAAAADAzLxaQAAAAOB6hFlAAAAAACksWkAAAACgR3FbQAAAACBcn1tAAAAAYLhOXEAAAADgesRcQAAAAEDhqlxA\",\"dtype\":\"float64\",\"order\":\"little\",\"shape\":[105]}},\"selected\":{\"id\":\"2181\"},\"selection_policy\":{\"id\":\"2195\"}},\"id\":\"2180\",\"type\":\"ColumnDataSource\"},{\"attributes\":{\"label\":{\"value\":\"Crude Close\"},\"renderers\":[{\"id\":\"2186\"}]},\"id\":\"2199\",\"type\":\"LegendItem\"},{\"attributes\":{},\"id\":\"2218\",\"type\":\"UnionRenderers\"},{\"attributes\":{},\"id\":\"2178\",\"type\":\"BasicTickFormatter\"},{\"attributes\":{\"axis\":{\"id\":\"2154\"},\"coordinates\":null,\"grid_line_color\":null,\"group\":null,\"ticker\":null},\"id\":\"2156\",\"type\":\"Grid\"},{\"attributes\":{\"line_color\":\"#30a2da\",\"line_width\":2,\"x\":{\"field\":\"Date\"},\"y\":{\"field\":\"value\"}},\"id\":\"2183\",\"type\":\"Line\"},{\"attributes\":{\"line_color\":\"#fc4f30\",\"line_width\":2,\"x\":{\"field\":\"Date\"},\"y\":{\"field\":\"value\"}},\"id\":\"2222\",\"type\":\"Line\"},{\"attributes\":{\"tools\":[{\"id\":\"2143\"},{\"id\":\"2161\"},{\"id\":\"2162\"},{\"id\":\"2163\"},{\"id\":\"2164\"},{\"id\":\"2165\"}]},\"id\":\"2167\",\"type\":\"Toolbar\"},{\"attributes\":{},\"id\":\"2161\",\"type\":\"SaveTool\"},{\"attributes\":{\"line_alpha\":0.1,\"line_color\":\"#30a2da\",\"line_width\":2,\"x\":{\"field\":\"Date\"},\"y\":{\"field\":\"value\"}},\"id\":\"2184\",\"type\":\"Line\"},{\"attributes\":{},\"id\":\"2162\",\"type\":\"PanTool\"},{\"attributes\":{\"end\":3430103.3209999083,\"reset_end\":3430103.3209999083,\"reset_start\":-311788.5309989929,\"start\":-311788.5309989929,\"tags\":[[[\"value\",\"value\",null]]]},\"id\":\"2142\",\"type\":\"Range1d\"},{\"attributes\":{\"coordinates\":null,\"data_source\":{\"id\":\"2180\"},\"glyph\":{\"id\":\"2183\"},\"group\":null,\"hover_glyph\":null,\"muted_glyph\":{\"id\":\"2185\"},\"nonselection_glyph\":{\"id\":\"2184\"},\"selection_glyph\":{\"id\":\"2200\"},\"view\":{\"id\":\"2187\"}},\"id\":\"2186\",\"type\":\"GlyphRenderer\"}],\"root_ids\":[\"2139\"]},\"title\":\"Bokeh Application\",\"version\":\"2.4.1\"}};\n",
       "    var render_items = [{\"docid\":\"201b4ebe-b5c6-4251-86a1-2ed732f16e04\",\"root_ids\":[\"2139\"],\"roots\":{\"2139\":\"d7ca07a2-324e-4da4-b569-b04eaa78fdb6\"}}];\n",
       "    root.Bokeh.embed.embed_items_notebook(docs_json, render_items);\n",
       "  }\n",
       "  if (root.Bokeh !== undefined && root.Bokeh.Panel !== undefined) {\n",
       "    embed_document(root);\n",
       "  } else {\n",
       "    var attempts = 0;\n",
       "    var timer = setInterval(function(root) {\n",
       "      if (root.Bokeh !== undefined && root.Bokeh.Panel !== undefined) {\n",
       "        clearInterval(timer);\n",
       "        embed_document(root);\n",
       "      } else if (document.readyState == \"complete\") {\n",
       "        attempts++;\n",
       "        if (attempts > 200) {\n",
       "          clearInterval(timer);\n",
       "          console.log(\"Bokeh: ERROR: Unable to run BokehJS code because BokehJS library is missing\");\n",
       "        }\n",
       "      }\n",
       "    }, 25, root)\n",
       "  }\n",
       "})(window);</script>"
      ],
      "text/plain": [
       ":NdOverlay   [Variable]\n",
       "   :Curve   [Date]   (value)"
      ]
     },
     "execution_count": 68,
     "metadata": {
      "application/vnd.holoviews_exec.v0+json": {
       "id": "2139"
      }
     },
     "output_type": "execute_result"
    }
   ],
   "source": [
    "crude_prices_df.hvplot()"
   ]
  },
  {
   "cell_type": "code",
   "execution_count": 69,
   "id": "63dd0edc-f6ee-4f9a-ab9d-c17f74feafc2",
   "metadata": {},
   "outputs": [],
   "source": [
    "yahoo_financials = YahooFinancials('GC=F')\n",
    "gold_prices=(yahoo_financials.get_historical_price_data(\"2020-06-01\", \"2022-06-01\", \"weekly\"))\n",
    "#print(gold_prices)"
   ]
  },
  {
   "cell_type": "code",
   "execution_count": 70,
   "id": "2a0d0f1a-05ed-4dd8-87af-20e748a9c183",
   "metadata": {},
   "outputs": [],
   "source": [
    "json_object= json.dumps(gold_prices['GC=F']['prices'], indent = 4)\n",
    "with open(\"sample.json\", \"w\") as outfile:\n",
    "    outfile.write(json_object)"
   ]
  },
  {
   "cell_type": "code",
   "execution_count": 71,
   "id": "6b70f181-09e6-45e2-94d0-ae9115e11c55",
   "metadata": {},
   "outputs": [],
   "source": [
    "gold_prices = pd.read_json('sample.json')"
   ]
  },
  {
   "cell_type": "code",
   "execution_count": 72,
   "id": "c21c3b0b-3fdb-4bd2-8b7a-ab83bddd314c",
   "metadata": {},
   "outputs": [
    {
     "data": {
      "text/plain": [
       "(105, 8)"
      ]
     },
     "execution_count": 72,
     "metadata": {},
     "output_type": "execute_result"
    }
   ],
   "source": [
    "gold_prices.shape"
   ]
  },
  {
   "cell_type": "code",
   "execution_count": 73,
   "id": "a10edada-afc1-4016-b27a-f866f21f2804",
   "metadata": {},
   "outputs": [
    {
     "data": {
      "text/html": [
       "<div>\n",
       "<style scoped>\n",
       "    .dataframe tbody tr th:only-of-type {\n",
       "        vertical-align: middle;\n",
       "    }\n",
       "\n",
       "    .dataframe tbody tr th {\n",
       "        vertical-align: top;\n",
       "    }\n",
       "\n",
       "    .dataframe thead th {\n",
       "        text-align: right;\n",
       "    }\n",
       "</style>\n",
       "<table border=\"1\" class=\"dataframe\">\n",
       "  <thead>\n",
       "    <tr style=\"text-align: right;\">\n",
       "      <th></th>\n",
       "      <th>date</th>\n",
       "      <th>high</th>\n",
       "      <th>low</th>\n",
       "      <th>open</th>\n",
       "      <th>close</th>\n",
       "      <th>volume</th>\n",
       "      <th>adjclose</th>\n",
       "      <th>formatted_date</th>\n",
       "    </tr>\n",
       "  </thead>\n",
       "  <tbody>\n",
       "    <tr>\n",
       "      <th>0</th>\n",
       "      <td>2020-06-01 04:00:00</td>\n",
       "      <td>1747.000000</td>\n",
       "      <td>1668.599976</td>\n",
       "      <td>1740.400024</td>\n",
       "      <td>1676.199951</td>\n",
       "      <td>6676</td>\n",
       "      <td>1676.199951</td>\n",
       "      <td>2020-06-01</td>\n",
       "    </tr>\n",
       "    <tr>\n",
       "      <th>1</th>\n",
       "      <td>2020-06-08 04:00:00</td>\n",
       "      <td>1744.099976</td>\n",
       "      <td>1675.900024</td>\n",
       "      <td>1679.099976</td>\n",
       "      <td>1729.300049</td>\n",
       "      <td>2660</td>\n",
       "      <td>1729.300049</td>\n",
       "      <td>2020-06-08</td>\n",
       "    </tr>\n",
       "    <tr>\n",
       "      <th>2</th>\n",
       "      <td>2020-06-15 04:00:00</td>\n",
       "      <td>1750.699951</td>\n",
       "      <td>1703.300049</td>\n",
       "      <td>1730.000000</td>\n",
       "      <td>1745.900024</td>\n",
       "      <td>1700</td>\n",
       "      <td>1745.900024</td>\n",
       "      <td>2020-06-15</td>\n",
       "    </tr>\n",
       "    <tr>\n",
       "      <th>3</th>\n",
       "      <td>2020-06-22 04:00:00</td>\n",
       "      <td>1783.099976</td>\n",
       "      <td>1750.500000</td>\n",
       "      <td>1755.199951</td>\n",
       "      <td>1772.500000</td>\n",
       "      <td>3830</td>\n",
       "      <td>1772.500000</td>\n",
       "      <td>2020-06-22</td>\n",
       "    </tr>\n",
       "    <tr>\n",
       "      <th>4</th>\n",
       "      <td>2020-06-29 04:00:00</td>\n",
       "      <td>1798.000000</td>\n",
       "      <td>1765.800049</td>\n",
       "      <td>1779.800049</td>\n",
       "      <td>1784.000000</td>\n",
       "      <td>2116</td>\n",
       "      <td>1784.000000</td>\n",
       "      <td>2020-06-29</td>\n",
       "    </tr>\n",
       "  </tbody>\n",
       "</table>\n",
       "</div>"
      ],
      "text/plain": [
       "                 date         high          low         open        close  \\\n",
       "0 2020-06-01 04:00:00  1747.000000  1668.599976  1740.400024  1676.199951   \n",
       "1 2020-06-08 04:00:00  1744.099976  1675.900024  1679.099976  1729.300049   \n",
       "2 2020-06-15 04:00:00  1750.699951  1703.300049  1730.000000  1745.900024   \n",
       "3 2020-06-22 04:00:00  1783.099976  1750.500000  1755.199951  1772.500000   \n",
       "4 2020-06-29 04:00:00  1798.000000  1765.800049  1779.800049  1784.000000   \n",
       "\n",
       "   volume     adjclose formatted_date  \n",
       "0    6676  1676.199951     2020-06-01  \n",
       "1    2660  1729.300049     2020-06-08  \n",
       "2    1700  1745.900024     2020-06-15  \n",
       "3    3830  1772.500000     2020-06-22  \n",
       "4    2116  1784.000000     2020-06-29  "
      ]
     },
     "execution_count": 73,
     "metadata": {},
     "output_type": "execute_result"
    }
   ],
   "source": [
    "gold_prices_df = pd.DataFrame(gold_prices)\n",
    "gold_prices_df.head()"
   ]
  },
  {
   "cell_type": "code",
   "execution_count": 74,
   "id": "10c389bb-755f-44b3-9460-faec3ad088de",
   "metadata": {},
   "outputs": [
    {
     "data": {
      "text/html": [
       "<div>\n",
       "<style scoped>\n",
       "    .dataframe tbody tr th:only-of-type {\n",
       "        vertical-align: middle;\n",
       "    }\n",
       "\n",
       "    .dataframe tbody tr th {\n",
       "        vertical-align: top;\n",
       "    }\n",
       "\n",
       "    .dataframe thead th {\n",
       "        text-align: right;\n",
       "    }\n",
       "</style>\n",
       "<table border=\"1\" class=\"dataframe\">\n",
       "  <thead>\n",
       "    <tr style=\"text-align: right;\">\n",
       "      <th></th>\n",
       "      <th>close</th>\n",
       "      <th>volume</th>\n",
       "      <th>formatted_date</th>\n",
       "    </tr>\n",
       "  </thead>\n",
       "  <tbody>\n",
       "    <tr>\n",
       "      <th>0</th>\n",
       "      <td>1676.199951</td>\n",
       "      <td>6676</td>\n",
       "      <td>2020-06-01</td>\n",
       "    </tr>\n",
       "    <tr>\n",
       "      <th>1</th>\n",
       "      <td>1729.300049</td>\n",
       "      <td>2660</td>\n",
       "      <td>2020-06-08</td>\n",
       "    </tr>\n",
       "    <tr>\n",
       "      <th>2</th>\n",
       "      <td>1745.900024</td>\n",
       "      <td>1700</td>\n",
       "      <td>2020-06-15</td>\n",
       "    </tr>\n",
       "    <tr>\n",
       "      <th>3</th>\n",
       "      <td>1772.500000</td>\n",
       "      <td>3830</td>\n",
       "      <td>2020-06-22</td>\n",
       "    </tr>\n",
       "    <tr>\n",
       "      <th>4</th>\n",
       "      <td>1784.000000</td>\n",
       "      <td>2116</td>\n",
       "      <td>2020-06-29</td>\n",
       "    </tr>\n",
       "  </tbody>\n",
       "</table>\n",
       "</div>"
      ],
      "text/plain": [
       "         close  volume formatted_date\n",
       "0  1676.199951    6676     2020-06-01\n",
       "1  1729.300049    2660     2020-06-08\n",
       "2  1745.900024    1700     2020-06-15\n",
       "3  1772.500000    3830     2020-06-22\n",
       "4  1784.000000    2116     2020-06-29"
      ]
     },
     "execution_count": 74,
     "metadata": {},
     "output_type": "execute_result"
    }
   ],
   "source": [
    "gold_prices_df.drop(['date','high','low','open','adjclose'],axis=1, inplace = True)\n",
    "gold_prices_df.head()"
   ]
  },
  {
   "cell_type": "code",
   "execution_count": 75,
   "id": "a69ff152-54d7-45ac-bcac-76b5dbc94eaa",
   "metadata": {},
   "outputs": [],
   "source": [
    "gold_prices_df.rename(columns = {'close':'Gold Close', 'volume':'Gold Volume','formatted_date':'Date'}, inplace = True)\n",
    "gold_prices_df.set_index('Date', inplace = True)"
   ]
  },
  {
   "cell_type": "code",
   "execution_count": 76,
   "id": "7b7f69cf-6033-4bc3-93f0-977818a560da",
   "metadata": {},
   "outputs": [
    {
     "data": {},
     "metadata": {},
     "output_type": "display_data"
    },
    {
     "data": {
      "application/vnd.holoviews_exec.v0+json": "",
      "text/html": [
       "<div id='2393'>\n",
       "\n",
       "\n",
       "\n",
       "\n",
       "\n",
       "  <div class=\"bk-root\" id=\"22d1ce02-2433-43a6-af7b-c34f17d72824\" data-root-id=\"2393\"></div>\n",
       "</div>\n",
       "<script type=\"application/javascript\">(function(root) {\n",
       "  function embed_document(root) {\n",
       "    var docs_json = {\"d4733d6f-28d6-4e71-b9b0-5cc43e78f23a\":{\"defs\":[{\"extends\":null,\"module\":null,\"name\":\"ReactiveHTML1\",\"overrides\":[],\"properties\":[]},{\"extends\":null,\"module\":null,\"name\":\"FlexBox1\",\"overrides\":[],\"properties\":[{\"default\":\"flex-start\",\"kind\":null,\"name\":\"align_content\"},{\"default\":\"flex-start\",\"kind\":null,\"name\":\"align_items\"},{\"default\":\"row\",\"kind\":null,\"name\":\"flex_direction\"},{\"default\":\"wrap\",\"kind\":null,\"name\":\"flex_wrap\"},{\"default\":\"flex-start\",\"kind\":null,\"name\":\"justify_content\"}]},{\"extends\":null,\"module\":null,\"name\":\"GridStack1\",\"overrides\":[],\"properties\":[{\"default\":\"warn\",\"kind\":null,\"name\":\"mode\"},{\"default\":null,\"kind\":null,\"name\":\"ncols\"},{\"default\":null,\"kind\":null,\"name\":\"nrows\"},{\"default\":true,\"kind\":null,\"name\":\"allow_resize\"},{\"default\":true,\"kind\":null,\"name\":\"allow_drag\"},{\"default\":[],\"kind\":null,\"name\":\"state\"}]},{\"extends\":null,\"module\":null,\"name\":\"click1\",\"overrides\":[],\"properties\":[{\"default\":\"\",\"kind\":null,\"name\":\"terminal_output\"},{\"default\":\"\",\"kind\":null,\"name\":\"debug_name\"},{\"default\":0,\"kind\":null,\"name\":\"clears\"}]},{\"extends\":null,\"module\":null,\"name\":\"TemplateActions1\",\"overrides\":[],\"properties\":[{\"default\":0,\"kind\":null,\"name\":\"open_modal\"},{\"default\":0,\"kind\":null,\"name\":\"close_modal\"}]},{\"extends\":null,\"module\":null,\"name\":\"MaterialTemplateActions1\",\"overrides\":[],\"properties\":[{\"default\":0,\"kind\":null,\"name\":\"open_modal\"},{\"default\":0,\"kind\":null,\"name\":\"close_modal\"}]}],\"roots\":{\"references\":[{\"attributes\":{\"tools\":[{\"id\":\"2397\"},{\"id\":\"2415\"},{\"id\":\"2416\"},{\"id\":\"2417\"},{\"id\":\"2418\"},{\"id\":\"2419\"}]},\"id\":\"2421\",\"type\":\"Toolbar\"},{\"attributes\":{\"label\":{\"value\":\"Gold Volume\"},\"renderers\":[{\"id\":\"2461\"}]},\"id\":\"2475\",\"type\":\"LegendItem\"},{\"attributes\":{},\"id\":\"2429\",\"type\":\"CategoricalTickFormatter\"},{\"attributes\":{\"bottom_units\":\"screen\",\"coordinates\":null,\"fill_alpha\":0.5,\"fill_color\":\"lightgrey\",\"group\":null,\"left_units\":\"screen\",\"level\":\"overlay\",\"line_alpha\":1.0,\"line_color\":\"black\",\"line_dash\":[4,4],\"line_width\":2,\"right_units\":\"screen\",\"syncable\":false,\"top_units\":\"screen\"},\"id\":\"2420\",\"type\":\"BoxAnnotation\"},{\"attributes\":{},\"id\":\"2404\",\"type\":\"CategoricalScale\"},{\"attributes\":{\"line_color\":\"#fc4f30\",\"line_width\":2,\"x\":{\"field\":\"Date\"},\"y\":{\"field\":\"value\"}},\"id\":\"2458\",\"type\":\"Line\"},{\"attributes\":{},\"id\":\"2415\",\"type\":\"SaveTool\"},{\"attributes\":{\"axis_label\":\"Date\",\"coordinates\":null,\"formatter\":{\"id\":\"2429\"},\"group\":null,\"major_label_policy\":{\"id\":\"2430\"},\"ticker\":{\"id\":\"2409\"}},\"id\":\"2408\",\"type\":\"CategoricalAxis\"},{\"attributes\":{},\"id\":\"2416\",\"type\":\"PanTool\"},{\"attributes\":{},\"id\":\"2419\",\"type\":\"ResetTool\"},{\"attributes\":{\"label\":{\"value\":\"Gold Close\"},\"renderers\":[{\"id\":\"2440\"}]},\"id\":\"2453\",\"type\":\"LegendItem\"},{\"attributes\":{\"axis\":{\"id\":\"2408\"},\"coordinates\":null,\"grid_line_color\":null,\"group\":null,\"ticker\":null},\"id\":\"2410\",\"type\":\"Grid\"},{\"attributes\":{\"line_alpha\":0.2,\"line_color\":\"#30a2da\",\"line_width\":2,\"x\":{\"field\":\"Date\"},\"y\":{\"field\":\"value\"}},\"id\":\"2439\",\"type\":\"Line\"},{\"attributes\":{},\"id\":\"2417\",\"type\":\"WheelZoomTool\"},{\"attributes\":{},\"id\":\"2435\",\"type\":\"Selection\"},{\"attributes\":{},\"id\":\"2472\",\"type\":\"UnionRenderers\"},{\"attributes\":{\"overlay\":{\"id\":\"2420\"}},\"id\":\"2418\",\"type\":\"BoxZoomTool\"},{\"attributes\":{},\"id\":\"2432\",\"type\":\"BasicTickFormatter\"},{\"attributes\":{},\"id\":\"2433\",\"type\":\"AllLabels\"},{\"attributes\":{\"margin\":[5,5,5,5],\"name\":\"HSpacer04471\",\"sizing_mode\":\"stretch_width\"},\"id\":\"2585\",\"type\":\"Spacer\"},{\"attributes\":{\"factors\":[\"2020-06-01\",\"2020-06-08\",\"2020-06-15\",\"2020-06-22\",\"2020-06-29\",\"2020-07-06\",\"2020-07-13\",\"2020-07-20\",\"2020-07-27\",\"2020-08-03\",\"2020-08-10\",\"2020-08-17\",\"2020-08-24\",\"2020-08-31\",\"2020-09-07\",\"2020-09-14\",\"2020-09-21\",\"2020-09-28\",\"2020-10-05\",\"2020-10-12\",\"2020-10-19\",\"2020-10-26\",\"2020-11-02\",\"2020-11-09\",\"2020-11-16\",\"2020-11-23\",\"2020-11-30\",\"2020-12-07\",\"2020-12-14\",\"2020-12-21\",\"2020-12-28\",\"2021-01-04\",\"2021-01-11\",\"2021-01-18\",\"2021-01-25\",\"2021-02-01\",\"2021-02-08\",\"2021-02-15\",\"2021-02-22\",\"2021-03-01\",\"2021-03-08\",\"2021-03-15\",\"2021-03-22\",\"2021-03-29\",\"2021-04-05\",\"2021-04-12\",\"2021-04-19\",\"2021-04-26\",\"2021-05-03\",\"2021-05-10\",\"2021-05-17\",\"2021-05-24\",\"2021-05-31\",\"2021-06-07\",\"2021-06-14\",\"2021-06-21\",\"2021-06-28\",\"2021-07-05\",\"2021-07-12\",\"2021-07-19\",\"2021-07-26\",\"2021-08-02\",\"2021-08-09\",\"2021-08-16\",\"2021-08-23\",\"2021-08-30\",\"2021-09-06\",\"2021-09-13\",\"2021-09-20\",\"2021-09-27\",\"2021-10-04\",\"2021-10-11\",\"2021-10-18\",\"2021-10-25\",\"2021-11-01\",\"2021-11-08\",\"2021-11-15\",\"2021-11-22\",\"2021-11-29\",\"2021-12-06\",\"2021-12-13\",\"2021-12-20\",\"2021-12-27\",\"2022-01-03\",\"2022-01-10\",\"2022-01-17\",\"2022-01-24\",\"2022-01-31\",\"2022-02-07\",\"2022-02-14\",\"2022-02-21\",\"2022-02-28\",\"2022-03-07\",\"2022-03-14\",\"2022-03-21\",\"2022-03-28\",\"2022-04-04\",\"2022-04-11\",\"2022-04-18\",\"2022-04-25\",\"2022-05-02\",\"2022-05-09\",\"2022-05-16\",\"2022-05-23\",\"2022-05-30\"],\"tags\":[[[\"Date\",\"Date\",null]]]},\"id\":\"2395\",\"type\":\"FactorRange\"},{\"attributes\":{\"data\":{\"Date\":[\"2020-06-01\",\"2020-06-08\",\"2020-06-15\",\"2020-06-22\",\"2020-06-29\",\"2020-07-06\",\"2020-07-13\",\"2020-07-20\",\"2020-07-27\",\"2020-08-03\",\"2020-08-10\",\"2020-08-17\",\"2020-08-24\",\"2020-08-31\",\"2020-09-07\",\"2020-09-14\",\"2020-09-21\",\"2020-09-28\",\"2020-10-05\",\"2020-10-12\",\"2020-10-19\",\"2020-10-26\",\"2020-11-02\",\"2020-11-09\",\"2020-11-16\",\"2020-11-23\",\"2020-11-30\",\"2020-12-07\",\"2020-12-14\",\"2020-12-21\",\"2020-12-28\",\"2021-01-04\",\"2021-01-11\",\"2021-01-18\",\"2021-01-25\",\"2021-02-01\",\"2021-02-08\",\"2021-02-15\",\"2021-02-22\",\"2021-03-01\",\"2021-03-08\",\"2021-03-15\",\"2021-03-22\",\"2021-03-29\",\"2021-04-05\",\"2021-04-12\",\"2021-04-19\",\"2021-04-26\",\"2021-05-03\",\"2021-05-10\",\"2021-05-17\",\"2021-05-24\",\"2021-05-31\",\"2021-06-07\",\"2021-06-14\",\"2021-06-21\",\"2021-06-28\",\"2021-07-05\",\"2021-07-12\",\"2021-07-19\",\"2021-07-26\",\"2021-08-02\",\"2021-08-09\",\"2021-08-16\",\"2021-08-23\",\"2021-08-30\",\"2021-09-06\",\"2021-09-13\",\"2021-09-20\",\"2021-09-27\",\"2021-10-04\",\"2021-10-11\",\"2021-10-18\",\"2021-10-25\",\"2021-11-01\",\"2021-11-08\",\"2021-11-15\",\"2021-11-22\",\"2021-11-29\",\"2021-12-06\",\"2021-12-13\",\"2021-12-20\",\"2021-12-27\",\"2022-01-03\",\"2022-01-10\",\"2022-01-17\",\"2022-01-24\",\"2022-01-31\",\"2022-02-07\",\"2022-02-14\",\"2022-02-21\",\"2022-02-28\",\"2022-03-07\",\"2022-03-14\",\"2022-03-21\",\"2022-03-28\",\"2022-04-04\",\"2022-04-11\",\"2022-04-18\",\"2022-04-25\",\"2022-05-02\",\"2022-05-09\",\"2022-05-16\",\"2022-05-23\",\"2022-05-30\"],\"Variable\":[\"Gold Volume\",\"Gold Volume\",\"Gold Volume\",\"Gold Volume\",\"Gold Volume\",\"Gold Volume\",\"Gold Volume\",\"Gold Volume\",\"Gold Volume\",\"Gold Volume\",\"Gold Volume\",\"Gold Volume\",\"Gold Volume\",\"Gold Volume\",\"Gold Volume\",\"Gold Volume\",\"Gold Volume\",\"Gold Volume\",\"Gold Volume\",\"Gold Volume\",\"Gold Volume\",\"Gold Volume\",\"Gold Volume\",\"Gold Volume\",\"Gold Volume\",\"Gold Volume\",\"Gold Volume\",\"Gold Volume\",\"Gold Volume\",\"Gold Volume\",\"Gold Volume\",\"Gold Volume\",\"Gold Volume\",\"Gold Volume\",\"Gold Volume\",\"Gold Volume\",\"Gold Volume\",\"Gold Volume\",\"Gold Volume\",\"Gold Volume\",\"Gold Volume\",\"Gold Volume\",\"Gold Volume\",\"Gold Volume\",\"Gold Volume\",\"Gold Volume\",\"Gold Volume\",\"Gold Volume\",\"Gold Volume\",\"Gold Volume\",\"Gold Volume\",\"Gold Volume\",\"Gold Volume\",\"Gold Volume\",\"Gold Volume\",\"Gold Volume\",\"Gold Volume\",\"Gold Volume\",\"Gold Volume\",\"Gold Volume\",\"Gold Volume\",\"Gold Volume\",\"Gold Volume\",\"Gold Volume\",\"Gold Volume\",\"Gold Volume\",\"Gold Volume\",\"Gold Volume\",\"Gold Volume\",\"Gold Volume\",\"Gold Volume\",\"Gold Volume\",\"Gold Volume\",\"Gold Volume\",\"Gold Volume\",\"Gold Volume\",\"Gold Volume\",\"Gold Volume\",\"Gold Volume\",\"Gold Volume\",\"Gold Volume\",\"Gold Volume\",\"Gold Volume\",\"Gold Volume\",\"Gold Volume\",\"Gold Volume\",\"Gold Volume\",\"Gold Volume\",\"Gold Volume\",\"Gold Volume\",\"Gold Volume\",\"Gold Volume\",\"Gold Volume\",\"Gold Volume\",\"Gold Volume\",\"Gold Volume\",\"Gold Volume\",\"Gold Volume\",\"Gold Volume\",\"Gold Volume\",\"Gold Volume\",\"Gold Volume\",\"Gold Volume\",\"Gold Volume\",\"Gold Volume\"],\"value\":[6676,2660,1700,3830,2116,1764,840,1026,242791,5217,1880,826,3629,1201,1285,358,757,15598,3306,627,2760,1660,2123,1703,2176,279442,8753,2049,2999,497,989,780,565,43,224542,7635,1842,2460,4876,2598,2135,1515,131,162975,3504,2437,2349,1636,272,577,454,208830,3295,1700,1725,388,1425,942,1109,299,243397,8982,4701,1162,2146,959,166,3582,415,26407,1161,1628,1122,2077,805,1728,120,187454,35208,3072,1486,1561,1305,209,3680,1759,224631,4685,1938,643,3589,1215,6886,387,326,150456,1385,714,1129,3481,1146,3224,714,153695,4073]},\"selected\":{\"id\":\"2456\"},\"selection_policy\":{\"id\":\"2472\"}},\"id\":\"2455\",\"type\":\"ColumnDataSource\"},{\"attributes\":{\"margin\":[5,5,5,5],\"name\":\"HSpacer04470\",\"sizing_mode\":\"stretch_width\"},\"id\":\"2394\",\"type\":\"Spacer\"},{\"attributes\":{\"line_color\":\"#30a2da\",\"line_width\":2,\"x\":{\"field\":\"Date\"},\"y\":{\"field\":\"value\"}},\"id\":\"2454\",\"type\":\"Line\"},{\"attributes\":{},\"id\":\"2449\",\"type\":\"UnionRenderers\"},{\"attributes\":{},\"id\":\"2456\",\"type\":\"Selection\"},{\"attributes\":{\"coordinates\":null,\"group\":null,\"text_color\":\"black\",\"text_font_size\":\"12pt\"},\"id\":\"2400\",\"type\":\"Title\"},{\"attributes\":{\"coordinates\":null,\"data_source\":{\"id\":\"2455\"},\"glyph\":{\"id\":\"2458\"},\"group\":null,\"hover_glyph\":null,\"muted_glyph\":{\"id\":\"2460\"},\"nonselection_glyph\":{\"id\":\"2459\"},\"selection_glyph\":{\"id\":\"2476\"},\"view\":{\"id\":\"2462\"}},\"id\":\"2461\",\"type\":\"GlyphRenderer\"},{\"attributes\":{\"data\":{\"Date\":[\"2020-06-01\",\"2020-06-08\",\"2020-06-15\",\"2020-06-22\",\"2020-06-29\",\"2020-07-06\",\"2020-07-13\",\"2020-07-20\",\"2020-07-27\",\"2020-08-03\",\"2020-08-10\",\"2020-08-17\",\"2020-08-24\",\"2020-08-31\",\"2020-09-07\",\"2020-09-14\",\"2020-09-21\",\"2020-09-28\",\"2020-10-05\",\"2020-10-12\",\"2020-10-19\",\"2020-10-26\",\"2020-11-02\",\"2020-11-09\",\"2020-11-16\",\"2020-11-23\",\"2020-11-30\",\"2020-12-07\",\"2020-12-14\",\"2020-12-21\",\"2020-12-28\",\"2021-01-04\",\"2021-01-11\",\"2021-01-18\",\"2021-01-25\",\"2021-02-01\",\"2021-02-08\",\"2021-02-15\",\"2021-02-22\",\"2021-03-01\",\"2021-03-08\",\"2021-03-15\",\"2021-03-22\",\"2021-03-29\",\"2021-04-05\",\"2021-04-12\",\"2021-04-19\",\"2021-04-26\",\"2021-05-03\",\"2021-05-10\",\"2021-05-17\",\"2021-05-24\",\"2021-05-31\",\"2021-06-07\",\"2021-06-14\",\"2021-06-21\",\"2021-06-28\",\"2021-07-05\",\"2021-07-12\",\"2021-07-19\",\"2021-07-26\",\"2021-08-02\",\"2021-08-09\",\"2021-08-16\",\"2021-08-23\",\"2021-08-30\",\"2021-09-06\",\"2021-09-13\",\"2021-09-20\",\"2021-09-27\",\"2021-10-04\",\"2021-10-11\",\"2021-10-18\",\"2021-10-25\",\"2021-11-01\",\"2021-11-08\",\"2021-11-15\",\"2021-11-22\",\"2021-11-29\",\"2021-12-06\",\"2021-12-13\",\"2021-12-20\",\"2021-12-27\",\"2022-01-03\",\"2022-01-10\",\"2022-01-17\",\"2022-01-24\",\"2022-01-31\",\"2022-02-07\",\"2022-02-14\",\"2022-02-21\",\"2022-02-28\",\"2022-03-07\",\"2022-03-14\",\"2022-03-21\",\"2022-03-28\",\"2022-04-04\",\"2022-04-11\",\"2022-04-18\",\"2022-04-25\",\"2022-05-02\",\"2022-05-09\",\"2022-05-16\",\"2022-05-23\",\"2022-05-30\"],\"Variable\":[\"Gold Close\",\"Gold Close\",\"Gold Close\",\"Gold Close\",\"Gold Close\",\"Gold Close\",\"Gold Close\",\"Gold Close\",\"Gold Close\",\"Gold Close\",\"Gold Close\",\"Gold Close\",\"Gold Close\",\"Gold Close\",\"Gold Close\",\"Gold Close\",\"Gold Close\",\"Gold Close\",\"Gold Close\",\"Gold Close\",\"Gold Close\",\"Gold Close\",\"Gold Close\",\"Gold Close\",\"Gold Close\",\"Gold Close\",\"Gold Close\",\"Gold Close\",\"Gold Close\",\"Gold Close\",\"Gold Close\",\"Gold Close\",\"Gold Close\",\"Gold Close\",\"Gold Close\",\"Gold Close\",\"Gold Close\",\"Gold Close\",\"Gold Close\",\"Gold Close\",\"Gold Close\",\"Gold Close\",\"Gold Close\",\"Gold Close\",\"Gold Close\",\"Gold Close\",\"Gold Close\",\"Gold Close\",\"Gold Close\",\"Gold Close\",\"Gold Close\",\"Gold Close\",\"Gold Close\",\"Gold Close\",\"Gold Close\",\"Gold Close\",\"Gold Close\",\"Gold Close\",\"Gold Close\",\"Gold Close\",\"Gold Close\",\"Gold Close\",\"Gold Close\",\"Gold Close\",\"Gold Close\",\"Gold Close\",\"Gold Close\",\"Gold Close\",\"Gold Close\",\"Gold Close\",\"Gold Close\",\"Gold Close\",\"Gold Close\",\"Gold Close\",\"Gold Close\",\"Gold Close\",\"Gold Close\",\"Gold Close\",\"Gold Close\",\"Gold Close\",\"Gold Close\",\"Gold Close\",\"Gold Close\",\"Gold Close\",\"Gold Close\",\"Gold Close\",\"Gold Close\",\"Gold Close\",\"Gold Close\",\"Gold Close\",\"Gold Close\",\"Gold Close\",\"Gold Close\",\"Gold Close\",\"Gold Close\",\"Gold Close\",\"Gold Close\",\"Gold Close\",\"Gold Close\",\"Gold Close\",\"Gold Close\",\"Gold Close\",\"Gold Close\",\"Gold Close\",\"Gold Close\"],\"value\":{\"__ndarray__\":\"AAAAwMwwmkAAAABAMwWbQAAAAKCZR5tAAAAAAACym0AAAAAAAOCbQAAAAMDMGJxAAAAAQDNBnEAAAABAM6WdQAAAAEAzq55AAAAAYGZon0AAAAAAAESeQAAAAGBmOp5AAAAAYGaynkAAAACgmQ+eQAAAAEAzR55AAAAAYGaAnkAAAADAzAadQAAAAMDMsJ1AAAAAAAD+nUAAAABAM7OdQAAAAAAAuJ1AAAAAoJlVnUAAAABAM3meQAAAAMDMdp1AAAAAYGZCnUAAAACgmdebQAAAAKCZr5xAAAAAQDO/nEAAAADAzHadQAAAAKCZX51AAAAAYGaUnUAAAABgZqicQAAAAEAzlZxAAAAAwMz+nEAAAABAM92cQAAAAKCZS5xAAAAAYGZ2nEAAAABAM7+bQAAAAGBmAJtAAAAAAACImkAAAAAAAN6aQAAAAKCZNZtAAAAAwMwQm0AAAAAAAPqaQAAAAEAzPZtAAAAAAADMm0AAAAAAAMSbQAAAAEAznZtAAAAAYGacnEAAAACgmbecQAAAAMDMUp1AAAAAAAC6nUAAAABAM4edQAAAAKCZVZ1AAAAAoJmfm0AAAABgZsKbQAAAAGBm2ptAAAAAAABInEAAAAAAAFqcQAAAAKCZJZxAAAAAYGZSnEAAAAAAAICbQAAAAMDMvJtAAAAAAADUm0AAAABgZmKcQAAAAKCZm5xAAAAAYGb2m0AAAACgmVWbQAAAAMDMVptAAAAAAAB0m0AAAABAM3GbQAAAAMDMnJtAAAAAAAAOnEAAAAAAANybQAAAAKCZYZxAAAAAoJkvnUAAAADAzOycQAAAAEAz5ZtAAAAAAADYm0AAAACgmdubQAAAAEAzL5xAAAAAwMxMnEAAAAAAAI6cQAAAAAAAFJxAAAAAAABinEAAAABAM5+cQAAAAKCZ45tAAAAAYGY6nEAAAABAM8OcQAAAAGBmqp1AAAAAAAB6nUAAAABgZrSeQAAAAMDM+p5AAAAAwMwgnkAAAABAM4eeQAAAAGBm/J1AAAAAYGZWnkAAAACgmcueQAAAAAAALJ5AAAAAQDPVnUAAAADAzGSdQAAAAKCZPZxAAAAAQDPHnEAAAABAM+2cQAAAAMDMypxA\",\"dtype\":\"float64\",\"order\":\"little\",\"shape\":[105]}},\"selected\":{\"id\":\"2435\"},\"selection_policy\":{\"id\":\"2449\"}},\"id\":\"2434\",\"type\":\"ColumnDataSource\"},{\"attributes\":{\"end\":307381.9,\"reset_end\":307381.9,\"reset_start\":-27896.9,\"start\":-27896.9,\"tags\":[[[\"value\",\"value\",null]]]},\"id\":\"2396\",\"type\":\"Range1d\"},{\"attributes\":{},\"id\":\"2430\",\"type\":\"AllLabels\"},{\"attributes\":{},\"id\":\"2406\",\"type\":\"LinearScale\"},{\"attributes\":{\"line_alpha\":0.1,\"line_color\":\"#fc4f30\",\"line_width\":2,\"x\":{\"field\":\"Date\"},\"y\":{\"field\":\"value\"}},\"id\":\"2459\",\"type\":\"Line\"},{\"attributes\":{\"source\":{\"id\":\"2455\"}},\"id\":\"2462\",\"type\":\"CDSView\"},{\"attributes\":{},\"id\":\"2412\",\"type\":\"BasicTicker\"},{\"attributes\":{\"line_color\":\"#30a2da\",\"line_width\":2,\"x\":{\"field\":\"Date\"},\"y\":{\"field\":\"value\"}},\"id\":\"2437\",\"type\":\"Line\"},{\"attributes\":{\"line_color\":\"#fc4f30\",\"line_width\":2,\"x\":{\"field\":\"Date\"},\"y\":{\"field\":\"value\"}},\"id\":\"2476\",\"type\":\"Line\"},{\"attributes\":{},\"id\":\"2409\",\"type\":\"CategoricalTicker\"},{\"attributes\":{\"line_alpha\":0.2,\"line_color\":\"#fc4f30\",\"line_width\":2,\"x\":{\"field\":\"Date\"},\"y\":{\"field\":\"value\"}},\"id\":\"2460\",\"type\":\"Line\"},{\"attributes\":{\"callback\":null,\"renderers\":[{\"id\":\"2440\"},{\"id\":\"2461\"}],\"tags\":[\"hv_created\"],\"tooltips\":[[\"Variable\",\"@{Variable}\"],[\"Date\",\"@{Date}\"],[\"value\",\"@{value}\"]]},\"id\":\"2397\",\"type\":\"HoverTool\"},{\"attributes\":{\"axis_label\":\"\",\"coordinates\":null,\"formatter\":{\"id\":\"2432\"},\"group\":null,\"major_label_policy\":{\"id\":\"2433\"},\"ticker\":{\"id\":\"2412\"}},\"id\":\"2411\",\"type\":\"LinearAxis\"},{\"attributes\":{\"source\":{\"id\":\"2434\"}},\"id\":\"2441\",\"type\":\"CDSView\"},{\"attributes\":{\"below\":[{\"id\":\"2408\"}],\"center\":[{\"id\":\"2410\"},{\"id\":\"2414\"}],\"height\":300,\"left\":[{\"id\":\"2411\"}],\"margin\":[5,5,5,5],\"min_border_bottom\":10,\"min_border_left\":10,\"min_border_right\":10,\"min_border_top\":10,\"renderers\":[{\"id\":\"2440\"},{\"id\":\"2461\"}],\"right\":[{\"id\":\"2452\"}],\"sizing_mode\":\"fixed\",\"title\":{\"id\":\"2400\"},\"toolbar\":{\"id\":\"2421\"},\"width\":700,\"x_range\":{\"id\":\"2395\"},\"x_scale\":{\"id\":\"2404\"},\"y_range\":{\"id\":\"2396\"},\"y_scale\":{\"id\":\"2406\"}},\"id\":\"2399\",\"subtype\":\"Figure\",\"type\":\"Plot\"},{\"attributes\":{\"axis\":{\"id\":\"2411\"},\"coordinates\":null,\"dimension\":1,\"grid_line_color\":null,\"group\":null,\"ticker\":null},\"id\":\"2414\",\"type\":\"Grid\"},{\"attributes\":{\"coordinates\":null,\"data_source\":{\"id\":\"2434\"},\"glyph\":{\"id\":\"2437\"},\"group\":null,\"hover_glyph\":null,\"muted_glyph\":{\"id\":\"2439\"},\"nonselection_glyph\":{\"id\":\"2438\"},\"selection_glyph\":{\"id\":\"2454\"},\"view\":{\"id\":\"2441\"}},\"id\":\"2440\",\"type\":\"GlyphRenderer\"},{\"attributes\":{\"click_policy\":\"mute\",\"coordinates\":null,\"group\":null,\"items\":[{\"id\":\"2453\"},{\"id\":\"2475\"}],\"location\":[0,0],\"title\":\"Variable\"},\"id\":\"2452\",\"type\":\"Legend\"},{\"attributes\":{\"line_alpha\":0.1,\"line_color\":\"#30a2da\",\"line_width\":2,\"x\":{\"field\":\"Date\"},\"y\":{\"field\":\"value\"}},\"id\":\"2438\",\"type\":\"Line\"},{\"attributes\":{\"children\":[{\"id\":\"2394\"},{\"id\":\"2399\"},{\"id\":\"2585\"}],\"margin\":[0,0,0,0],\"name\":\"Row04466\",\"tags\":[\"embedded\"]},\"id\":\"2393\",\"type\":\"Row\"}],\"root_ids\":[\"2393\"]},\"title\":\"Bokeh Application\",\"version\":\"2.4.1\"}};\n",
       "    var render_items = [{\"docid\":\"d4733d6f-28d6-4e71-b9b0-5cc43e78f23a\",\"root_ids\":[\"2393\"],\"roots\":{\"2393\":\"22d1ce02-2433-43a6-af7b-c34f17d72824\"}}];\n",
       "    root.Bokeh.embed.embed_items_notebook(docs_json, render_items);\n",
       "  }\n",
       "  if (root.Bokeh !== undefined && root.Bokeh.Panel !== undefined) {\n",
       "    embed_document(root);\n",
       "  } else {\n",
       "    var attempts = 0;\n",
       "    var timer = setInterval(function(root) {\n",
       "      if (root.Bokeh !== undefined && root.Bokeh.Panel !== undefined) {\n",
       "        clearInterval(timer);\n",
       "        embed_document(root);\n",
       "      } else if (document.readyState == \"complete\") {\n",
       "        attempts++;\n",
       "        if (attempts > 200) {\n",
       "          clearInterval(timer);\n",
       "          console.log(\"Bokeh: ERROR: Unable to run BokehJS code because BokehJS library is missing\");\n",
       "        }\n",
       "      }\n",
       "    }, 25, root)\n",
       "  }\n",
       "})(window);</script>"
      ],
      "text/plain": [
       ":NdOverlay   [Variable]\n",
       "   :Curve   [Date]   (value)"
      ]
     },
     "execution_count": 76,
     "metadata": {
      "application/vnd.holoviews_exec.v0+json": {
       "id": "2393"
      }
     },
     "output_type": "execute_result"
    }
   ],
   "source": [
    "gold_prices_df.hvplot()"
   ]
  },
  {
   "cell_type": "code",
   "execution_count": 77,
   "id": "66ea88fd-1e5e-4217-be3b-4843f9ee059a",
   "metadata": {},
   "outputs": [],
   "source": [
    "yahoo_financials = YahooFinancials('SPY')\n",
    "SPY_prices=(yahoo_financials.get_historical_price_data(\"2020-06-01\", \"2022-06-01\", \"weekly\"))\n",
    "#print(SPY_prices)"
   ]
  },
  {
   "cell_type": "code",
   "execution_count": 78,
   "id": "98d2ae9a-c686-4f13-a6c7-705c6f29df1a",
   "metadata": {},
   "outputs": [],
   "source": [
    "json_object= json.dumps(SPY_prices['SPY']['prices'], indent = 4)\n",
    "with open(\"sample.json\", \"w\") as outfile:\n",
    "    outfile.write(json_object)"
   ]
  },
  {
   "cell_type": "code",
   "execution_count": 79,
   "id": "2af85efb-28da-44f6-9740-a540c998eb99",
   "metadata": {},
   "outputs": [],
   "source": [
    "SPY_prices = pd.read_json('sample.json')"
   ]
  },
  {
   "cell_type": "code",
   "execution_count": 80,
   "id": "6e1b1ac0-063b-44ce-bd08-ad3ba342b50b",
   "metadata": {},
   "outputs": [
    {
     "data": {
      "text/plain": [
       "(105, 8)"
      ]
     },
     "execution_count": 80,
     "metadata": {},
     "output_type": "execute_result"
    }
   ],
   "source": [
    "SPY_prices.shape"
   ]
  },
  {
   "cell_type": "code",
   "execution_count": 81,
   "id": "26f9b503-1307-4d42-9aa0-2bcd117074d3",
   "metadata": {},
   "outputs": [
    {
     "data": {
      "text/html": [
       "<div>\n",
       "<style scoped>\n",
       "    .dataframe tbody tr th:only-of-type {\n",
       "        vertical-align: middle;\n",
       "    }\n",
       "\n",
       "    .dataframe tbody tr th {\n",
       "        vertical-align: top;\n",
       "    }\n",
       "\n",
       "    .dataframe thead th {\n",
       "        text-align: right;\n",
       "    }\n",
       "</style>\n",
       "<table border=\"1\" class=\"dataframe\">\n",
       "  <thead>\n",
       "    <tr style=\"text-align: right;\">\n",
       "      <th></th>\n",
       "      <th>date</th>\n",
       "      <th>high</th>\n",
       "      <th>low</th>\n",
       "      <th>open</th>\n",
       "      <th>close</th>\n",
       "      <th>volume</th>\n",
       "      <th>adjclose</th>\n",
       "      <th>formatted_date</th>\n",
       "    </tr>\n",
       "  </thead>\n",
       "  <tbody>\n",
       "    <tr>\n",
       "      <th>0</th>\n",
       "      <td>2020-06-01 04:00:00</td>\n",
       "      <td>321.269989</td>\n",
       "      <td>303.059998</td>\n",
       "      <td>303.619995</td>\n",
       "      <td>319.339996</td>\n",
       "      <td>448912200</td>\n",
       "      <td>308.883087</td>\n",
       "      <td>2020-06-01</td>\n",
       "    </tr>\n",
       "    <tr>\n",
       "      <th>1</th>\n",
       "      <td>2020-06-08 04:00:00</td>\n",
       "      <td>323.410004</td>\n",
       "      <td>298.600006</td>\n",
       "      <td>320.220001</td>\n",
       "      <td>304.209991</td>\n",
       "      <td>650043700</td>\n",
       "      <td>294.248535</td>\n",
       "      <td>2020-06-08</td>\n",
       "    </tr>\n",
       "    <tr>\n",
       "      <th>2</th>\n",
       "      <td>2020-06-15 04:00:00</td>\n",
       "      <td>315.640015</td>\n",
       "      <td>296.739990</td>\n",
       "      <td>298.019989</td>\n",
       "      <td>308.640015</td>\n",
       "      <td>573187400</td>\n",
       "      <td>298.533478</td>\n",
       "      <td>2020-06-15</td>\n",
       "    </tr>\n",
       "    <tr>\n",
       "      <th>3</th>\n",
       "      <td>2020-06-22 04:00:00</td>\n",
       "      <td>314.500000</td>\n",
       "      <td>299.420013</td>\n",
       "      <td>307.989990</td>\n",
       "      <td>300.049988</td>\n",
       "      <td>493363100</td>\n",
       "      <td>291.501892</td>\n",
       "      <td>2020-06-22</td>\n",
       "    </tr>\n",
       "    <tr>\n",
       "      <th>4</th>\n",
       "      <td>2020-06-29 04:00:00</td>\n",
       "      <td>315.700012</td>\n",
       "      <td>298.929993</td>\n",
       "      <td>301.410004</td>\n",
       "      <td>312.230011</td>\n",
       "      <td>334908800</td>\n",
       "      <td>303.334930</td>\n",
       "      <td>2020-06-29</td>\n",
       "    </tr>\n",
       "  </tbody>\n",
       "</table>\n",
       "</div>"
      ],
      "text/plain": [
       "                 date        high         low        open       close  \\\n",
       "0 2020-06-01 04:00:00  321.269989  303.059998  303.619995  319.339996   \n",
       "1 2020-06-08 04:00:00  323.410004  298.600006  320.220001  304.209991   \n",
       "2 2020-06-15 04:00:00  315.640015  296.739990  298.019989  308.640015   \n",
       "3 2020-06-22 04:00:00  314.500000  299.420013  307.989990  300.049988   \n",
       "4 2020-06-29 04:00:00  315.700012  298.929993  301.410004  312.230011   \n",
       "\n",
       "      volume    adjclose formatted_date  \n",
       "0  448912200  308.883087     2020-06-01  \n",
       "1  650043700  294.248535     2020-06-08  \n",
       "2  573187400  298.533478     2020-06-15  \n",
       "3  493363100  291.501892     2020-06-22  \n",
       "4  334908800  303.334930     2020-06-29  "
      ]
     },
     "execution_count": 81,
     "metadata": {},
     "output_type": "execute_result"
    }
   ],
   "source": [
    "SPY_prices_df = pd.DataFrame(SPY_prices)\n",
    "SPY_prices_df.head()"
   ]
  },
  {
   "cell_type": "code",
   "execution_count": 82,
   "id": "ae4e8e0c-e23c-4a10-b812-05861741bf5c",
   "metadata": {},
   "outputs": [],
   "source": [
    "SPY_prices_df.drop(['date','high','low','open','adjclose','volume'],axis=1, inplace = True)\n",
    "SPY_prices_df.rename(columns = {'close':'SPY Close', 'formatted_date':'Date'}, inplace = True)\n",
    "SPY_prices_df.set_index('Date', inplace = True)"
   ]
  },
  {
   "cell_type": "code",
   "execution_count": 83,
   "id": "cb0887f8-01bb-45f9-821d-17de92f729d3",
   "metadata": {},
   "outputs": [
    {
     "data": {},
     "metadata": {},
     "output_type": "display_data"
    },
    {
     "data": {
      "application/vnd.holoviews_exec.v0+json": "",
      "text/html": [
       "<div id='2647'>\n",
       "\n",
       "\n",
       "\n",
       "\n",
       "\n",
       "  <div class=\"bk-root\" id=\"63f4d183-785c-4499-80bb-e0270318041b\" data-root-id=\"2647\"></div>\n",
       "</div>\n",
       "<script type=\"application/javascript\">(function(root) {\n",
       "  function embed_document(root) {\n",
       "    var docs_json = {\"b81b8805-3167-4776-87d1-2109a2a4b328\":{\"defs\":[{\"extends\":null,\"module\":null,\"name\":\"ReactiveHTML1\",\"overrides\":[],\"properties\":[]},{\"extends\":null,\"module\":null,\"name\":\"FlexBox1\",\"overrides\":[],\"properties\":[{\"default\":\"flex-start\",\"kind\":null,\"name\":\"align_content\"},{\"default\":\"flex-start\",\"kind\":null,\"name\":\"align_items\"},{\"default\":\"row\",\"kind\":null,\"name\":\"flex_direction\"},{\"default\":\"wrap\",\"kind\":null,\"name\":\"flex_wrap\"},{\"default\":\"flex-start\",\"kind\":null,\"name\":\"justify_content\"}]},{\"extends\":null,\"module\":null,\"name\":\"GridStack1\",\"overrides\":[],\"properties\":[{\"default\":\"warn\",\"kind\":null,\"name\":\"mode\"},{\"default\":null,\"kind\":null,\"name\":\"ncols\"},{\"default\":null,\"kind\":null,\"name\":\"nrows\"},{\"default\":true,\"kind\":null,\"name\":\"allow_resize\"},{\"default\":true,\"kind\":null,\"name\":\"allow_drag\"},{\"default\":[],\"kind\":null,\"name\":\"state\"}]},{\"extends\":null,\"module\":null,\"name\":\"click1\",\"overrides\":[],\"properties\":[{\"default\":\"\",\"kind\":null,\"name\":\"terminal_output\"},{\"default\":\"\",\"kind\":null,\"name\":\"debug_name\"},{\"default\":0,\"kind\":null,\"name\":\"clears\"}]},{\"extends\":null,\"module\":null,\"name\":\"TemplateActions1\",\"overrides\":[],\"properties\":[{\"default\":0,\"kind\":null,\"name\":\"open_modal\"},{\"default\":0,\"kind\":null,\"name\":\"close_modal\"}]},{\"extends\":null,\"module\":null,\"name\":\"MaterialTemplateActions1\",\"overrides\":[],\"properties\":[{\"default\":0,\"kind\":null,\"name\":\"open_modal\"},{\"default\":0,\"kind\":null,\"name\":\"close_modal\"}]}],\"roots\":{\"references\":[{\"attributes\":{\"line_color\":\"#30a2da\",\"line_width\":2,\"x\":{\"field\":\"Date\"},\"y\":{\"field\":\"SPY Close\"}},\"id\":\"2689\",\"type\":\"Line\"},{\"attributes\":{\"coordinates\":null,\"data_source\":{\"id\":\"2681\"},\"glyph\":{\"id\":\"2684\"},\"group\":null,\"hover_glyph\":null,\"muted_glyph\":{\"id\":\"2686\"},\"nonselection_glyph\":{\"id\":\"2685\"},\"selection_glyph\":{\"id\":\"2689\"},\"view\":{\"id\":\"2688\"}},\"id\":\"2687\",\"type\":\"GlyphRenderer\"},{\"attributes\":{\"axis_label\":\"SPY Close\",\"coordinates\":null,\"formatter\":{\"id\":\"2694\"},\"group\":null,\"major_label_policy\":{\"id\":\"2695\"},\"ticker\":{\"id\":\"2665\"}},\"id\":\"2664\",\"type\":\"LinearAxis\"},{\"attributes\":{\"axis\":{\"id\":\"2664\"},\"coordinates\":null,\"dimension\":1,\"grid_line_color\":null,\"group\":null,\"ticker\":null},\"id\":\"2667\",\"type\":\"Grid\"},{\"attributes\":{\"below\":[{\"id\":\"2661\"}],\"center\":[{\"id\":\"2663\"},{\"id\":\"2667\"}],\"height\":300,\"left\":[{\"id\":\"2664\"}],\"margin\":[5,5,5,5],\"min_border_bottom\":10,\"min_border_left\":10,\"min_border_right\":10,\"min_border_top\":10,\"renderers\":[{\"id\":\"2687\"}],\"sizing_mode\":\"fixed\",\"title\":{\"id\":\"2653\"},\"toolbar\":{\"id\":\"2674\"},\"width\":700,\"x_range\":{\"id\":\"2649\"},\"x_scale\":{\"id\":\"2657\"},\"y_range\":{\"id\":\"2650\"},\"y_scale\":{\"id\":\"2659\"}},\"id\":\"2652\",\"subtype\":\"Figure\",\"type\":\"Plot\"},{\"attributes\":{\"line_alpha\":0.2,\"line_color\":\"#30a2da\",\"line_width\":2,\"x\":{\"field\":\"Date\"},\"y\":{\"field\":\"SPY Close\"}},\"id\":\"2686\",\"type\":\"Line\"},{\"attributes\":{\"factors\":[\"2020-06-01\",\"2020-06-08\",\"2020-06-15\",\"2020-06-22\",\"2020-06-29\",\"2020-07-06\",\"2020-07-13\",\"2020-07-20\",\"2020-07-27\",\"2020-08-03\",\"2020-08-10\",\"2020-08-17\",\"2020-08-24\",\"2020-08-31\",\"2020-09-07\",\"2020-09-14\",\"2020-09-21\",\"2020-09-28\",\"2020-10-05\",\"2020-10-12\",\"2020-10-19\",\"2020-10-26\",\"2020-11-02\",\"2020-11-09\",\"2020-11-16\",\"2020-11-23\",\"2020-11-30\",\"2020-12-07\",\"2020-12-14\",\"2020-12-21\",\"2020-12-28\",\"2021-01-04\",\"2021-01-11\",\"2021-01-18\",\"2021-01-25\",\"2021-02-01\",\"2021-02-08\",\"2021-02-15\",\"2021-02-22\",\"2021-03-01\",\"2021-03-08\",\"2021-03-15\",\"2021-03-22\",\"2021-03-29\",\"2021-04-05\",\"2021-04-12\",\"2021-04-19\",\"2021-04-26\",\"2021-05-03\",\"2021-05-10\",\"2021-05-17\",\"2021-05-24\",\"2021-05-31\",\"2021-06-07\",\"2021-06-14\",\"2021-06-21\",\"2021-06-28\",\"2021-07-05\",\"2021-07-12\",\"2021-07-19\",\"2021-07-26\",\"2021-08-02\",\"2021-08-09\",\"2021-08-16\",\"2021-08-23\",\"2021-08-30\",\"2021-09-06\",\"2021-09-13\",\"2021-09-20\",\"2021-09-27\",\"2021-10-04\",\"2021-10-11\",\"2021-10-18\",\"2021-10-25\",\"2021-11-01\",\"2021-11-08\",\"2021-11-15\",\"2021-11-22\",\"2021-11-29\",\"2021-12-06\",\"2021-12-13\",\"2021-12-20\",\"2021-12-27\",\"2022-01-03\",\"2022-01-10\",\"2022-01-17\",\"2022-01-24\",\"2022-01-31\",\"2022-02-07\",\"2022-02-14\",\"2022-02-21\",\"2022-02-28\",\"2022-03-07\",\"2022-03-14\",\"2022-03-21\",\"2022-03-28\",\"2022-04-04\",\"2022-04-11\",\"2022-04-18\",\"2022-04-25\",\"2022-05-02\",\"2022-05-09\",\"2022-05-16\",\"2022-05-23\",\"2022-05-30\"],\"tags\":[[[\"Date\",\"Date\",null]]]},\"id\":\"2649\",\"type\":\"FactorRange\"},{\"attributes\":{},\"id\":\"2662\",\"type\":\"CategoricalTicker\"},{\"attributes\":{},\"id\":\"2670\",\"type\":\"WheelZoomTool\"},{\"attributes\":{\"overlay\":{\"id\":\"2673\"}},\"id\":\"2671\",\"type\":\"BoxZoomTool\"},{\"attributes\":{},\"id\":\"2665\",\"type\":\"BasicTicker\"},{\"attributes\":{},\"id\":\"2691\",\"type\":\"CategoricalTickFormatter\"},{\"attributes\":{\"coordinates\":null,\"group\":null,\"text_color\":\"black\",\"text_font_size\":\"12pt\"},\"id\":\"2653\",\"type\":\"Title\"},{\"attributes\":{\"data\":{\"Date\":[\"2020-06-01\",\"2020-06-08\",\"2020-06-15\",\"2020-06-22\",\"2020-06-29\",\"2020-07-06\",\"2020-07-13\",\"2020-07-20\",\"2020-07-27\",\"2020-08-03\",\"2020-08-10\",\"2020-08-17\",\"2020-08-24\",\"2020-08-31\",\"2020-09-07\",\"2020-09-14\",\"2020-09-21\",\"2020-09-28\",\"2020-10-05\",\"2020-10-12\",\"2020-10-19\",\"2020-10-26\",\"2020-11-02\",\"2020-11-09\",\"2020-11-16\",\"2020-11-23\",\"2020-11-30\",\"2020-12-07\",\"2020-12-14\",\"2020-12-21\",\"2020-12-28\",\"2021-01-04\",\"2021-01-11\",\"2021-01-18\",\"2021-01-25\",\"2021-02-01\",\"2021-02-08\",\"2021-02-15\",\"2021-02-22\",\"2021-03-01\",\"2021-03-08\",\"2021-03-15\",\"2021-03-22\",\"2021-03-29\",\"2021-04-05\",\"2021-04-12\",\"2021-04-19\",\"2021-04-26\",\"2021-05-03\",\"2021-05-10\",\"2021-05-17\",\"2021-05-24\",\"2021-05-31\",\"2021-06-07\",\"2021-06-14\",\"2021-06-21\",\"2021-06-28\",\"2021-07-05\",\"2021-07-12\",\"2021-07-19\",\"2021-07-26\",\"2021-08-02\",\"2021-08-09\",\"2021-08-16\",\"2021-08-23\",\"2021-08-30\",\"2021-09-06\",\"2021-09-13\",\"2021-09-20\",\"2021-09-27\",\"2021-10-04\",\"2021-10-11\",\"2021-10-18\",\"2021-10-25\",\"2021-11-01\",\"2021-11-08\",\"2021-11-15\",\"2021-11-22\",\"2021-11-29\",\"2021-12-06\",\"2021-12-13\",\"2021-12-20\",\"2021-12-27\",\"2022-01-03\",\"2022-01-10\",\"2022-01-17\",\"2022-01-24\",\"2022-01-31\",\"2022-02-07\",\"2022-02-14\",\"2022-02-21\",\"2022-02-28\",\"2022-03-07\",\"2022-03-14\",\"2022-03-21\",\"2022-03-28\",\"2022-04-04\",\"2022-04-11\",\"2022-04-18\",\"2022-04-25\",\"2022-05-02\",\"2022-05-09\",\"2022-05-16\",\"2022-05-23\",\"2022-05-30\"],\"SPY Close\":{\"__ndarray__\":\"AAAAoHD1c0AAAAAgXANzQAAAAIA9SnNAAAAAwMzAckAAAAAgroNzQAAAAKBw2XNAAAAAIIUbdEAAAACAFA50QAAAAOBRaHRAAAAAwB7pdEAAAACgcA11QAAAACCuN3VAAAAAoEfpdUAAAADAHml1QAAAAMD14HRAAAAAYGaqdEAAAAAgrot0QAAAAKBw3XRAAAAAoJmtdUAAAADgo7R1QAAAAOB6nHVAAAAA4KNodEAAAABgj+J1QAAAAKCZYXZAAAAAoEc1dkAAAABguLp2QAAAAKCZHXdAAAAAwMzkdkAAAABA4RJ3QAAAAAAAEHdAAAAAgBRed0AAAAAAKdR3QAAAAEAze3dAAAAAgBTud0AAAADAHiF3QAAAACBcO3hAAAAAgD2KeEAAAADgemB4QAAAAIDCxXdAAAAAgBT6d0AAAADA9aB4QAAAACCuV3hAAAAAIK6/eEAAAACAwgl5QAAAAADXt3lAAAAAACkUekAAAAAA1wt6QAAAAMDMFHpAAAAAgOthekAAAACgRwl6QAAAAEAK73lAAAAA4KNAekAAAACgmWl6QAAAAMD1hHpAAAAAYLjueUAAAACAwql6QAAAACCFG3tAAAAA4FE4e0AAAACgcPV6QAAAAEAKf3tAAAAAACloe0AAAAAA16d7QAAAAGC43ntAAAAAgMK1e0AAAAAAACR8QAAAAKBHUXxAAAAAQArXe0AAAABgZpZ7QAAAAGCPvntAAAAAANcje0AAAACAwl17QAAAAIDr3XtAAAAAgOtRfEAAAAAAALR8QAAAAOB6SH1AAAAA4FE0fUAAAACAPU59QAAAACCFr3xAAAAAYLhWfEAAAAAA12t9QAAAAIDrvXxAAAAAoJlpfUAAAAAgXK99QAAAAKBwIX1AAAAAIIULfUAAAAAgrl97QAAAAEAzn3tAAAAAQDMLfEAAAAAgXId7QAAAACCuI3tAAAAAAABce0AAAABguAJ7QAAAAMAeQXpAAAAA4FHIe0AAAABACkt8QAAAAGC4TnxAAAAAwB75e0AAAADgo1x7QAAAAOCjoHpAAAAAAADAeUAAAACgcLV5QAAAACCFG3lAAAAAgBRaeEAAAAAAKfR5QAAAAEDhznlA\",\"dtype\":\"float64\",\"order\":\"little\",\"shape\":[105]},\"SPY_Close\":{\"__ndarray__\":\"AAAAoHD1c0AAAAAgXANzQAAAAIA9SnNAAAAAwMzAckAAAAAgroNzQAAAAKBw2XNAAAAAIIUbdEAAAACAFA50QAAAAOBRaHRAAAAAwB7pdEAAAACgcA11QAAAACCuN3VAAAAAoEfpdUAAAADAHml1QAAAAMD14HRAAAAAYGaqdEAAAAAgrot0QAAAAKBw3XRAAAAAoJmtdUAAAADgo7R1QAAAAOB6nHVAAAAA4KNodEAAAABgj+J1QAAAAKCZYXZAAAAAoEc1dkAAAABguLp2QAAAAKCZHXdAAAAAwMzkdkAAAABA4RJ3QAAAAAAAEHdAAAAAgBRed0AAAAAAKdR3QAAAAEAze3dAAAAAgBTud0AAAADAHiF3QAAAACBcO3hAAAAAgD2KeEAAAADgemB4QAAAAIDCxXdAAAAAgBT6d0AAAADA9aB4QAAAACCuV3hAAAAAIK6/eEAAAACAwgl5QAAAAADXt3lAAAAAACkUekAAAAAA1wt6QAAAAMDMFHpAAAAAgOthekAAAACgRwl6QAAAAEAK73lAAAAA4KNAekAAAACgmWl6QAAAAMD1hHpAAAAAYLjueUAAAACAwql6QAAAACCFG3tAAAAA4FE4e0AAAACgcPV6QAAAAEAKf3tAAAAAACloe0AAAAAA16d7QAAAAGC43ntAAAAAgMK1e0AAAAAAACR8QAAAAKBHUXxAAAAAQArXe0AAAABgZpZ7QAAAAGCPvntAAAAAANcje0AAAACAwl17QAAAAIDr3XtAAAAAgOtRfEAAAAAAALR8QAAAAOB6SH1AAAAA4FE0fUAAAACAPU59QAAAACCFr3xAAAAAYLhWfEAAAAAA12t9QAAAAIDrvXxAAAAAoJlpfUAAAAAgXK99QAAAAKBwIX1AAAAAIIULfUAAAAAgrl97QAAAAEAzn3tAAAAAQDMLfEAAAAAgXId7QAAAACCuI3tAAAAAAABce0AAAABguAJ7QAAAAMAeQXpAAAAA4FHIe0AAAABACkt8QAAAAGC4TnxAAAAAwB75e0AAAADgo1x7QAAAAOCjoHpAAAAAAADAeUAAAACgcLV5QAAAACCFG3lAAAAAgBRaeEAAAAAAKfR5QAAAAEDhznlA\",\"dtype\":\"float64\",\"order\":\"little\",\"shape\":[105]}},\"selected\":{\"id\":\"2682\"},\"selection_policy\":{\"id\":\"2703\"}},\"id\":\"2681\",\"type\":\"ColumnDataSource\"},{\"attributes\":{},\"id\":\"2672\",\"type\":\"ResetTool\"},{\"attributes\":{\"axis_label\":\"Date\",\"coordinates\":null,\"formatter\":{\"id\":\"2691\"},\"group\":null,\"major_label_policy\":{\"id\":\"2692\"},\"ticker\":{\"id\":\"2662\"}},\"id\":\"2661\",\"type\":\"CategoricalAxis\"},{\"attributes\":{\"bottom_units\":\"screen\",\"coordinates\":null,\"fill_alpha\":0.5,\"fill_color\":\"lightgrey\",\"group\":null,\"left_units\":\"screen\",\"level\":\"overlay\",\"line_alpha\":1.0,\"line_color\":\"black\",\"line_dash\":[4,4],\"line_width\":2,\"right_units\":\"screen\",\"syncable\":false,\"top_units\":\"screen\"},\"id\":\"2673\",\"type\":\"BoxAnnotation\"},{\"attributes\":{\"tools\":[{\"id\":\"2651\"},{\"id\":\"2668\"},{\"id\":\"2669\"},{\"id\":\"2670\"},{\"id\":\"2671\"},{\"id\":\"2672\"}]},\"id\":\"2674\",\"type\":\"Toolbar\"},{\"attributes\":{},\"id\":\"2668\",\"type\":\"SaveTool\"},{\"attributes\":{},\"id\":\"2695\",\"type\":\"AllLabels\"},{\"attributes\":{\"axis\":{\"id\":\"2661\"},\"coordinates\":null,\"grid_line_color\":null,\"group\":null,\"ticker\":null},\"id\":\"2663\",\"type\":\"Grid\"},{\"attributes\":{\"children\":[{\"id\":\"2648\"},{\"id\":\"2652\"},{\"id\":\"2716\"}],\"margin\":[0,0,0,0],\"name\":\"Row04952\",\"tags\":[\"embedded\"]},\"id\":\"2647\",\"type\":\"Row\"},{\"attributes\":{},\"id\":\"2657\",\"type\":\"CategoricalScale\"},{\"attributes\":{\"callback\":null,\"renderers\":[{\"id\":\"2687\"}],\"tags\":[\"hv_created\"],\"tooltips\":[[\"Date\",\"@{Date}\"],[\"SPY Close\",\"@{SPY_Close}\"]]},\"id\":\"2651\",\"type\":\"HoverTool\"},{\"attributes\":{},\"id\":\"2669\",\"type\":\"PanTool\"},{\"attributes\":{},\"id\":\"2703\",\"type\":\"UnionRenderers\"},{\"attributes\":{},\"id\":\"2692\",\"type\":\"AllLabels\"},{\"attributes\":{},\"id\":\"2659\",\"type\":\"LinearScale\"},{\"attributes\":{\"end\":492.45099182128905,\"reset_end\":492.45099182128905,\"reset_start\":282.5589874267578,\"start\":282.5589874267578,\"tags\":[[[\"SPY Close\",\"SPY Close\",null]]]},\"id\":\"2650\",\"type\":\"Range1d\"},{\"attributes\":{},\"id\":\"2682\",\"type\":\"Selection\"},{\"attributes\":{\"source\":{\"id\":\"2681\"}},\"id\":\"2688\",\"type\":\"CDSView\"},{\"attributes\":{\"margin\":[5,5,5,5],\"name\":\"HSpacer04956\",\"sizing_mode\":\"stretch_width\"},\"id\":\"2648\",\"type\":\"Spacer\"},{\"attributes\":{\"line_color\":\"#30a2da\",\"line_width\":2,\"x\":{\"field\":\"Date\"},\"y\":{\"field\":\"SPY Close\"}},\"id\":\"2684\",\"type\":\"Line\"},{\"attributes\":{\"margin\":[5,5,5,5],\"name\":\"HSpacer04957\",\"sizing_mode\":\"stretch_width\"},\"id\":\"2716\",\"type\":\"Spacer\"},{\"attributes\":{\"line_alpha\":0.1,\"line_color\":\"#30a2da\",\"line_width\":2,\"x\":{\"field\":\"Date\"},\"y\":{\"field\":\"SPY Close\"}},\"id\":\"2685\",\"type\":\"Line\"},{\"attributes\":{},\"id\":\"2694\",\"type\":\"BasicTickFormatter\"}],\"root_ids\":[\"2647\"]},\"title\":\"Bokeh Application\",\"version\":\"2.4.1\"}};\n",
       "    var render_items = [{\"docid\":\"b81b8805-3167-4776-87d1-2109a2a4b328\",\"root_ids\":[\"2647\"],\"roots\":{\"2647\":\"63f4d183-785c-4499-80bb-e0270318041b\"}}];\n",
       "    root.Bokeh.embed.embed_items_notebook(docs_json, render_items);\n",
       "  }\n",
       "  if (root.Bokeh !== undefined && root.Bokeh.Panel !== undefined) {\n",
       "    embed_document(root);\n",
       "  } else {\n",
       "    var attempts = 0;\n",
       "    var timer = setInterval(function(root) {\n",
       "      if (root.Bokeh !== undefined && root.Bokeh.Panel !== undefined) {\n",
       "        clearInterval(timer);\n",
       "        embed_document(root);\n",
       "      } else if (document.readyState == \"complete\") {\n",
       "        attempts++;\n",
       "        if (attempts > 200) {\n",
       "          clearInterval(timer);\n",
       "          console.log(\"Bokeh: ERROR: Unable to run BokehJS code because BokehJS library is missing\");\n",
       "        }\n",
       "      }\n",
       "    }, 25, root)\n",
       "  }\n",
       "})(window);</script>"
      ],
      "text/plain": [
       ":Curve   [Date]   (SPY Close)"
      ]
     },
     "execution_count": 83,
     "metadata": {
      "application/vnd.holoviews_exec.v0+json": {
       "id": "2647"
      }
     },
     "output_type": "execute_result"
    }
   ],
   "source": [
    "SPY_prices_df.hvplot()"
   ]
  },
  {
   "cell_type": "code",
   "execution_count": 84,
   "id": "9f8776b4-455b-4638-935d-e227ab04cc58",
   "metadata": {},
   "outputs": [],
   "source": [
    "yahoo_financials = YahooFinancials('BTC-USD')\n",
    "BTC_prices=(yahoo_financials.get_historical_price_data(\"2020-06-01\", \"2022-06-01\", \"weekly\"))\n",
    "#print(BTC_prices)"
   ]
  },
  {
   "cell_type": "code",
   "execution_count": 85,
   "id": "5afcc8c7-8728-4a1e-a936-8fcf60aa0ec9",
   "metadata": {},
   "outputs": [],
   "source": [
    "json_object= json.dumps(BTC_prices['BTC-USD']['prices'], indent = 4)\n",
    "with open(\"sample.json\", \"w\") as outfile:\n",
    "    outfile.write(json_object)"
   ]
  },
  {
   "cell_type": "code",
   "execution_count": 86,
   "id": "00f90702-e03a-496a-bef4-978ca806cb69",
   "metadata": {},
   "outputs": [],
   "source": [
    "BTC_prices = pd.read_json('sample.json')"
   ]
  },
  {
   "cell_type": "code",
   "execution_count": 87,
   "id": "a485d2d0-ce3a-44bb-8fa4-79ba839fb617",
   "metadata": {},
   "outputs": [
    {
     "data": {
      "text/plain": [
       "(105, 8)"
      ]
     },
     "execution_count": 87,
     "metadata": {},
     "output_type": "execute_result"
    }
   ],
   "source": [
    "BTC_prices.shape"
   ]
  },
  {
   "cell_type": "code",
   "execution_count": 88,
   "id": "0a84f127-db4e-4a67-9367-ee7e0ad0480e",
   "metadata": {},
   "outputs": [
    {
     "data": {
      "text/html": [
       "<div>\n",
       "<style scoped>\n",
       "    .dataframe tbody tr th:only-of-type {\n",
       "        vertical-align: middle;\n",
       "    }\n",
       "\n",
       "    .dataframe tbody tr th {\n",
       "        vertical-align: top;\n",
       "    }\n",
       "\n",
       "    .dataframe thead th {\n",
       "        text-align: right;\n",
       "    }\n",
       "</style>\n",
       "<table border=\"1\" class=\"dataframe\">\n",
       "  <thead>\n",
       "    <tr style=\"text-align: right;\">\n",
       "      <th></th>\n",
       "      <th>date</th>\n",
       "      <th>high</th>\n",
       "      <th>low</th>\n",
       "      <th>open</th>\n",
       "      <th>close</th>\n",
       "      <th>volume</th>\n",
       "      <th>adjclose</th>\n",
       "      <th>formatted_date</th>\n",
       "    </tr>\n",
       "  </thead>\n",
       "  <tbody>\n",
       "    <tr>\n",
       "      <th>0</th>\n",
       "      <td>2020-06-01</td>\n",
       "      <td>10199.565430</td>\n",
       "      <td>9450.899414</td>\n",
       "      <td>9463.605469</td>\n",
       "      <td>9758.852539</td>\n",
       "      <td>194228716225</td>\n",
       "      <td>9758.852539</td>\n",
       "      <td>2020-06-01</td>\n",
       "    </tr>\n",
       "    <tr>\n",
       "      <th>1</th>\n",
       "      <td>2020-06-08</td>\n",
       "      <td>9938.297852</td>\n",
       "      <td>9263.069336</td>\n",
       "      <td>9760.063477</td>\n",
       "      <td>9386.788086</td>\n",
       "      <td>160324519712</td>\n",
       "      <td>9386.788086</td>\n",
       "      <td>2020-06-08</td>\n",
       "    </tr>\n",
       "    <tr>\n",
       "      <th>2</th>\n",
       "      <td>2020-06-15</td>\n",
       "      <td>9579.430664</td>\n",
       "      <td>8990.175781</td>\n",
       "      <td>9386.035156</td>\n",
       "      <td>9303.629883</td>\n",
       "      <td>138300100692</td>\n",
       "      <td>9303.629883</td>\n",
       "      <td>2020-06-15</td>\n",
       "    </tr>\n",
       "    <tr>\n",
       "      <th>3</th>\n",
       "      <td>2020-06-22</td>\n",
       "      <td>9680.367188</td>\n",
       "      <td>8975.525391</td>\n",
       "      <td>9300.915039</td>\n",
       "      <td>9143.582031</td>\n",
       "      <td>125863637229</td>\n",
       "      <td>9143.582031</td>\n",
       "      <td>2020-06-22</td>\n",
       "    </tr>\n",
       "    <tr>\n",
       "      <th>4</th>\n",
       "      <td>2020-06-29</td>\n",
       "      <td>9309.754883</td>\n",
       "      <td>8977.015625</td>\n",
       "      <td>9140.029297</td>\n",
       "      <td>9073.942383</td>\n",
       "      <td>102779717630</td>\n",
       "      <td>9073.942383</td>\n",
       "      <td>2020-06-29</td>\n",
       "    </tr>\n",
       "  </tbody>\n",
       "</table>\n",
       "</div>"
      ],
      "text/plain": [
       "        date          high          low         open        close  \\\n",
       "0 2020-06-01  10199.565430  9450.899414  9463.605469  9758.852539   \n",
       "1 2020-06-08   9938.297852  9263.069336  9760.063477  9386.788086   \n",
       "2 2020-06-15   9579.430664  8990.175781  9386.035156  9303.629883   \n",
       "3 2020-06-22   9680.367188  8975.525391  9300.915039  9143.582031   \n",
       "4 2020-06-29   9309.754883  8977.015625  9140.029297  9073.942383   \n",
       "\n",
       "         volume     adjclose formatted_date  \n",
       "0  194228716225  9758.852539     2020-06-01  \n",
       "1  160324519712  9386.788086     2020-06-08  \n",
       "2  138300100692  9303.629883     2020-06-15  \n",
       "3  125863637229  9143.582031     2020-06-22  \n",
       "4  102779717630  9073.942383     2020-06-29  "
      ]
     },
     "execution_count": 88,
     "metadata": {},
     "output_type": "execute_result"
    }
   ],
   "source": [
    "BTC_prices_df = pd.DataFrame(BTC_prices)\n",
    "BTC_prices_df.head()"
   ]
  },
  {
   "cell_type": "code",
   "execution_count": 89,
   "id": "37c98ff6-99f4-4fb1-b390-bb6de9dba6d2",
   "metadata": {},
   "outputs": [],
   "source": [
    "BTC_prices_df.drop(['date','high','low','open','adjclose'],axis=1, inplace = True)\n",
    "BTC_prices_df.rename(columns = {'close':'BTC Close', 'volume':'BTC Volume','formatted_date':'Date'}, inplace = True)\n",
    "BTC_prices_df.set_index('Date', inplace = True)"
   ]
  },
  {
   "cell_type": "code",
   "execution_count": 90,
   "id": "3803d00d-dec0-4cd2-8055-528f979263fc",
   "metadata": {},
   "outputs": [
    {
     "data": {},
     "metadata": {},
     "output_type": "display_data"
    },
    {
     "data": {
      "application/vnd.holoviews_exec.v0+json": "",
      "text/html": [
       "<div id='2768'>\n",
       "\n",
       "\n",
       "\n",
       "\n",
       "\n",
       "  <div class=\"bk-root\" id=\"7ac4c178-fd4b-4b9a-b3ab-28cdc2ee4f2e\" data-root-id=\"2768\"></div>\n",
       "</div>\n",
       "<script type=\"application/javascript\">(function(root) {\n",
       "  function embed_document(root) {\n",
       "    var docs_json = {\"d2251a8c-7425-462c-a11a-0383f23a7822\":{\"defs\":[{\"extends\":null,\"module\":null,\"name\":\"ReactiveHTML1\",\"overrides\":[],\"properties\":[]},{\"extends\":null,\"module\":null,\"name\":\"FlexBox1\",\"overrides\":[],\"properties\":[{\"default\":\"flex-start\",\"kind\":null,\"name\":\"align_content\"},{\"default\":\"flex-start\",\"kind\":null,\"name\":\"align_items\"},{\"default\":\"row\",\"kind\":null,\"name\":\"flex_direction\"},{\"default\":\"wrap\",\"kind\":null,\"name\":\"flex_wrap\"},{\"default\":\"flex-start\",\"kind\":null,\"name\":\"justify_content\"}]},{\"extends\":null,\"module\":null,\"name\":\"GridStack1\",\"overrides\":[],\"properties\":[{\"default\":\"warn\",\"kind\":null,\"name\":\"mode\"},{\"default\":null,\"kind\":null,\"name\":\"ncols\"},{\"default\":null,\"kind\":null,\"name\":\"nrows\"},{\"default\":true,\"kind\":null,\"name\":\"allow_resize\"},{\"default\":true,\"kind\":null,\"name\":\"allow_drag\"},{\"default\":[],\"kind\":null,\"name\":\"state\"}]},{\"extends\":null,\"module\":null,\"name\":\"click1\",\"overrides\":[],\"properties\":[{\"default\":\"\",\"kind\":null,\"name\":\"terminal_output\"},{\"default\":\"\",\"kind\":null,\"name\":\"debug_name\"},{\"default\":0,\"kind\":null,\"name\":\"clears\"}]},{\"extends\":null,\"module\":null,\"name\":\"TemplateActions1\",\"overrides\":[],\"properties\":[{\"default\":0,\"kind\":null,\"name\":\"open_modal\"},{\"default\":0,\"kind\":null,\"name\":\"close_modal\"}]},{\"extends\":null,\"module\":null,\"name\":\"MaterialTemplateActions1\",\"overrides\":[],\"properties\":[{\"default\":0,\"kind\":null,\"name\":\"open_modal\"},{\"default\":0,\"kind\":null,\"name\":\"close_modal\"}]}],\"roots\":{\"references\":[{\"attributes\":{},\"id\":\"2779\",\"type\":\"CategoricalScale\"},{\"attributes\":{\"line_color\":\"#30a2da\",\"line_width\":2,\"x\":{\"field\":\"Date\"},\"y\":{\"field\":\"value\"}},\"id\":\"2812\",\"type\":\"Line\"},{\"attributes\":{\"line_color\":\"#fc4f30\",\"line_width\":2,\"x\":{\"field\":\"Date\"},\"y\":{\"field\":\"value\"}},\"id\":\"2833\",\"type\":\"Line\"},{\"attributes\":{},\"id\":\"2794\",\"type\":\"ResetTool\"},{\"attributes\":{\"line_alpha\":0.2,\"line_color\":\"#fc4f30\",\"line_width\":2,\"x\":{\"field\":\"Date\"},\"y\":{\"field\":\"value\"}},\"id\":\"2835\",\"type\":\"Line\"},{\"attributes\":{},\"id\":\"2787\",\"type\":\"BasicTicker\"},{\"attributes\":{\"margin\":[5,5,5,5],\"name\":\"HSpacer05212\",\"sizing_mode\":\"stretch_width\"},\"id\":\"2960\",\"type\":\"Spacer\"},{\"attributes\":{\"overlay\":{\"id\":\"2795\"}},\"id\":\"2793\",\"type\":\"BoxZoomTool\"},{\"attributes\":{},\"id\":\"2824\",\"type\":\"UnionRenderers\"},{\"attributes\":{\"line_alpha\":0.1,\"line_color\":\"#fc4f30\",\"line_width\":2,\"x\":{\"field\":\"Date\"},\"y\":{\"field\":\"value\"}},\"id\":\"2834\",\"type\":\"Line\"},{\"attributes\":{},\"id\":\"2847\",\"type\":\"UnionRenderers\"},{\"attributes\":{\"end\":843347752478.1057,\"reset_end\":843347752478.1057,\"reset_start\":-76667967599.16338,\"start\":-76667967599.16338,\"tags\":[[[\"value\",\"value\",null]]]},\"id\":\"2771\",\"type\":\"Range1d\"},{\"attributes\":{},\"id\":\"2804\",\"type\":\"CategoricalTickFormatter\"},{\"attributes\":{\"line_alpha\":0.2,\"line_color\":\"#30a2da\",\"line_width\":2,\"x\":{\"field\":\"Date\"},\"y\":{\"field\":\"value\"}},\"id\":\"2814\",\"type\":\"Line\"},{\"attributes\":{\"line_color\":\"#30a2da\",\"line_width\":2,\"x\":{\"field\":\"Date\"},\"y\":{\"field\":\"value\"}},\"id\":\"2829\",\"type\":\"Line\"},{\"attributes\":{\"margin\":[5,5,5,5],\"name\":\"HSpacer05211\",\"sizing_mode\":\"stretch_width\"},\"id\":\"2769\",\"type\":\"Spacer\"},{\"attributes\":{},\"id\":\"2784\",\"type\":\"CategoricalTicker\"},{\"attributes\":{\"source\":{\"id\":\"2830\"}},\"id\":\"2837\",\"type\":\"CDSView\"},{\"attributes\":{\"label\":{\"value\":\"BTC Volume\"},\"renderers\":[{\"id\":\"2836\"}]},\"id\":\"2850\",\"type\":\"LegendItem\"},{\"attributes\":{\"axis_label\":\"\",\"coordinates\":null,\"formatter\":{\"id\":\"2807\"},\"group\":null,\"major_label_policy\":{\"id\":\"2808\"},\"ticker\":{\"id\":\"2787\"}},\"id\":\"2786\",\"type\":\"LinearAxis\"},{\"attributes\":{\"line_alpha\":0.1,\"line_color\":\"#30a2da\",\"line_width\":2,\"x\":{\"field\":\"Date\"},\"y\":{\"field\":\"value\"}},\"id\":\"2813\",\"type\":\"Line\"},{\"attributes\":{\"coordinates\":null,\"data_source\":{\"id\":\"2809\"},\"glyph\":{\"id\":\"2812\"},\"group\":null,\"hover_glyph\":null,\"muted_glyph\":{\"id\":\"2814\"},\"nonselection_glyph\":{\"id\":\"2813\"},\"selection_glyph\":{\"id\":\"2829\"},\"view\":{\"id\":\"2816\"}},\"id\":\"2815\",\"type\":\"GlyphRenderer\"},{\"attributes\":{\"coordinates\":null,\"group\":null,\"text_color\":\"black\",\"text_font_size\":\"12pt\"},\"id\":\"2775\",\"type\":\"Title\"},{\"attributes\":{},\"id\":\"2791\",\"type\":\"PanTool\"},{\"attributes\":{\"label\":{\"value\":\"BTC Close\"},\"renderers\":[{\"id\":\"2815\"}]},\"id\":\"2828\",\"type\":\"LegendItem\"},{\"attributes\":{},\"id\":\"2781\",\"type\":\"LinearScale\"},{\"attributes\":{\"bottom_units\":\"screen\",\"coordinates\":null,\"fill_alpha\":0.5,\"fill_color\":\"lightgrey\",\"group\":null,\"left_units\":\"screen\",\"level\":\"overlay\",\"line_alpha\":1.0,\"line_color\":\"black\",\"line_dash\":[4,4],\"line_width\":2,\"right_units\":\"screen\",\"syncable\":false,\"top_units\":\"screen\"},\"id\":\"2795\",\"type\":\"BoxAnnotation\"},{\"attributes\":{\"children\":[{\"id\":\"2769\"},{\"id\":\"2774\"},{\"id\":\"2960\"}],\"margin\":[0,0,0,0],\"name\":\"Row05207\",\"tags\":[\"embedded\"]},\"id\":\"2768\",\"type\":\"Row\"},{\"attributes\":{},\"id\":\"2792\",\"type\":\"WheelZoomTool\"},{\"attributes\":{},\"id\":\"2807\",\"type\":\"BasicTickFormatter\"},{\"attributes\":{},\"id\":\"2805\",\"type\":\"AllLabels\"},{\"attributes\":{\"axis\":{\"id\":\"2786\"},\"coordinates\":null,\"dimension\":1,\"grid_line_color\":null,\"group\":null,\"ticker\":null},\"id\":\"2789\",\"type\":\"Grid\"},{\"attributes\":{\"data\":{\"Date\":[\"2020-06-01\",\"2020-06-08\",\"2020-06-15\",\"2020-06-22\",\"2020-06-29\",\"2020-07-06\",\"2020-07-13\",\"2020-07-20\",\"2020-07-27\",\"2020-08-03\",\"2020-08-10\",\"2020-08-17\",\"2020-08-24\",\"2020-08-31\",\"2020-09-07\",\"2020-09-14\",\"2020-09-21\",\"2020-09-28\",\"2020-10-05\",\"2020-10-12\",\"2020-10-19\",\"2020-10-26\",\"2020-11-02\",\"2020-11-09\",\"2020-11-16\",\"2020-11-23\",\"2020-11-30\",\"2020-12-07\",\"2020-12-14\",\"2020-12-21\",\"2020-12-28\",\"2021-01-04\",\"2021-01-11\",\"2021-01-18\",\"2021-01-25\",\"2021-02-01\",\"2021-02-08\",\"2021-02-15\",\"2021-02-22\",\"2021-03-01\",\"2021-03-08\",\"2021-03-15\",\"2021-03-22\",\"2021-03-29\",\"2021-04-05\",\"2021-04-12\",\"2021-04-19\",\"2021-04-26\",\"2021-05-03\",\"2021-05-10\",\"2021-05-17\",\"2021-05-24\",\"2021-05-31\",\"2021-06-07\",\"2021-06-14\",\"2021-06-21\",\"2021-06-28\",\"2021-07-05\",\"2021-07-12\",\"2021-07-19\",\"2021-07-26\",\"2021-08-02\",\"2021-08-09\",\"2021-08-16\",\"2021-08-23\",\"2021-08-30\",\"2021-09-06\",\"2021-09-13\",\"2021-09-20\",\"2021-09-27\",\"2021-10-04\",\"2021-10-11\",\"2021-10-18\",\"2021-10-25\",\"2021-11-01\",\"2021-11-08\",\"2021-11-15\",\"2021-11-22\",\"2021-11-29\",\"2021-12-06\",\"2021-12-13\",\"2021-12-20\",\"2021-12-27\",\"2022-01-03\",\"2022-01-10\",\"2022-01-17\",\"2022-01-24\",\"2022-01-31\",\"2022-02-07\",\"2022-02-14\",\"2022-02-21\",\"2022-02-28\",\"2022-03-07\",\"2022-03-14\",\"2022-03-21\",\"2022-03-28\",\"2022-04-04\",\"2022-04-11\",\"2022-04-18\",\"2022-04-25\",\"2022-05-02\",\"2022-05-09\",\"2022-05-16\",\"2022-05-23\",\"2022-05-30\"],\"Variable\":[\"BTC Volume\",\"BTC Volume\",\"BTC Volume\",\"BTC Volume\",\"BTC Volume\",\"BTC Volume\",\"BTC Volume\",\"BTC Volume\",\"BTC Volume\",\"BTC Volume\",\"BTC Volume\",\"BTC Volume\",\"BTC Volume\",\"BTC Volume\",\"BTC Volume\",\"BTC Volume\",\"BTC Volume\",\"BTC Volume\",\"BTC Volume\",\"BTC Volume\",\"BTC Volume\",\"BTC Volume\",\"BTC Volume\",\"BTC Volume\",\"BTC Volume\",\"BTC Volume\",\"BTC Volume\",\"BTC Volume\",\"BTC Volume\",\"BTC Volume\",\"BTC Volume\",\"BTC Volume\",\"BTC Volume\",\"BTC Volume\",\"BTC Volume\",\"BTC Volume\",\"BTC Volume\",\"BTC Volume\",\"BTC Volume\",\"BTC Volume\",\"BTC Volume\",\"BTC Volume\",\"BTC Volume\",\"BTC Volume\",\"BTC Volume\",\"BTC Volume\",\"BTC Volume\",\"BTC Volume\",\"BTC Volume\",\"BTC Volume\",\"BTC Volume\",\"BTC Volume\",\"BTC Volume\",\"BTC Volume\",\"BTC Volume\",\"BTC Volume\",\"BTC Volume\",\"BTC Volume\",\"BTC Volume\",\"BTC Volume\",\"BTC Volume\",\"BTC Volume\",\"BTC Volume\",\"BTC Volume\",\"BTC Volume\",\"BTC Volume\",\"BTC Volume\",\"BTC Volume\",\"BTC Volume\",\"BTC Volume\",\"BTC Volume\",\"BTC Volume\",\"BTC Volume\",\"BTC Volume\",\"BTC Volume\",\"BTC Volume\",\"BTC Volume\",\"BTC Volume\",\"BTC Volume\",\"BTC Volume\",\"BTC Volume\",\"BTC Volume\",\"BTC Volume\",\"BTC Volume\",\"BTC Volume\",\"BTC Volume\",\"BTC Volume\",\"BTC Volume\",\"BTC Volume\",\"BTC Volume\",\"BTC Volume\",\"BTC Volume\",\"BTC Volume\",\"BTC Volume\",\"BTC Volume\",\"BTC Volume\",\"BTC Volume\",\"BTC Volume\",\"BTC Volume\",\"BTC Volume\",\"BTC Volume\",\"BTC Volume\",\"BTC Volume\",\"BTC Volume\",\"BTC Volume\"],\"value\":[194228716225,160324519712,138300100692,125863637229,102779717630,113994286210,106299733734,120174678243,188247005753,147527884833,173916901671,161417688724,149742951013,221515306287,264126813725,210690462551,263386919085,343112501609,256921249410,162045277956,210845277262,240919962782,238108964192,206407256877,274506990351,301939363508,253088772491,193678842258,281723269352,339132207025,379626054545,538834804975,508900951412,423439379849,495037340009,449918619842,580021243858,470533297170,766679775805,333113779409,373838576722,393542542227,403128836645,408348561550,406637390979,508118943571,444719708699,335231529997,458766142208,483967915938,563629210102,350206489990,248884892724,298428017340,269949570053,305541799334,231729218470,178445862441,147501894180,156414750211,237553113912,226902699564,234268000892,236289722726,223947952688,256225023619,293311066613,226141953163,270099994433,223042115392,261919545521,277084548345,257856648064,256114057651,227064607869,259776276520,253419951009,243930001011,276690611812,208148497532,214770398202,175052499792,203998848909,276182787152,199473804544,196326044073,178727434896,143977109319,176958095731,144975794552,190469710084,187557375751,175966999156,184097042034,188591889758,223334181931,188557001876,174652159709,184314843516,216681007567,239044762282,357800928090,196429842104,212594819496,113952021249]},\"selected\":{\"id\":\"2831\"},\"selection_policy\":{\"id\":\"2847\"}},\"id\":\"2830\",\"type\":\"ColumnDataSource\"},{\"attributes\":{},\"id\":\"2808\",\"type\":\"AllLabels\"},{\"attributes\":{\"axis_label\":\"Date\",\"coordinates\":null,\"formatter\":{\"id\":\"2804\"},\"group\":null,\"major_label_policy\":{\"id\":\"2805\"},\"ticker\":{\"id\":\"2784\"}},\"id\":\"2783\",\"type\":\"CategoricalAxis\"},{\"attributes\":{\"coordinates\":null,\"data_source\":{\"id\":\"2830\"},\"glyph\":{\"id\":\"2833\"},\"group\":null,\"hover_glyph\":null,\"muted_glyph\":{\"id\":\"2835\"},\"nonselection_glyph\":{\"id\":\"2834\"},\"selection_glyph\":{\"id\":\"2851\"},\"view\":{\"id\":\"2837\"}},\"id\":\"2836\",\"type\":\"GlyphRenderer\"},{\"attributes\":{\"tools\":[{\"id\":\"2772\"},{\"id\":\"2790\"},{\"id\":\"2791\"},{\"id\":\"2792\"},{\"id\":\"2793\"},{\"id\":\"2794\"}]},\"id\":\"2796\",\"type\":\"Toolbar\"},{\"attributes\":{\"data\":{\"Date\":[\"2020-06-01\",\"2020-06-08\",\"2020-06-15\",\"2020-06-22\",\"2020-06-29\",\"2020-07-06\",\"2020-07-13\",\"2020-07-20\",\"2020-07-27\",\"2020-08-03\",\"2020-08-10\",\"2020-08-17\",\"2020-08-24\",\"2020-08-31\",\"2020-09-07\",\"2020-09-14\",\"2020-09-21\",\"2020-09-28\",\"2020-10-05\",\"2020-10-12\",\"2020-10-19\",\"2020-10-26\",\"2020-11-02\",\"2020-11-09\",\"2020-11-16\",\"2020-11-23\",\"2020-11-30\",\"2020-12-07\",\"2020-12-14\",\"2020-12-21\",\"2020-12-28\",\"2021-01-04\",\"2021-01-11\",\"2021-01-18\",\"2021-01-25\",\"2021-02-01\",\"2021-02-08\",\"2021-02-15\",\"2021-02-22\",\"2021-03-01\",\"2021-03-08\",\"2021-03-15\",\"2021-03-22\",\"2021-03-29\",\"2021-04-05\",\"2021-04-12\",\"2021-04-19\",\"2021-04-26\",\"2021-05-03\",\"2021-05-10\",\"2021-05-17\",\"2021-05-24\",\"2021-05-31\",\"2021-06-07\",\"2021-06-14\",\"2021-06-21\",\"2021-06-28\",\"2021-07-05\",\"2021-07-12\",\"2021-07-19\",\"2021-07-26\",\"2021-08-02\",\"2021-08-09\",\"2021-08-16\",\"2021-08-23\",\"2021-08-30\",\"2021-09-06\",\"2021-09-13\",\"2021-09-20\",\"2021-09-27\",\"2021-10-04\",\"2021-10-11\",\"2021-10-18\",\"2021-10-25\",\"2021-11-01\",\"2021-11-08\",\"2021-11-15\",\"2021-11-22\",\"2021-11-29\",\"2021-12-06\",\"2021-12-13\",\"2021-12-20\",\"2021-12-27\",\"2022-01-03\",\"2022-01-10\",\"2022-01-17\",\"2022-01-24\",\"2022-01-31\",\"2022-02-07\",\"2022-02-14\",\"2022-02-21\",\"2022-02-28\",\"2022-03-07\",\"2022-03-14\",\"2022-03-21\",\"2022-03-28\",\"2022-04-04\",\"2022-04-11\",\"2022-04-18\",\"2022-04-25\",\"2022-05-02\",\"2022-05-09\",\"2022-05-16\",\"2022-05-23\",\"2022-05-30\"],\"Variable\":[\"BTC Close\",\"BTC Close\",\"BTC Close\",\"BTC Close\",\"BTC Close\",\"BTC Close\",\"BTC Close\",\"BTC Close\",\"BTC Close\",\"BTC Close\",\"BTC Close\",\"BTC Close\",\"BTC Close\",\"BTC Close\",\"BTC Close\",\"BTC Close\",\"BTC Close\",\"BTC Close\",\"BTC Close\",\"BTC Close\",\"BTC Close\",\"BTC Close\",\"BTC Close\",\"BTC Close\",\"BTC Close\",\"BTC Close\",\"BTC Close\",\"BTC Close\",\"BTC Close\",\"BTC Close\",\"BTC Close\",\"BTC Close\",\"BTC Close\",\"BTC Close\",\"BTC Close\",\"BTC Close\",\"BTC Close\",\"BTC Close\",\"BTC Close\",\"BTC Close\",\"BTC Close\",\"BTC Close\",\"BTC Close\",\"BTC Close\",\"BTC Close\",\"BTC Close\",\"BTC Close\",\"BTC Close\",\"BTC Close\",\"BTC Close\",\"BTC Close\",\"BTC Close\",\"BTC Close\",\"BTC Close\",\"BTC Close\",\"BTC Close\",\"BTC Close\",\"BTC Close\",\"BTC Close\",\"BTC Close\",\"BTC Close\",\"BTC Close\",\"BTC Close\",\"BTC Close\",\"BTC Close\",\"BTC Close\",\"BTC Close\",\"BTC Close\",\"BTC Close\",\"BTC Close\",\"BTC Close\",\"BTC Close\",\"BTC Close\",\"BTC Close\",\"BTC Close\",\"BTC Close\",\"BTC Close\",\"BTC Close\",\"BTC Close\",\"BTC Close\",\"BTC Close\",\"BTC Close\",\"BTC Close\",\"BTC Close\",\"BTC Close\",\"BTC Close\",\"BTC Close\",\"BTC Close\",\"BTC Close\",\"BTC Close\",\"BTC Close\",\"BTC Close\",\"BTC Close\",\"BTC Close\",\"BTC Close\",\"BTC Close\",\"BTC Close\",\"BTC Close\",\"BTC Close\",\"BTC Close\",\"BTC Close\",\"BTC Close\",\"BTC Close\",\"BTC Close\",\"BTC Close\"],\"value\":{\"__ndarray__\":\"AAAAIG0Pw0AAAADgZFXCQAAAAKDQK8JAAAAAgMrbwUAAAACg+LjBQAAAAABAHsJAAAAAoOjwwUAAAABglVjDQAAAAKDOlsVAAAAAoN7NxkAAAADgZjrHQAAAAIBsyMZAAAAAwMDfxkAAAAAALRTEQAAAAMDgKcRAAAAAwCJdxUAAAACAogvFQAAAAKDK1sRAAAAAQBc8xkAAAAAArm3GQAAAAECWc8lAAAAAAI7UykAAAACgyDvOQAAAAEDLKc9AAAAAIIDw0UAAAAAAX8DRQAAAAMBH5NJAAAAAgJix0kAAAADgUu3WQAAAAOASqNlAAAAAwMAB4EAAAAAgjrriQAAAAODoeeFAAAAAQFiI30AAAACASyvgQAAAACDu/uJAAAAAQKnJ50AAAABAfhjsQAAAAKA4CuZAAAAAINYA6UAAAAAgyvTsQAAAAIBtFuxAAAAA4NdR60AAAADA0bDsQAAAAOCeZe1AAAAA4AVz60AAAAAgiO3nQAAAAIDiputAAAAAIApv7EAAAADgAa/mQAAAAKBS+uBAAAAAIMRr4UAAAAAgzILhQAAAAIA7F+NAAAAAgElu4UAAAACgNOvgQAAAAAD5OuFAAAAAAAa44EAAAADgMw3fQAAAAADGQuFAAAAAoNyE40AAAADAw2LlQAAAACDg+OZAAAAA4DQV6EAAAACgutfnQAAAACAtRelAAAAAoOh95kAAAAAAhxPnQAAAAEARGeVAAAAAgP6I50AAAACAcr7qQAAAAMAzDu5AAAAAwFrA7UAAAACg3vDtQAAAAKDf6+5AAAAA4Fr370AAAABAT63sQAAAAKAO9OtAAAAAIBsb6EAAAADASnboQAAAAIBgzuZAAAAAgDDP6EAAAAAAJx7nQAAAAEDzduRAAAAAIDwN5UAAAADAmbbhQAAAAECzg+JAAAAA4I215EAAAACAsJrkQAAAACDsw+JAAAAAILlp4kAAAACAf8LiQAAAAEA1e+JAAAAAYPoj5EAAAADAj9zmQAAAACCyruZAAAAAgPWb5EAAAACAnmTjQAAAAGCpReNAAAAAAKPI4kAAAACAaKHgQAAAAEBHkt5AAAAAQO6c3UAAAABAfcHcQAAAACDFGd1A\",\"dtype\":\"float64\",\"order\":\"little\",\"shape\":[105]}},\"selected\":{\"id\":\"2810\"},\"selection_policy\":{\"id\":\"2824\"}},\"id\":\"2809\",\"type\":\"ColumnDataSource\"},{\"attributes\":{\"line_color\":\"#fc4f30\",\"line_width\":2,\"x\":{\"field\":\"Date\"},\"y\":{\"field\":\"value\"}},\"id\":\"2851\",\"type\":\"Line\"},{\"attributes\":{},\"id\":\"2831\",\"type\":\"Selection\"},{\"attributes\":{\"axis\":{\"id\":\"2783\"},\"coordinates\":null,\"grid_line_color\":null,\"group\":null,\"ticker\":null},\"id\":\"2785\",\"type\":\"Grid\"},{\"attributes\":{},\"id\":\"2810\",\"type\":\"Selection\"},{\"attributes\":{\"source\":{\"id\":\"2809\"}},\"id\":\"2816\",\"type\":\"CDSView\"},{\"attributes\":{\"below\":[{\"id\":\"2783\"}],\"center\":[{\"id\":\"2785\"},{\"id\":\"2789\"}],\"height\":300,\"left\":[{\"id\":\"2786\"}],\"margin\":[5,5,5,5],\"min_border_bottom\":10,\"min_border_left\":10,\"min_border_right\":10,\"min_border_top\":10,\"renderers\":[{\"id\":\"2815\"},{\"id\":\"2836\"}],\"right\":[{\"id\":\"2827\"}],\"sizing_mode\":\"fixed\",\"title\":{\"id\":\"2775\"},\"toolbar\":{\"id\":\"2796\"},\"width\":700,\"x_range\":{\"id\":\"2770\"},\"x_scale\":{\"id\":\"2779\"},\"y_range\":{\"id\":\"2771\"},\"y_scale\":{\"id\":\"2781\"}},\"id\":\"2774\",\"subtype\":\"Figure\",\"type\":\"Plot\"},{\"attributes\":{\"factors\":[\"2020-06-01\",\"2020-06-08\",\"2020-06-15\",\"2020-06-22\",\"2020-06-29\",\"2020-07-06\",\"2020-07-13\",\"2020-07-20\",\"2020-07-27\",\"2020-08-03\",\"2020-08-10\",\"2020-08-17\",\"2020-08-24\",\"2020-08-31\",\"2020-09-07\",\"2020-09-14\",\"2020-09-21\",\"2020-09-28\",\"2020-10-05\",\"2020-10-12\",\"2020-10-19\",\"2020-10-26\",\"2020-11-02\",\"2020-11-09\",\"2020-11-16\",\"2020-11-23\",\"2020-11-30\",\"2020-12-07\",\"2020-12-14\",\"2020-12-21\",\"2020-12-28\",\"2021-01-04\",\"2021-01-11\",\"2021-01-18\",\"2021-01-25\",\"2021-02-01\",\"2021-02-08\",\"2021-02-15\",\"2021-02-22\",\"2021-03-01\",\"2021-03-08\",\"2021-03-15\",\"2021-03-22\",\"2021-03-29\",\"2021-04-05\",\"2021-04-12\",\"2021-04-19\",\"2021-04-26\",\"2021-05-03\",\"2021-05-10\",\"2021-05-17\",\"2021-05-24\",\"2021-05-31\",\"2021-06-07\",\"2021-06-14\",\"2021-06-21\",\"2021-06-28\",\"2021-07-05\",\"2021-07-12\",\"2021-07-19\",\"2021-07-26\",\"2021-08-02\",\"2021-08-09\",\"2021-08-16\",\"2021-08-23\",\"2021-08-30\",\"2021-09-06\",\"2021-09-13\",\"2021-09-20\",\"2021-09-27\",\"2021-10-04\",\"2021-10-11\",\"2021-10-18\",\"2021-10-25\",\"2021-11-01\",\"2021-11-08\",\"2021-11-15\",\"2021-11-22\",\"2021-11-29\",\"2021-12-06\",\"2021-12-13\",\"2021-12-20\",\"2021-12-27\",\"2022-01-03\",\"2022-01-10\",\"2022-01-17\",\"2022-01-24\",\"2022-01-31\",\"2022-02-07\",\"2022-02-14\",\"2022-02-21\",\"2022-02-28\",\"2022-03-07\",\"2022-03-14\",\"2022-03-21\",\"2022-03-28\",\"2022-04-04\",\"2022-04-11\",\"2022-04-18\",\"2022-04-25\",\"2022-05-02\",\"2022-05-09\",\"2022-05-16\",\"2022-05-23\",\"2022-05-30\"],\"tags\":[[[\"Date\",\"Date\",null]]]},\"id\":\"2770\",\"type\":\"FactorRange\"},{\"attributes\":{\"callback\":null,\"renderers\":[{\"id\":\"2815\"},{\"id\":\"2836\"}],\"tags\":[\"hv_created\"],\"tooltips\":[[\"Variable\",\"@{Variable}\"],[\"Date\",\"@{Date}\"],[\"value\",\"@{value}\"]]},\"id\":\"2772\",\"type\":\"HoverTool\"},{\"attributes\":{\"click_policy\":\"mute\",\"coordinates\":null,\"group\":null,\"items\":[{\"id\":\"2828\"},{\"id\":\"2850\"}],\"location\":[0,0],\"title\":\"Variable\"},\"id\":\"2827\",\"type\":\"Legend\"},{\"attributes\":{},\"id\":\"2790\",\"type\":\"SaveTool\"}],\"root_ids\":[\"2768\"]},\"title\":\"Bokeh Application\",\"version\":\"2.4.1\"}};\n",
       "    var render_items = [{\"docid\":\"d2251a8c-7425-462c-a11a-0383f23a7822\",\"root_ids\":[\"2768\"],\"roots\":{\"2768\":\"7ac4c178-fd4b-4b9a-b3ab-28cdc2ee4f2e\"}}];\n",
       "    root.Bokeh.embed.embed_items_notebook(docs_json, render_items);\n",
       "  }\n",
       "  if (root.Bokeh !== undefined && root.Bokeh.Panel !== undefined) {\n",
       "    embed_document(root);\n",
       "  } else {\n",
       "    var attempts = 0;\n",
       "    var timer = setInterval(function(root) {\n",
       "      if (root.Bokeh !== undefined && root.Bokeh.Panel !== undefined) {\n",
       "        clearInterval(timer);\n",
       "        embed_document(root);\n",
       "      } else if (document.readyState == \"complete\") {\n",
       "        attempts++;\n",
       "        if (attempts > 200) {\n",
       "          clearInterval(timer);\n",
       "          console.log(\"Bokeh: ERROR: Unable to run BokehJS code because BokehJS library is missing\");\n",
       "        }\n",
       "      }\n",
       "    }, 25, root)\n",
       "  }\n",
       "})(window);</script>"
      ],
      "text/plain": [
       ":NdOverlay   [Variable]\n",
       "   :Curve   [Date]   (value)"
      ]
     },
     "execution_count": 90,
     "metadata": {
      "application/vnd.holoviews_exec.v0+json": {
       "id": "2768"
      }
     },
     "output_type": "execute_result"
    }
   ],
   "source": [
    "BTC_prices_df.hvplot()"
   ]
  },
  {
   "cell_type": "code",
   "execution_count": 91,
   "id": "ad3dc5a1-18bc-469d-9d10-1b36a76d70a9",
   "metadata": {},
   "outputs": [],
   "source": [
    "yahoo_financials = YahooFinancials('ETH-USD')\n",
    "ETH_prices=(yahoo_financials.get_historical_price_data(\"2020-06-01\", \"2022-06-01\", \"weekly\"))\n",
    "#print(ETH_prices)"
   ]
  },
  {
   "cell_type": "code",
   "execution_count": 92,
   "id": "380c6947-291b-4d55-8717-00a15536f525",
   "metadata": {},
   "outputs": [],
   "source": [
    "json_object= json.dumps(ETH_prices['ETH-USD']['prices'], indent = 4)\n",
    "with open(\"sample.json\", \"w\") as outfile:\n",
    "    outfile.write(json_object)"
   ]
  },
  {
   "cell_type": "code",
   "execution_count": 93,
   "id": "3cb82ce0-a0bc-4788-beba-695b5d570622",
   "metadata": {},
   "outputs": [],
   "source": [
    "ETH_prices = pd.read_json('sample.json')"
   ]
  },
  {
   "cell_type": "code",
   "execution_count": 94,
   "id": "2fd79fcd-bb35-48be-a259-b398c045b99e",
   "metadata": {},
   "outputs": [
    {
     "data": {
      "text/plain": [
       "(105, 8)"
      ]
     },
     "execution_count": 94,
     "metadata": {},
     "output_type": "execute_result"
    }
   ],
   "source": [
    "ETH_prices.shape"
   ]
  },
  {
   "cell_type": "code",
   "execution_count": 95,
   "id": "b9e07db9-6192-48f9-89bf-25709d71e008",
   "metadata": {},
   "outputs": [
    {
     "data": {
      "text/html": [
       "<div>\n",
       "<style scoped>\n",
       "    .dataframe tbody tr th:only-of-type {\n",
       "        vertical-align: middle;\n",
       "    }\n",
       "\n",
       "    .dataframe tbody tr th {\n",
       "        vertical-align: top;\n",
       "    }\n",
       "\n",
       "    .dataframe thead th {\n",
       "        text-align: right;\n",
       "    }\n",
       "</style>\n",
       "<table border=\"1\" class=\"dataframe\">\n",
       "  <thead>\n",
       "    <tr style=\"text-align: right;\">\n",
       "      <th></th>\n",
       "      <th>date</th>\n",
       "      <th>high</th>\n",
       "      <th>low</th>\n",
       "      <th>open</th>\n",
       "      <th>close</th>\n",
       "      <th>volume</th>\n",
       "      <th>adjclose</th>\n",
       "      <th>formatted_date</th>\n",
       "    </tr>\n",
       "  </thead>\n",
       "  <tbody>\n",
       "    <tr>\n",
       "      <th>0</th>\n",
       "      <td>2020-06-01</td>\n",
       "      <td>252.222000</td>\n",
       "      <td>230.488052</td>\n",
       "      <td>230.860260</td>\n",
       "      <td>245.167252</td>\n",
       "      <td>74719731540</td>\n",
       "      <td>245.167252</td>\n",
       "      <td>2020-06-01</td>\n",
       "    </tr>\n",
       "    <tr>\n",
       "      <th>1</th>\n",
       "      <td>2020-06-08</td>\n",
       "      <td>249.888306</td>\n",
       "      <td>229.645065</td>\n",
       "      <td>245.178574</td>\n",
       "      <td>234.114700</td>\n",
       "      <td>61122813318</td>\n",
       "      <td>234.114700</td>\n",
       "      <td>2020-06-08</td>\n",
       "    </tr>\n",
       "    <tr>\n",
       "      <th>2</th>\n",
       "      <td>2020-06-15</td>\n",
       "      <td>236.394302</td>\n",
       "      <td>221.241760</td>\n",
       "      <td>234.058304</td>\n",
       "      <td>228.989822</td>\n",
       "      <td>51716551698</td>\n",
       "      <td>228.989822</td>\n",
       "      <td>2020-06-15</td>\n",
       "    </tr>\n",
       "    <tr>\n",
       "      <th>3</th>\n",
       "      <td>2020-06-22</td>\n",
       "      <td>248.508026</td>\n",
       "      <td>219.472672</td>\n",
       "      <td>229.003372</td>\n",
       "      <td>225.347168</td>\n",
       "      <td>51841369946</td>\n",
       "      <td>225.347168</td>\n",
       "      <td>2020-06-22</td>\n",
       "    </tr>\n",
       "    <tr>\n",
       "      <th>4</th>\n",
       "      <td>2020-06-29</td>\n",
       "      <td>232.756119</td>\n",
       "      <td>222.254990</td>\n",
       "      <td>225.361435</td>\n",
       "      <td>227.664597</td>\n",
       "      <td>41125720927</td>\n",
       "      <td>227.664597</td>\n",
       "      <td>2020-06-29</td>\n",
       "    </tr>\n",
       "  </tbody>\n",
       "</table>\n",
       "</div>"
      ],
      "text/plain": [
       "        date        high         low        open       close       volume  \\\n",
       "0 2020-06-01  252.222000  230.488052  230.860260  245.167252  74719731540   \n",
       "1 2020-06-08  249.888306  229.645065  245.178574  234.114700  61122813318   \n",
       "2 2020-06-15  236.394302  221.241760  234.058304  228.989822  51716551698   \n",
       "3 2020-06-22  248.508026  219.472672  229.003372  225.347168  51841369946   \n",
       "4 2020-06-29  232.756119  222.254990  225.361435  227.664597  41125720927   \n",
       "\n",
       "     adjclose formatted_date  \n",
       "0  245.167252     2020-06-01  \n",
       "1  234.114700     2020-06-08  \n",
       "2  228.989822     2020-06-15  \n",
       "3  225.347168     2020-06-22  \n",
       "4  227.664597     2020-06-29  "
      ]
     },
     "execution_count": 95,
     "metadata": {},
     "output_type": "execute_result"
    }
   ],
   "source": [
    "ETH_prices_df = pd.DataFrame(ETH_prices)\n",
    "ETH_prices_df.head()"
   ]
  },
  {
   "cell_type": "code",
   "execution_count": 96,
   "id": "f74ffcfe-fc6a-4935-b8b5-620365c3f972",
   "metadata": {},
   "outputs": [],
   "source": [
    "ETH_prices_df.drop(['date','high','low','open','adjclose'],axis=1, inplace = True)\n",
    "ETH_prices_df.rename(columns = {'close':'ETH Close', 'volume':'ETH Volume','formatted_date':'Date'}, inplace = True)\n",
    "ETH_prices_df.set_index('Date', inplace = True)\n"
   ]
  },
  {
   "cell_type": "code",
   "execution_count": 97,
   "id": "16a3df9f-8b32-4559-a912-afc6dd460045",
   "metadata": {},
   "outputs": [
    {
     "data": {},
     "metadata": {},
     "output_type": "display_data"
    },
    {
     "data": {
      "application/vnd.holoviews_exec.v0+json": "",
      "text/html": [
       "<div id='3022'>\n",
       "\n",
       "\n",
       "\n",
       "\n",
       "\n",
       "  <div class=\"bk-root\" id=\"38dde144-b14b-4535-aba2-c470d536bc12\" data-root-id=\"3022\"></div>\n",
       "</div>\n",
       "<script type=\"application/javascript\">(function(root) {\n",
       "  function embed_document(root) {\n",
       "    var docs_json = {\"87b05393-d1e5-4a3d-b83c-1b709844bd25\":{\"defs\":[{\"extends\":null,\"module\":null,\"name\":\"ReactiveHTML1\",\"overrides\":[],\"properties\":[]},{\"extends\":null,\"module\":null,\"name\":\"FlexBox1\",\"overrides\":[],\"properties\":[{\"default\":\"flex-start\",\"kind\":null,\"name\":\"align_content\"},{\"default\":\"flex-start\",\"kind\":null,\"name\":\"align_items\"},{\"default\":\"row\",\"kind\":null,\"name\":\"flex_direction\"},{\"default\":\"wrap\",\"kind\":null,\"name\":\"flex_wrap\"},{\"default\":\"flex-start\",\"kind\":null,\"name\":\"justify_content\"}]},{\"extends\":null,\"module\":null,\"name\":\"GridStack1\",\"overrides\":[],\"properties\":[{\"default\":\"warn\",\"kind\":null,\"name\":\"mode\"},{\"default\":null,\"kind\":null,\"name\":\"ncols\"},{\"default\":null,\"kind\":null,\"name\":\"nrows\"},{\"default\":true,\"kind\":null,\"name\":\"allow_resize\"},{\"default\":true,\"kind\":null,\"name\":\"allow_drag\"},{\"default\":[],\"kind\":null,\"name\":\"state\"}]},{\"extends\":null,\"module\":null,\"name\":\"click1\",\"overrides\":[],\"properties\":[{\"default\":\"\",\"kind\":null,\"name\":\"terminal_output\"},{\"default\":\"\",\"kind\":null,\"name\":\"debug_name\"},{\"default\":0,\"kind\":null,\"name\":\"clears\"}]},{\"extends\":null,\"module\":null,\"name\":\"TemplateActions1\",\"overrides\":[],\"properties\":[{\"default\":0,\"kind\":null,\"name\":\"open_modal\"},{\"default\":0,\"kind\":null,\"name\":\"close_modal\"}]},{\"extends\":null,\"module\":null,\"name\":\"MaterialTemplateActions1\",\"overrides\":[],\"properties\":[{\"default\":0,\"kind\":null,\"name\":\"open_modal\"},{\"default\":0,\"kind\":null,\"name\":\"close_modal\"}]}],\"roots\":{\"references\":[{\"attributes\":{},\"id\":\"3046\",\"type\":\"WheelZoomTool\"},{\"attributes\":{\"overlay\":{\"id\":\"3049\"}},\"id\":\"3047\",\"type\":\"BoxZoomTool\"},{\"attributes\":{},\"id\":\"3048\",\"type\":\"ResetTool\"},{\"attributes\":{},\"id\":\"3078\",\"type\":\"UnionRenderers\"},{\"attributes\":{\"coordinates\":null,\"group\":null,\"text_color\":\"black\",\"text_font_size\":\"12pt\"},\"id\":\"3029\",\"type\":\"Title\"},{\"attributes\":{\"axis\":{\"id\":\"3040\"},\"coordinates\":null,\"dimension\":1,\"grid_line_color\":null,\"group\":null,\"ticker\":null},\"id\":\"3043\",\"type\":\"Grid\"},{\"attributes\":{\"line_alpha\":0.2,\"line_color\":\"#30a2da\",\"line_width\":2,\"x\":{\"field\":\"Date\"},\"y\":{\"field\":\"value\"}},\"id\":\"3068\",\"type\":\"Line\"},{\"attributes\":{\"axis_label\":\"\",\"coordinates\":null,\"formatter\":{\"id\":\"3061\"},\"group\":null,\"major_label_policy\":{\"id\":\"3062\"},\"ticker\":{\"id\":\"3041\"}},\"id\":\"3040\",\"type\":\"LinearAxis\"},{\"attributes\":{\"data\":{\"Date\":[\"2020-06-01\",\"2020-06-08\",\"2020-06-15\",\"2020-06-22\",\"2020-06-29\",\"2020-07-06\",\"2020-07-13\",\"2020-07-20\",\"2020-07-27\",\"2020-08-03\",\"2020-08-10\",\"2020-08-17\",\"2020-08-24\",\"2020-08-31\",\"2020-09-07\",\"2020-09-14\",\"2020-09-21\",\"2020-09-28\",\"2020-10-05\",\"2020-10-12\",\"2020-10-19\",\"2020-10-26\",\"2020-11-02\",\"2020-11-09\",\"2020-11-16\",\"2020-11-23\",\"2020-11-30\",\"2020-12-07\",\"2020-12-14\",\"2020-12-21\",\"2020-12-28\",\"2021-01-04\",\"2021-01-11\",\"2021-01-18\",\"2021-01-25\",\"2021-02-01\",\"2021-02-08\",\"2021-02-15\",\"2021-02-22\",\"2021-03-01\",\"2021-03-08\",\"2021-03-15\",\"2021-03-22\",\"2021-03-29\",\"2021-04-05\",\"2021-04-12\",\"2021-04-19\",\"2021-04-26\",\"2021-05-03\",\"2021-05-10\",\"2021-05-17\",\"2021-05-24\",\"2021-05-31\",\"2021-06-07\",\"2021-06-14\",\"2021-06-21\",\"2021-06-28\",\"2021-07-05\",\"2021-07-12\",\"2021-07-19\",\"2021-07-26\",\"2021-08-02\",\"2021-08-09\",\"2021-08-16\",\"2021-08-23\",\"2021-08-30\",\"2021-09-06\",\"2021-09-13\",\"2021-09-20\",\"2021-09-27\",\"2021-10-04\",\"2021-10-11\",\"2021-10-18\",\"2021-10-25\",\"2021-11-01\",\"2021-11-08\",\"2021-11-15\",\"2021-11-22\",\"2021-11-29\",\"2021-12-06\",\"2021-12-13\",\"2021-12-20\",\"2021-12-27\",\"2022-01-03\",\"2022-01-10\",\"2022-01-17\",\"2022-01-24\",\"2022-01-31\",\"2022-02-07\",\"2022-02-14\",\"2022-02-21\",\"2022-02-28\",\"2022-03-07\",\"2022-03-14\",\"2022-03-21\",\"2022-03-28\",\"2022-04-04\",\"2022-04-11\",\"2022-04-18\",\"2022-04-25\",\"2022-05-02\",\"2022-05-09\",\"2022-05-16\",\"2022-05-23\",\"2022-05-30\"],\"Variable\":[\"ETH Close\",\"ETH Close\",\"ETH Close\",\"ETH Close\",\"ETH Close\",\"ETH Close\",\"ETH Close\",\"ETH Close\",\"ETH Close\",\"ETH Close\",\"ETH Close\",\"ETH Close\",\"ETH Close\",\"ETH Close\",\"ETH Close\",\"ETH Close\",\"ETH Close\",\"ETH Close\",\"ETH Close\",\"ETH Close\",\"ETH Close\",\"ETH Close\",\"ETH Close\",\"ETH Close\",\"ETH Close\",\"ETH Close\",\"ETH Close\",\"ETH Close\",\"ETH Close\",\"ETH Close\",\"ETH Close\",\"ETH Close\",\"ETH Close\",\"ETH Close\",\"ETH Close\",\"ETH Close\",\"ETH Close\",\"ETH Close\",\"ETH Close\",\"ETH Close\",\"ETH Close\",\"ETH Close\",\"ETH Close\",\"ETH Close\",\"ETH Close\",\"ETH Close\",\"ETH Close\",\"ETH Close\",\"ETH Close\",\"ETH Close\",\"ETH Close\",\"ETH Close\",\"ETH Close\",\"ETH Close\",\"ETH Close\",\"ETH Close\",\"ETH Close\",\"ETH Close\",\"ETH Close\",\"ETH Close\",\"ETH Close\",\"ETH Close\",\"ETH Close\",\"ETH Close\",\"ETH Close\",\"ETH Close\",\"ETH Close\",\"ETH Close\",\"ETH Close\",\"ETH Close\",\"ETH Close\",\"ETH Close\",\"ETH Close\",\"ETH Close\",\"ETH Close\",\"ETH Close\",\"ETH Close\",\"ETH Close\",\"ETH Close\",\"ETH Close\",\"ETH Close\",\"ETH Close\",\"ETH Close\",\"ETH Close\",\"ETH Close\",\"ETH Close\",\"ETH Close\",\"ETH Close\",\"ETH Close\",\"ETH Close\",\"ETH Close\",\"ETH Close\",\"ETH Close\",\"ETH Close\",\"ETH Close\",\"ETH Close\",\"ETH Close\",\"ETH Close\",\"ETH Close\",\"ETH Close\",\"ETH Close\",\"ETH Close\",\"ETH Close\",\"ETH Close\",\"ETH Close\"],\"value\":{\"__ndarray__\":\"AAAAIFqlbkAAAACgq0NtQAAAAKCsn2xAAAAAABwrbEAAAABgRHVsQAAAAOA2RG5AAAAAwJnPbUAAAABATFpzQAAAAGC/KndAAAAAYO1xeEAAAAAAlhx7QAAAAOAmdnhAAAAA4FTGekAAAADgyxV2QAAAAMAe2XZAAAAAYNgwd0AAAAAgBFd2QAAAAKBDCXZAAAAA4EVyd0AAAABAa6N3QAAAAAB8Y3lAAAAAILvFeEAAAABg4Fh8QAAAAADy+HtAAAAAgItwgUAAAACAEP6BQAAAAKBFz4JAAAAAQE5tgkAAAACgU/KDQAAAAIAjVYVAAAAAwA98jkAAAACg/LiTQAAAAGCwOJNAAAAAAHC+lUAAAADg8YuUQAAAAEDpOJlAAAAAIFY0nEAAAACAZz6eQAAAACAyIJZAAAAAgJ3smkAAAADgQfqcQAAAAEDe8JtAAAAAgGxtmkAAAADgPlqgQAAAAGBQ26BAAAAAIEZ6oUAAAACAHhiiQAAAAMAcEKdAAAAAgLCxrkAAAAAgAwesQAAAAOAoe6BAAAAAYJysokAAAACALzalQAAAAIDImKNAAAAAoLqMoUAAAAAglOueQAAAAMByI6JAAAAAYFS3oEAAAABgNZ6dQAAAAGC/HqFAAAAAQLQDpEAAAAAgd4unQAAAACAC3alAAAAAIDtUqUAAAABgATapQAAAAGBE4K5AAAAA4ESkqkAAAABg5QKqQAAAAOCH7KdAAAAAoLe0qkAAAACgtMOqQAAAAIA1Dq5AAAAAYM7vr0AAAAAAE8CwQAAAAACODLJAAAAA4FsSskAAAACgu62wQAAAACB0xrBAAAAAoFJmsEAAAAAAdCawQAAAAGAvpa5AAAAAAKjGr0AAAABAIeutQAAAAMCAq6hAAAAAANgtqkAAAAAAFM6jQAAAAODuVqRAAAAAwPPip0AAAABA7YamQAAAAABMiaRAAAAAgJp7pEAAAAAgE/ajQAAAAKDjraNAAAAAIOtYpkAAAADAJ7epQAAAAMCqhatAAAAA4LsXqUAAAACAzmKnQAAAACB31aZAAAAAIIMXpkAAAACA66qjQAAAAOBpw6BAAAAAQK7sn0AAAADAH1CcQAAAAABHfpxA\",\"dtype\":\"float64\",\"order\":\"little\",\"shape\":[105]}},\"selected\":{\"id\":\"3064\"},\"selection_policy\":{\"id\":\"3078\"}},\"id\":\"3063\",\"type\":\"ColumnDataSource\"},{\"attributes\":{},\"id\":\"3045\",\"type\":\"PanTool\"},{\"attributes\":{\"bottom_units\":\"screen\",\"coordinates\":null,\"fill_alpha\":0.5,\"fill_color\":\"lightgrey\",\"group\":null,\"left_units\":\"screen\",\"level\":\"overlay\",\"line_alpha\":1.0,\"line_color\":\"black\",\"line_dash\":[4,4],\"line_width\":2,\"right_units\":\"screen\",\"syncable\":false,\"top_units\":\"screen\"},\"id\":\"3049\",\"type\":\"BoxAnnotation\"},{\"attributes\":{\"factors\":[\"2020-06-01\",\"2020-06-08\",\"2020-06-15\",\"2020-06-22\",\"2020-06-29\",\"2020-07-06\",\"2020-07-13\",\"2020-07-20\",\"2020-07-27\",\"2020-08-03\",\"2020-08-10\",\"2020-08-17\",\"2020-08-24\",\"2020-08-31\",\"2020-09-07\",\"2020-09-14\",\"2020-09-21\",\"2020-09-28\",\"2020-10-05\",\"2020-10-12\",\"2020-10-19\",\"2020-10-26\",\"2020-11-02\",\"2020-11-09\",\"2020-11-16\",\"2020-11-23\",\"2020-11-30\",\"2020-12-07\",\"2020-12-14\",\"2020-12-21\",\"2020-12-28\",\"2021-01-04\",\"2021-01-11\",\"2021-01-18\",\"2021-01-25\",\"2021-02-01\",\"2021-02-08\",\"2021-02-15\",\"2021-02-22\",\"2021-03-01\",\"2021-03-08\",\"2021-03-15\",\"2021-03-22\",\"2021-03-29\",\"2021-04-05\",\"2021-04-12\",\"2021-04-19\",\"2021-04-26\",\"2021-05-03\",\"2021-05-10\",\"2021-05-17\",\"2021-05-24\",\"2021-05-31\",\"2021-06-07\",\"2021-06-14\",\"2021-06-21\",\"2021-06-28\",\"2021-07-05\",\"2021-07-12\",\"2021-07-19\",\"2021-07-26\",\"2021-08-02\",\"2021-08-09\",\"2021-08-16\",\"2021-08-23\",\"2021-08-30\",\"2021-09-06\",\"2021-09-13\",\"2021-09-20\",\"2021-09-27\",\"2021-10-04\",\"2021-10-11\",\"2021-10-18\",\"2021-10-25\",\"2021-11-01\",\"2021-11-08\",\"2021-11-15\",\"2021-11-22\",\"2021-11-29\",\"2021-12-06\",\"2021-12-13\",\"2021-12-20\",\"2021-12-27\",\"2022-01-03\",\"2022-01-10\",\"2022-01-17\",\"2022-01-24\",\"2022-01-31\",\"2022-02-07\",\"2022-02-14\",\"2022-02-21\",\"2022-02-28\",\"2022-03-07\",\"2022-03-14\",\"2022-03-21\",\"2022-03-28\",\"2022-04-04\",\"2022-04-11\",\"2022-04-18\",\"2022-04-25\",\"2022-05-02\",\"2022-05-09\",\"2022-05-16\",\"2022-05-23\",\"2022-05-30\"],\"tags\":[[[\"Date\",\"Date\",null]]]},\"id\":\"3024\",\"type\":\"FactorRange\"},{\"attributes\":{\"line_color\":\"#30a2da\",\"line_width\":2,\"x\":{\"field\":\"Date\"},\"y\":{\"field\":\"value\"}},\"id\":\"3083\",\"type\":\"Line\"},{\"attributes\":{\"callback\":null,\"renderers\":[{\"id\":\"3069\"},{\"id\":\"3090\"}],\"tags\":[\"hv_created\"],\"tooltips\":[[\"Variable\",\"@{Variable}\"],[\"Date\",\"@{Date}\"],[\"value\",\"@{value}\"]]},\"id\":\"3026\",\"type\":\"HoverTool\"},{\"attributes\":{},\"id\":\"3058\",\"type\":\"CategoricalTickFormatter\"},{\"attributes\":{\"data\":{\"Date\":[\"2020-06-01\",\"2020-06-08\",\"2020-06-15\",\"2020-06-22\",\"2020-06-29\",\"2020-07-06\",\"2020-07-13\",\"2020-07-20\",\"2020-07-27\",\"2020-08-03\",\"2020-08-10\",\"2020-08-17\",\"2020-08-24\",\"2020-08-31\",\"2020-09-07\",\"2020-09-14\",\"2020-09-21\",\"2020-09-28\",\"2020-10-05\",\"2020-10-12\",\"2020-10-19\",\"2020-10-26\",\"2020-11-02\",\"2020-11-09\",\"2020-11-16\",\"2020-11-23\",\"2020-11-30\",\"2020-12-07\",\"2020-12-14\",\"2020-12-21\",\"2020-12-28\",\"2021-01-04\",\"2021-01-11\",\"2021-01-18\",\"2021-01-25\",\"2021-02-01\",\"2021-02-08\",\"2021-02-15\",\"2021-02-22\",\"2021-03-01\",\"2021-03-08\",\"2021-03-15\",\"2021-03-22\",\"2021-03-29\",\"2021-04-05\",\"2021-04-12\",\"2021-04-19\",\"2021-04-26\",\"2021-05-03\",\"2021-05-10\",\"2021-05-17\",\"2021-05-24\",\"2021-05-31\",\"2021-06-07\",\"2021-06-14\",\"2021-06-21\",\"2021-06-28\",\"2021-07-05\",\"2021-07-12\",\"2021-07-19\",\"2021-07-26\",\"2021-08-02\",\"2021-08-09\",\"2021-08-16\",\"2021-08-23\",\"2021-08-30\",\"2021-09-06\",\"2021-09-13\",\"2021-09-20\",\"2021-09-27\",\"2021-10-04\",\"2021-10-11\",\"2021-10-18\",\"2021-10-25\",\"2021-11-01\",\"2021-11-08\",\"2021-11-15\",\"2021-11-22\",\"2021-11-29\",\"2021-12-06\",\"2021-12-13\",\"2021-12-20\",\"2021-12-27\",\"2022-01-03\",\"2022-01-10\",\"2022-01-17\",\"2022-01-24\",\"2022-01-31\",\"2022-02-07\",\"2022-02-14\",\"2022-02-21\",\"2022-02-28\",\"2022-03-07\",\"2022-03-14\",\"2022-03-21\",\"2022-03-28\",\"2022-04-04\",\"2022-04-11\",\"2022-04-18\",\"2022-04-25\",\"2022-05-02\",\"2022-05-09\",\"2022-05-16\",\"2022-05-23\",\"2022-05-30\"],\"Variable\":[\"ETH Volume\",\"ETH Volume\",\"ETH Volume\",\"ETH Volume\",\"ETH Volume\",\"ETH Volume\",\"ETH Volume\",\"ETH Volume\",\"ETH Volume\",\"ETH Volume\",\"ETH Volume\",\"ETH Volume\",\"ETH Volume\",\"ETH Volume\",\"ETH Volume\",\"ETH Volume\",\"ETH Volume\",\"ETH Volume\",\"ETH Volume\",\"ETH Volume\",\"ETH Volume\",\"ETH Volume\",\"ETH Volume\",\"ETH Volume\",\"ETH Volume\",\"ETH Volume\",\"ETH Volume\",\"ETH Volume\",\"ETH Volume\",\"ETH Volume\",\"ETH Volume\",\"ETH Volume\",\"ETH Volume\",\"ETH Volume\",\"ETH Volume\",\"ETH Volume\",\"ETH Volume\",\"ETH Volume\",\"ETH Volume\",\"ETH Volume\",\"ETH Volume\",\"ETH Volume\",\"ETH Volume\",\"ETH Volume\",\"ETH Volume\",\"ETH Volume\",\"ETH Volume\",\"ETH Volume\",\"ETH Volume\",\"ETH Volume\",\"ETH Volume\",\"ETH Volume\",\"ETH Volume\",\"ETH Volume\",\"ETH Volume\",\"ETH Volume\",\"ETH Volume\",\"ETH Volume\",\"ETH Volume\",\"ETH Volume\",\"ETH Volume\",\"ETH Volume\",\"ETH Volume\",\"ETH Volume\",\"ETH Volume\",\"ETH Volume\",\"ETH Volume\",\"ETH Volume\",\"ETH Volume\",\"ETH Volume\",\"ETH Volume\",\"ETH Volume\",\"ETH Volume\",\"ETH Volume\",\"ETH Volume\",\"ETH Volume\",\"ETH Volume\",\"ETH Volume\",\"ETH Volume\",\"ETH Volume\",\"ETH Volume\",\"ETH Volume\",\"ETH Volume\",\"ETH Volume\",\"ETH Volume\",\"ETH Volume\",\"ETH Volume\",\"ETH Volume\",\"ETH Volume\",\"ETH Volume\",\"ETH Volume\",\"ETH Volume\",\"ETH Volume\",\"ETH Volume\",\"ETH Volume\",\"ETH Volume\",\"ETH Volume\",\"ETH Volume\",\"ETH Volume\",\"ETH Volume\",\"ETH Volume\",\"ETH Volume\",\"ETH Volume\",\"ETH Volume\",\"ETH Volume\"],\"value\":[74719731540,61122813318,51716551698,51841369946,41125720927,53066933316,44675225989,62645824049,95693504118,82646258586,95016597656,78437445412,72292749517,145223038277,141321660574,107134484147,99772858716,87329078295,89277738125,95646232659,99915168196,92733203628,104056836726,86559593873,117742517844,148365425751,121611808952,81351653045,100712316665,113119816165,152747909037,301834730092,259298253002,273320283914,268597730348,280790741209,274834235664,222027748895,230065320353,159760752478,167054641757,164754388552,163726181464,199331046462,184033037350,238346115303,285051627060,220866851897,344594950620,400749195286,398441727887,278778310752,206114234750,214989180606,165998018623,181271282626,173236166989,141898628328,109461389917,117099495933,148899026374,188999816781,177617150981,144657511395,122446358200,166431911904,171456032652,127464621869,165736116791,126510518147,120426108412,125796571016,131136502497,140412419359,121471900421,125752889256,137429429244,141179727084,186741981087,152799880859,152915544014,104768396134,91186714758,121333429463,99393420484,119849284037,117096524892,95160222839,101267138646,91462217528,122785980806,99193551777,83530580780,94797948955,105454717557,133030130024,115161750801,104523858983,104712950418,124872258105,127664655328,217861782391,111825123089,125642960268,58981722025]},\"selected\":{\"id\":\"3085\"},\"selection_policy\":{\"id\":\"3101\"}},\"id\":\"3084\",\"type\":\"ColumnDataSource\"},{\"attributes\":{},\"id\":\"3101\",\"type\":\"UnionRenderers\"},{\"attributes\":{\"below\":[{\"id\":\"3037\"}],\"center\":[{\"id\":\"3039\"},{\"id\":\"3043\"}],\"height\":300,\"left\":[{\"id\":\"3040\"}],\"margin\":[5,5,5,5],\"min_border_bottom\":10,\"min_border_left\":10,\"min_border_right\":10,\"min_border_top\":10,\"renderers\":[{\"id\":\"3069\"},{\"id\":\"3090\"}],\"right\":[{\"id\":\"3081\"}],\"sizing_mode\":\"fixed\",\"title\":{\"id\":\"3029\"},\"toolbar\":{\"id\":\"3050\"},\"width\":700,\"x_range\":{\"id\":\"3024\"},\"x_scale\":{\"id\":\"3033\"},\"y_range\":{\"id\":\"3025\"},\"y_scale\":{\"id\":\"3035\"}},\"id\":\"3028\",\"subtype\":\"Figure\",\"type\":\"Plot\"},{\"attributes\":{\"margin\":[5,5,5,5],\"name\":\"HSpacer05717\",\"sizing_mode\":\"stretch_width\"},\"id\":\"3214\",\"type\":\"Spacer\"},{\"attributes\":{\"line_alpha\":0.1,\"line_color\":\"#30a2da\",\"line_width\":2,\"x\":{\"field\":\"Date\"},\"y\":{\"field\":\"value\"}},\"id\":\"3067\",\"type\":\"Line\"},{\"attributes\":{\"source\":{\"id\":\"3084\"}},\"id\":\"3091\",\"type\":\"CDSView\"},{\"attributes\":{\"tools\":[{\"id\":\"3026\"},{\"id\":\"3044\"},{\"id\":\"3045\"},{\"id\":\"3046\"},{\"id\":\"3047\"},{\"id\":\"3048\"}]},\"id\":\"3050\",\"type\":\"Toolbar\"},{\"attributes\":{\"label\":{\"value\":\"ETH Close\"},\"renderers\":[{\"id\":\"3069\"}]},\"id\":\"3082\",\"type\":\"LegendItem\"},{\"attributes\":{\"label\":{\"value\":\"ETH Volume\"},\"renderers\":[{\"id\":\"3090\"}]},\"id\":\"3104\",\"type\":\"LegendItem\"},{\"attributes\":{},\"id\":\"3038\",\"type\":\"CategoricalTicker\"},{\"attributes\":{\"coordinates\":null,\"data_source\":{\"id\":\"3084\"},\"glyph\":{\"id\":\"3087\"},\"group\":null,\"hover_glyph\":null,\"muted_glyph\":{\"id\":\"3089\"},\"nonselection_glyph\":{\"id\":\"3088\"},\"selection_glyph\":{\"id\":\"3105\"},\"view\":{\"id\":\"3091\"}},\"id\":\"3090\",\"type\":\"GlyphRenderer\"},{\"attributes\":{},\"id\":\"3035\",\"type\":\"LinearScale\"},{\"attributes\":{\"line_alpha\":0.1,\"line_color\":\"#fc4f30\",\"line_width\":2,\"x\":{\"field\":\"Date\"},\"y\":{\"field\":\"value\"}},\"id\":\"3088\",\"type\":\"Line\"},{\"attributes\":{},\"id\":\"3059\",\"type\":\"AllLabels\"},{\"attributes\":{},\"id\":\"3033\",\"type\":\"CategoricalScale\"},{\"attributes\":{\"axis_label\":\"Date\",\"coordinates\":null,\"formatter\":{\"id\":\"3058\"},\"group\":null,\"major_label_policy\":{\"id\":\"3059\"},\"ticker\":{\"id\":\"3038\"}},\"id\":\"3037\",\"type\":\"CategoricalAxis\"},{\"attributes\":{\"line_color\":\"#fc4f30\",\"line_width\":2,\"x\":{\"field\":\"Date\"},\"y\":{\"field\":\"value\"}},\"id\":\"3105\",\"type\":\"Line\"},{\"attributes\":{},\"id\":\"3041\",\"type\":\"BasicTicker\"},{\"attributes\":{\"source\":{\"id\":\"3063\"}},\"id\":\"3070\",\"type\":\"CDSView\"},{\"attributes\":{\"children\":[{\"id\":\"3023\"},{\"id\":\"3028\"},{\"id\":\"3214\"}],\"margin\":[0,0,0,0],\"name\":\"Row05712\",\"tags\":[\"embedded\"]},\"id\":\"3022\",\"type\":\"Row\"},{\"attributes\":{},\"id\":\"3061\",\"type\":\"BasicTickFormatter\"},{\"attributes\":{\"line_alpha\":0.2,\"line_color\":\"#fc4f30\",\"line_width\":2,\"x\":{\"field\":\"Date\"},\"y\":{\"field\":\"value\"}},\"id\":\"3089\",\"type\":\"Line\"},{\"attributes\":{},\"id\":\"3064\",\"type\":\"Selection\"},{\"attributes\":{\"margin\":[5,5,5,5],\"name\":\"HSpacer05716\",\"sizing_mode\":\"stretch_width\"},\"id\":\"3023\",\"type\":\"Spacer\"},{\"attributes\":{},\"id\":\"3085\",\"type\":\"Selection\"},{\"attributes\":{\"click_policy\":\"mute\",\"coordinates\":null,\"group\":null,\"items\":[{\"id\":\"3082\"},{\"id\":\"3104\"}],\"location\":[0,0],\"title\":\"Variable\"},\"id\":\"3081\",\"type\":\"Legend\"},{\"attributes\":{\"axis\":{\"id\":\"3037\"},\"coordinates\":null,\"grid_line_color\":null,\"group\":null,\"ticker\":null},\"id\":\"3039\",\"type\":\"Grid\"},{\"attributes\":{\"end\":440824114792.0653,\"reset_end\":440824114792.0653,\"reset_start\":-40074919280.71812,\"start\":-40074919280.71812,\"tags\":[[[\"value\",\"value\",null]]]},\"id\":\"3025\",\"type\":\"Range1d\"},{\"attributes\":{},\"id\":\"3044\",\"type\":\"SaveTool\"},{\"attributes\":{\"coordinates\":null,\"data_source\":{\"id\":\"3063\"},\"glyph\":{\"id\":\"3066\"},\"group\":null,\"hover_glyph\":null,\"muted_glyph\":{\"id\":\"3068\"},\"nonselection_glyph\":{\"id\":\"3067\"},\"selection_glyph\":{\"id\":\"3083\"},\"view\":{\"id\":\"3070\"}},\"id\":\"3069\",\"type\":\"GlyphRenderer\"},{\"attributes\":{\"line_color\":\"#30a2da\",\"line_width\":2,\"x\":{\"field\":\"Date\"},\"y\":{\"field\":\"value\"}},\"id\":\"3066\",\"type\":\"Line\"},{\"attributes\":{},\"id\":\"3062\",\"type\":\"AllLabels\"},{\"attributes\":{\"line_color\":\"#fc4f30\",\"line_width\":2,\"x\":{\"field\":\"Date\"},\"y\":{\"field\":\"value\"}},\"id\":\"3087\",\"type\":\"Line\"}],\"root_ids\":[\"3022\"]},\"title\":\"Bokeh Application\",\"version\":\"2.4.1\"}};\n",
       "    var render_items = [{\"docid\":\"87b05393-d1e5-4a3d-b83c-1b709844bd25\",\"root_ids\":[\"3022\"],\"roots\":{\"3022\":\"38dde144-b14b-4535-aba2-c470d536bc12\"}}];\n",
       "    root.Bokeh.embed.embed_items_notebook(docs_json, render_items);\n",
       "  }\n",
       "  if (root.Bokeh !== undefined && root.Bokeh.Panel !== undefined) {\n",
       "    embed_document(root);\n",
       "  } else {\n",
       "    var attempts = 0;\n",
       "    var timer = setInterval(function(root) {\n",
       "      if (root.Bokeh !== undefined && root.Bokeh.Panel !== undefined) {\n",
       "        clearInterval(timer);\n",
       "        embed_document(root);\n",
       "      } else if (document.readyState == \"complete\") {\n",
       "        attempts++;\n",
       "        if (attempts > 200) {\n",
       "          clearInterval(timer);\n",
       "          console.log(\"Bokeh: ERROR: Unable to run BokehJS code because BokehJS library is missing\");\n",
       "        }\n",
       "      }\n",
       "    }, 25, root)\n",
       "  }\n",
       "})(window);</script>"
      ],
      "text/plain": [
       ":NdOverlay   [Variable]\n",
       "   :Curve   [Date]   (value)"
      ]
     },
     "execution_count": 97,
     "metadata": {
      "application/vnd.holoviews_exec.v0+json": {
       "id": "3022"
      }
     },
     "output_type": "execute_result"
    }
   ],
   "source": [
    "ETH_prices_df.hvplot()"
   ]
  },
  {
   "cell_type": "code",
   "execution_count": 160,
   "id": "20523d34-86ed-41b2-a9cc-a8ec1b7b86ab",
   "metadata": {},
   "outputs": [
    {
     "data": {
      "text/html": [
       "<div>\n",
       "<style scoped>\n",
       "    .dataframe tbody tr th:only-of-type {\n",
       "        vertical-align: middle;\n",
       "    }\n",
       "\n",
       "    .dataframe tbody tr th {\n",
       "        vertical-align: top;\n",
       "    }\n",
       "\n",
       "    .dataframe thead th {\n",
       "        text-align: right;\n",
       "    }\n",
       "</style>\n",
       "<table border=\"1\" class=\"dataframe\">\n",
       "  <thead>\n",
       "    <tr style=\"text-align: right;\">\n",
       "      <th></th>\n",
       "      <th>Crude Close</th>\n",
       "      <th>Crude Volume</th>\n",
       "      <th>Gold Close</th>\n",
       "      <th>Gold Volume</th>\n",
       "      <th>BTC Close</th>\n",
       "      <th>BTC Volume</th>\n",
       "      <th>ETH Close</th>\n",
       "      <th>ETH Volume</th>\n",
       "      <th>SPY Close</th>\n",
       "      <th>SPY UP(2)</th>\n",
       "      <th>SPY UP(3)</th>\n",
       "      <th>SPY UP(4)</th>\n",
       "    </tr>\n",
       "    <tr>\n",
       "      <th>Date</th>\n",
       "      <th></th>\n",
       "      <th></th>\n",
       "      <th></th>\n",
       "      <th></th>\n",
       "      <th></th>\n",
       "      <th></th>\n",
       "      <th></th>\n",
       "      <th></th>\n",
       "      <th></th>\n",
       "      <th></th>\n",
       "      <th></th>\n",
       "      <th></th>\n",
       "    </tr>\n",
       "  </thead>\n",
       "  <tbody>\n",
       "    <tr>\n",
       "      <th>2020-06-01</th>\n",
       "      <td>39.549999</td>\n",
       "      <td>1927914</td>\n",
       "      <td>1676.199951</td>\n",
       "      <td>6676</td>\n",
       "      <td>9758.852539</td>\n",
       "      <td>194228716225</td>\n",
       "      <td>245.167252</td>\n",
       "      <td>74719731540</td>\n",
       "      <td>319.339996</td>\n",
       "      <td>0</td>\n",
       "      <td>0</td>\n",
       "      <td>0</td>\n",
       "    </tr>\n",
       "    <tr>\n",
       "      <th>2020-06-08</th>\n",
       "      <td>36.259998</td>\n",
       "      <td>2118960</td>\n",
       "      <td>1729.300049</td>\n",
       "      <td>2660</td>\n",
       "      <td>9386.788086</td>\n",
       "      <td>160324519712</td>\n",
       "      <td>234.114700</td>\n",
       "      <td>61122813318</td>\n",
       "      <td>304.209991</td>\n",
       "      <td>0</td>\n",
       "      <td>0</td>\n",
       "      <td>0</td>\n",
       "    </tr>\n",
       "    <tr>\n",
       "      <th>2020-06-15</th>\n",
       "      <td>39.750000</td>\n",
       "      <td>1170882</td>\n",
       "      <td>1745.900024</td>\n",
       "      <td>1700</td>\n",
       "      <td>9303.629883</td>\n",
       "      <td>138300100692</td>\n",
       "      <td>228.989822</td>\n",
       "      <td>51716551698</td>\n",
       "      <td>308.640015</td>\n",
       "      <td>1</td>\n",
       "      <td>0</td>\n",
       "      <td>0</td>\n",
       "    </tr>\n",
       "    <tr>\n",
       "      <th>2020-06-22</th>\n",
       "      <td>38.490002</td>\n",
       "      <td>1991836</td>\n",
       "      <td>1772.500000</td>\n",
       "      <td>3830</td>\n",
       "      <td>9143.582031</td>\n",
       "      <td>125863637229</td>\n",
       "      <td>225.347168</td>\n",
       "      <td>51841369946</td>\n",
       "      <td>300.049988</td>\n",
       "      <td>1</td>\n",
       "      <td>1</td>\n",
       "      <td>0</td>\n",
       "    </tr>\n",
       "    <tr>\n",
       "      <th>2020-06-29</th>\n",
       "      <td>40.650002</td>\n",
       "      <td>1468238</td>\n",
       "      <td>1784.000000</td>\n",
       "      <td>2116</td>\n",
       "      <td>9073.942383</td>\n",
       "      <td>102779717630</td>\n",
       "      <td>227.664597</td>\n",
       "      <td>41125720927</td>\n",
       "      <td>312.230011</td>\n",
       "      <td>0</td>\n",
       "      <td>0</td>\n",
       "      <td>1</td>\n",
       "    </tr>\n",
       "    <tr>\n",
       "      <th>...</th>\n",
       "      <td>...</td>\n",
       "      <td>...</td>\n",
       "      <td>...</td>\n",
       "      <td>...</td>\n",
       "      <td>...</td>\n",
       "      <td>...</td>\n",
       "      <td>...</td>\n",
       "      <td>...</td>\n",
       "      <td>...</td>\n",
       "      <td>...</td>\n",
       "      <td>...</td>\n",
       "      <td>...</td>\n",
       "    </tr>\n",
       "    <tr>\n",
       "      <th>2022-05-02</th>\n",
       "      <td>109.769997</td>\n",
       "      <td>1355247</td>\n",
       "      <td>1881.199951</td>\n",
       "      <td>1146</td>\n",
       "      <td>34059.265625</td>\n",
       "      <td>239044762282</td>\n",
       "      <td>2517.459961</td>\n",
       "      <td>127664655328</td>\n",
       "      <td>411.339996</td>\n",
       "      <td>1</td>\n",
       "      <td>1</td>\n",
       "      <td>1</td>\n",
       "    </tr>\n",
       "    <tr>\n",
       "      <th>2022-05-09</th>\n",
       "      <td>110.489998</td>\n",
       "      <td>1705170</td>\n",
       "      <td>1807.400024</td>\n",
       "      <td>3224</td>\n",
       "      <td>31305.113281</td>\n",
       "      <td>357800928090</td>\n",
       "      <td>2145.706787</td>\n",
       "      <td>217861782391</td>\n",
       "      <td>401.720001</td>\n",
       "      <td>1</td>\n",
       "      <td>1</td>\n",
       "      <td>1</td>\n",
       "    </tr>\n",
       "    <tr>\n",
       "      <th>2022-05-16</th>\n",
       "      <td>113.230003</td>\n",
       "      <td>943867</td>\n",
       "      <td>1841.800049</td>\n",
       "      <td>714</td>\n",
       "      <td>30323.722656</td>\n",
       "      <td>196429842104</td>\n",
       "      <td>2043.170166</td>\n",
       "      <td>111825123089</td>\n",
       "      <td>389.630005</td>\n",
       "      <td>1</td>\n",
       "      <td>1</td>\n",
       "      <td>1</td>\n",
       "    </tr>\n",
       "    <tr>\n",
       "      <th>2022-05-23</th>\n",
       "      <td>115.070000</td>\n",
       "      <td>1083820</td>\n",
       "      <td>1851.300049</td>\n",
       "      <td>153695</td>\n",
       "      <td>29445.957031</td>\n",
       "      <td>212594819496</td>\n",
       "      <td>1812.031006</td>\n",
       "      <td>125642960268</td>\n",
       "      <td>415.260010</td>\n",
       "      <td>0</td>\n",
       "      <td>0</td>\n",
       "      <td>0</td>\n",
       "    </tr>\n",
       "    <tr>\n",
       "      <th>2022-05-30</th>\n",
       "      <td>114.669998</td>\n",
       "      <td>440796</td>\n",
       "      <td>1842.699951</td>\n",
       "      <td>4073</td>\n",
       "      <td>29799.080078</td>\n",
       "      <td>113952021249</td>\n",
       "      <td>1823.569336</td>\n",
       "      <td>58981722025</td>\n",
       "      <td>412.929993</td>\n",
       "      <td>0</td>\n",
       "      <td>0</td>\n",
       "      <td>0</td>\n",
       "    </tr>\n",
       "  </tbody>\n",
       "</table>\n",
       "<p>105 rows × 12 columns</p>\n",
       "</div>"
      ],
      "text/plain": [
       "            Crude Close  Crude Volume   Gold Close  Gold Volume     BTC Close  \\\n",
       "Date                                                                            \n",
       "2020-06-01    39.549999       1927914  1676.199951         6676   9758.852539   \n",
       "2020-06-08    36.259998       2118960  1729.300049         2660   9386.788086   \n",
       "2020-06-15    39.750000       1170882  1745.900024         1700   9303.629883   \n",
       "2020-06-22    38.490002       1991836  1772.500000         3830   9143.582031   \n",
       "2020-06-29    40.650002       1468238  1784.000000         2116   9073.942383   \n",
       "...                 ...           ...          ...          ...           ...   \n",
       "2022-05-02   109.769997       1355247  1881.199951         1146  34059.265625   \n",
       "2022-05-09   110.489998       1705170  1807.400024         3224  31305.113281   \n",
       "2022-05-16   113.230003        943867  1841.800049          714  30323.722656   \n",
       "2022-05-23   115.070000       1083820  1851.300049       153695  29445.957031   \n",
       "2022-05-30   114.669998        440796  1842.699951         4073  29799.080078   \n",
       "\n",
       "              BTC Volume    ETH Close    ETH Volume   SPY Close  SPY UP(2)  \\\n",
       "Date                                                                         \n",
       "2020-06-01  194228716225   245.167252   74719731540  319.339996          0   \n",
       "2020-06-08  160324519712   234.114700   61122813318  304.209991          0   \n",
       "2020-06-15  138300100692   228.989822   51716551698  308.640015          1   \n",
       "2020-06-22  125863637229   225.347168   51841369946  300.049988          1   \n",
       "2020-06-29  102779717630   227.664597   41125720927  312.230011          0   \n",
       "...                  ...          ...           ...         ...        ...   \n",
       "2022-05-02  239044762282  2517.459961  127664655328  411.339996          1   \n",
       "2022-05-09  357800928090  2145.706787  217861782391  401.720001          1   \n",
       "2022-05-16  196429842104  2043.170166  111825123089  389.630005          1   \n",
       "2022-05-23  212594819496  1812.031006  125642960268  415.260010          0   \n",
       "2022-05-30  113952021249  1823.569336   58981722025  412.929993          0   \n",
       "\n",
       "            SPY UP(3)  SPY UP(4)  \n",
       "Date                              \n",
       "2020-06-01          0          0  \n",
       "2020-06-08          0          0  \n",
       "2020-06-15          0          0  \n",
       "2020-06-22          1          0  \n",
       "2020-06-29          0          1  \n",
       "...               ...        ...  \n",
       "2022-05-02          1          1  \n",
       "2022-05-09          1          1  \n",
       "2022-05-16          1          1  \n",
       "2022-05-23          0          0  \n",
       "2022-05-30          0          0  \n",
       "\n",
       "[105 rows x 12 columns]"
      ]
     },
     "execution_count": 160,
     "metadata": {},
     "output_type": "execute_result"
    }
   ],
   "source": [
    "combined_asset_data = pd.concat([crude_prices_df, gold_prices_df, BTC_prices_df, ETH_prices_df,SPY_prices_df, ], axis=\"columns\", join=\"inner\")\n",
    "#combined_asset_data.head()\n",
    "#set_index('Date')\n",
    "#combined_asset_data['SPY Close'].diff(periods=3)\n",
    "combined_asset_data[ 'SPY UP(2)' ] = combined_asset_data['SPY Close'].diff(periods=2).apply(lambda x: 1 if x <= 0 else 0)\n",
    "combined_asset_data[ 'SPY UP(3)' ] = combined_asset_data['SPY Close'].diff(periods=3).apply(lambda x: 1 if x <= 0 else 0)\n",
    "combined_asset_data[ 'SPY UP(4)' ] = combined_asset_data['SPY Close'].diff(periods=4).apply(lambda x: 1 if x <= 0 else 0)\n",
    "#combined_asset_data\n",
    "combined_asset_data"
   ]
  },
  {
   "cell_type": "code",
   "execution_count": 99,
   "id": "7d8220d1-876a-4c13-88c4-9864ec2ee7f8",
   "metadata": {},
   "outputs": [],
   "source": [
    "# Initial imports\n",
    "import numpy as np\n",
    "import pandas as pd\n",
    "import hvplot.pandas"
   ]
  },
  {
   "cell_type": "code",
   "execution_count": 100,
   "id": "9fa34132-ac59-484b-ab7c-859671e90142",
   "metadata": {},
   "outputs": [],
   "source": [
    "# Set the random seed for reproducibility\n",
    "# Note: This is used for model prototyping, but it is good practice to comment this out and run multiple experiments to evaluate your model.\n",
    "from numpy.random import seed\n",
    "\n",
    "seed(1)\n",
    "from tensorflow import random\n",
    "random.set_seed(2)"
   ]
  },
  {
   "cell_type": "code",
   "execution_count": 101,
   "id": "180b91e3-c2ff-4060-b044-279242cb1d89",
   "metadata": {},
   "outputs": [],
   "source": [
    "# # This function accepts the column number for the features (X) and the target (y)\n",
    "# # It chunks the data up with a rolling window of Xt-n to predict Xt\n",
    "# # It returns a numpy array of X any y\n",
    "# def window_data(combined_asset_data, window, feature_col_number, target_col_number):\n",
    "#     X = []\n",
    "#     y = []\n",
    "#     for i in range(len(combined_asset_data) - window - 1):\n",
    "#         features = combined_asset_data.iloc[i:(i + window), feature_col_number]\n",
    "#         target = combined_asset_data.iloc[(i + window), target_col_number]\n",
    "#         X.append(features)\n",
    "#         y.append(target)\n",
    "#     return np.array(X), np.array(y).reshape(-1, 1)\n",
    "X = combined_asset_data.iloc[:, 0:7]\n",
    "y = combined_asset_data.iloc[:, 8]\n"
   ]
  },
  {
   "cell_type": "code",
   "execution_count": 114,
   "id": "2a308636-6694-4450-99dc-d974f6c6f2e0",
   "metadata": {},
   "outputs": [],
   "source": [
    "# # Predict Closing Prices using a 10 day window of previous closing prices\n",
    "# # Then, experiment with window sizes anywhere from 1 to 10 and see how the model performance changes\n",
    "# window_size = 10\n",
    "\n",
    "# # Column index 0 is the 'fng_value' column\n",
    "# # Column index 1 is the `Close` column\n",
    "# feature_column = 1\n",
    "# target_column = 1\n",
    "# X, y = window_data(combined_asset_data, window_size, feature_column, target_column)\n",
    "\n",
    "# Scale the data of the features set using the StandardScaler\n",
    "from sklearn.preprocessing import MinMaxScaler\n",
    "from sklearn.preprocessing import StandardScaler\n",
    "# Use the MinMaxScaler to scale data between 0 and 1.\n",
    "scaler = StandardScaler().fit(X)\n",
    "#from sklearn.preprocessing import StandardScaler\n",
    "\n",
    "# scaler = StandardScaler().fit(X)\n",
    "# X = scaler.transform(X)"
   ]
  },
  {
   "cell_type": "code",
   "execution_count": 115,
   "id": "2a95c2fe-e82d-41a7-b581-c5f7b1250348",
   "metadata": {},
   "outputs": [],
   "source": [
    "# # Use 70% of the data for training and the remaineder for testing\n",
    "split = int(0.7 * len(X))\n",
    "\n",
    "X_train = X[: split]\n",
    "X_test = X[split:]\n",
    "\n",
    "y_train = y[: split]\n",
    "y_test = y[split:]\n",
    "y_train = pd.DataFrame(y_train)\n",
    "y_test = pd.DataFrame(y_test)"
   ]
  },
  {
   "cell_type": "code",
   "execution_count": 116,
   "id": "76472343-0f73-4aaf-a885-8eec564dc9a2",
   "metadata": {},
   "outputs": [
    {
     "data": {
      "text/plain": [
       "array([[1.65010712],\n",
       "       [1.85500902],\n",
       "       [1.82718807],\n",
       "       [1.86295815],\n",
       "       [1.64392477],\n",
       "       [1.52138132],\n",
       "       [1.90380551],\n",
       "       [1.66379659],\n",
       "       [1.90071467],\n",
       "       [1.99698292],\n",
       "       [1.80113389],\n",
       "       [1.77088447],\n",
       "       [1.18046687],\n",
       "       [1.26812429],\n",
       "       [1.41716394],\n",
       "       [1.23522471],\n",
       "       [1.09766707],\n",
       "       [1.17538824],\n",
       "       [1.05218243],\n",
       "       [0.78501492],\n",
       "       [1.32486925],\n",
       "       [1.50526272],\n",
       "       [1.51034135],\n",
       "       [1.39221349],\n",
       "       [1.17627163],\n",
       "       [0.91683224],\n",
       "       [0.60682958],\n",
       "       [0.59225673],\n",
       "       [0.37984774],\n",
       "       [0.11290124],\n",
       "       [0.67881042],\n",
       "       [0.62736377]])"
      ]
     },
     "execution_count": 116,
     "metadata": {},
     "output_type": "execute_result"
    }
   ],
   "source": [
    "#  Fit the MinMaxScaler object with the features data X\n",
    "scaler.fit(X_train)\n",
    "\n",
    "# # Scale the features training and testing sets\n",
    "X_train = scaler.transform(X_train)\n",
    "X_test = scaler.transform(X_test)\n",
    "\n",
    "# # Fit the MinMaxScaler object with the target data Y\n",
    "scaler.fit(y_train)\n",
    "\n",
    "# # Scale the target training and testing sets\n",
    "y_train = scaler.transform(y_train)\n",
    "y_test = scaler.transform(y_test)\n",
    "#\n",
    "y_test"
   ]
  },
  {
   "cell_type": "code",
   "execution_count": 117,
   "id": "410f018a-8c95-4ac2-845a-d678cfaf35ad",
   "metadata": {},
   "outputs": [],
   "source": [
    "from tensorflow.keras.models import Sequential\n",
    "from tensorflow.keras.layers import Dense\n",
    "# Create a shallow, 1 hidden layer, neural network\n",
    "nn = Sequential()\n",
    "\n",
    "# Hidden layer\n",
    "nn.add(Dense(units=2, input_dim=7, activation=\"relu\"))\n",
    "nn.add(Dense(units=2, activation=\"relu\"))\n",
    "\n",
    "# Output layer\n",
    "nn.add(Dense(units=1, activation=\"linear\"))"
   ]
  },
  {
   "cell_type": "code",
   "execution_count": 118,
   "id": "46fc6990-4df0-4e4a-8826-aac916b3b527",
   "metadata": {},
   "outputs": [
    {
     "name": "stdout",
     "output_type": "stream",
     "text": [
      "Epoch 1/10\n",
      "3/3 [==============================] - 1s 84ms/step - loss: 149903.7500 - mse: 149903.7500 - val_loss: 196882.9219 - val_mse: 196882.9219\n",
      "Epoch 2/10\n",
      "3/3 [==============================] - 0s 15ms/step - loss: 149901.4375 - mse: 149901.4375 - val_loss: 196880.2344 - val_mse: 196880.2344\n",
      "Epoch 3/10\n",
      "3/3 [==============================] - 0s 15ms/step - loss: 149899.1250 - mse: 149899.1250 - val_loss: 196877.5938 - val_mse: 196877.5938\n",
      "Epoch 4/10\n",
      "3/3 [==============================] - 0s 17ms/step - loss: 149896.8281 - mse: 149896.8281 - val_loss: 196874.9062 - val_mse: 196874.9062\n",
      "Epoch 5/10\n",
      "3/3 [==============================] - 0s 23ms/step - loss: 149894.5000 - mse: 149894.5000 - val_loss: 196872.2656 - val_mse: 196872.2656\n",
      "Epoch 6/10\n",
      "3/3 [==============================] - 0s 18ms/step - loss: 149892.2031 - mse: 149892.2031 - val_loss: 196869.5781 - val_mse: 196869.5781\n",
      "Epoch 7/10\n",
      "3/3 [==============================] - 0s 16ms/step - loss: 149889.8906 - mse: 149889.8906 - val_loss: 196866.9375 - val_mse: 196866.9375\n",
      "Epoch 8/10\n",
      "3/3 [==============================] - 0s 19ms/step - loss: 149887.5938 - mse: 149887.5938 - val_loss: 196864.2812 - val_mse: 196864.2812\n",
      "Epoch 9/10\n",
      "3/3 [==============================] - 0s 18ms/step - loss: 149885.2812 - mse: 149885.2812 - val_loss: 196861.6406 - val_mse: 196861.6406\n",
      "Epoch 10/10\n",
      "3/3 [==============================] - 0s 18ms/step - loss: 149882.9688 - mse: 149882.9688 - val_loss: 196858.9531 - val_mse: 196858.9531\n"
     ]
    }
   ],
   "source": [
    "# Compile the model\n",
    "nn.compile(loss=\"mean_squared_error\", optimizer=\"adam\", metrics=[\"mse\"])\n",
    "\n",
    "# Fit the model\n",
    "model_1 = nn.fit(X, y, validation_split=0.3, epochs=10)"
   ]
  },
  {
   "cell_type": "code",
   "execution_count": 119,
   "id": "3ae6b6dc-19c8-436b-91db-ab7256a3d8ea",
   "metadata": {},
   "outputs": [
    {
     "data": {
      "image/png": "[encoded data removed]",
      "text/plain": [
       "<Figure size 432x288 with 1 Axes>"
      ]
     },
     "metadata": {
      "needs_background": "light"
     },
     "output_type": "display_data"
    }
   ],
   "source": [
    "# Plot the loss function of the training results for the two models\n",
    "import matplotlib.pyplot as plt\n",
    "plt.plot(model_1.history[\"loss\"])\n",
    "#plt.plot(model_2.history[\"loss\"])\n",
    "plt.title(\"loss_function - Training -2 hinden layer\")\n",
    "plt.legend([\"1 hidden layer\", \"2 hidden layers\"])\n",
    "plt.show()"
   ]
  },
  {
   "cell_type": "code",
   "execution_count": 49,
   "id": "38d63d7a-6ec5-4671-ad81-0897d7d98585",
   "metadata": {},
   "outputs": [],
   "source": [
    "# # Reshape the features for the model\n",
    "# X_train = X_train.reshape((X_train.shape[0], X_train.shape[1], 1))\n",
    "# X_test = X_test.reshape((X_test.shape[0], X_test.shape[1], 1))"
   ]
  },
  {
   "cell_type": "code",
   "execution_count": 50,
   "id": "7ac0ef77-909a-494c-a899-dc45b7e5ece7",
   "metadata": {},
   "outputs": [],
   "source": [
    "from tensorflow.keras.models import Sequential\n",
    "from tensorflow.keras.layers import LSTM, Dense, Dropout"
   ]
  },
  {
   "cell_type": "code",
   "execution_count": 120,
   "id": "5bac077f-c692-4b61-afec-197519ab1d7f",
   "metadata": {},
   "outputs": [],
   "source": [
    "# The return sequences need to be set to True if you are adding additional LSTM layers, but \n",
    "# You don't have to do this for the final layer. \n",
    "# Note: The dropouts help prevent overfitting\n",
    "# Note: The input shape is the number of time steps and the number of indicators\n",
    "# Note: Batching inputs has a different input shape of Samples/TimeSteps/Features\n",
    "\n",
    "model = Sequential()\n",
    "\n",
    "# Initial model setup\n",
    "number_units = 8\n",
    "dropout_fraction = 0.2\n",
    "\n",
    "# Layer 1\n",
    "model.add(LSTM(\n",
    "    units=number_units,\n",
    "    return_sequences=True,\n",
    "    input_shape=(X_train.shape[1], 1))\n",
    "    )\n",
    "model.add(Dropout(dropout_fraction))\n",
    "\n",
    "# Layer 2\n",
    "model.add(LSTM(units=number_units, return_sequences=True))\n",
    "model.add(Dropout(dropout_fraction))\n",
    "\n",
    "# Layer 3\n",
    "model.add(LSTM(units=number_units))\n",
    "model.add(Dropout(dropout_fraction))\n",
    "\n",
    "# Output layer\n",
    "model.add(Dense(1))"
   ]
  },
  {
   "cell_type": "code",
   "execution_count": 121,
   "id": "9f621b44-efee-4120-b770-cf4134f68b5c",
   "metadata": {},
   "outputs": [],
   "source": [
    "# Compile the model\n",
    "model.compile(optimizer=\"adam\", loss=\"mean_squared_error\")"
   ]
  },
  {
   "cell_type": "code",
   "execution_count": 122,
   "id": "c58d6f7f-d41d-4015-844f-ce6ba141fcd3",
   "metadata": {},
   "outputs": [
    {
     "name": "stdout",
     "output_type": "stream",
     "text": [
      "Model: \"sequential_5\"\n",
      "_________________________________________________________________\n",
      " Layer (type)                Output Shape              Param #   \n",
      "=================================================================\n",
      " lstm_3 (LSTM)               (None, 7, 8)              320       \n",
      "                                                                 \n",
      " dropout_3 (Dropout)         (None, 7, 8)              0         \n",
      "                                                                 \n",
      " lstm_4 (LSTM)               (None, 7, 8)              544       \n",
      "                                                                 \n",
      " dropout_4 (Dropout)         (None, 7, 8)              0         \n",
      "                                                                 \n",
      " lstm_5 (LSTM)               (None, 8)                 544       \n",
      "                                                                 \n",
      " dropout_5 (Dropout)         (None, 8)                 0         \n",
      "                                                                 \n",
      " dense_13 (Dense)            (None, 1)                 9         \n",
      "                                                                 \n",
      "=================================================================\n",
      "Total params: 1,417\n",
      "Trainable params: 1,417\n",
      "Non-trainable params: 0\n",
      "_________________________________________________________________\n"
     ]
    }
   ],
   "source": [
    "# Summarize the model\n",
    "model.summary()"
   ]
  },
  {
   "cell_type": "code",
   "execution_count": 128,
   "id": "6b4571a6-b740-4de9-ba7f-e191133cade8",
   "metadata": {},
   "outputs": [
    {
     "name": "stdout",
     "output_type": "stream",
     "text": [
      "Epoch 1/100\n",
      "25/25 [==============================] - 0s 10ms/step - loss: 0.4546\n",
      "Epoch 2/100\n",
      "25/25 [==============================] - 0s 9ms/step - loss: 0.3806\n",
      "Epoch 3/100\n",
      "25/25 [==============================] - 0s 9ms/step - loss: 0.3877\n",
      "Epoch 4/100\n",
      "25/25 [==============================] - 0s 10ms/step - loss: 0.3763\n",
      "Epoch 5/100\n",
      "25/25 [==============================] - 0s 14ms/step - loss: 0.3898\n",
      "Epoch 6/100\n",
      "25/25 [==============================] - 0s 10ms/step - loss: 0.3950\n",
      "Epoch 7/100\n",
      "25/25 [==============================] - 0s 10ms/step - loss: 0.4023\n",
      "Epoch 8/100\n",
      "25/25 [==============================] - 0s 10ms/step - loss: 0.3539\n",
      "Epoch 9/100\n",
      "25/25 [==============================] - 0s 10ms/step - loss: 0.3762\n",
      "Epoch 10/100\n",
      "25/25 [==============================] - 0s 9ms/step - loss: 0.3271\n",
      "Epoch 11/100\n",
      "25/25 [==============================] - 0s 9ms/step - loss: 0.3102\n",
      "Epoch 12/100\n",
      "25/25 [==============================] - 0s 10ms/step - loss: 0.3604\n",
      "Epoch 13/100\n",
      "25/25 [==============================] - 0s 10ms/step - loss: 0.3692\n",
      "Epoch 14/100\n",
      "25/25 [==============================] - 0s 10ms/step - loss: 0.3600\n",
      "Epoch 15/100\n",
      "25/25 [==============================] - 0s 10ms/step - loss: 0.3562\n",
      "Epoch 16/100\n",
      "25/25 [==============================] - 0s 9ms/step - loss: 0.3606\n",
      "Epoch 17/100\n",
      "25/25 [==============================] - 0s 10ms/step - loss: 0.3592\n",
      "Epoch 18/100\n",
      "25/25 [==============================] - 0s 11ms/step - loss: 0.3513\n",
      "Epoch 19/100\n",
      "25/25 [==============================] - 0s 11ms/step - loss: 0.3174\n",
      "Epoch 20/100\n",
      "25/25 [==============================] - 0s 12ms/step - loss: 0.3883\n",
      "Epoch 21/100\n",
      "25/25 [==============================] - 0s 10ms/step - loss: 0.3150\n",
      "Epoch 22/100\n",
      "25/25 [==============================] - 0s 10ms/step - loss: 0.3290\n",
      "Epoch 23/100\n",
      "25/25 [==============================] - 0s 10ms/step - loss: 0.3692\n",
      "Epoch 24/100\n",
      "25/25 [==============================] - 0s 9ms/step - loss: 0.2893\n",
      "Epoch 25/100\n",
      "25/25 [==============================] - 0s 10ms/step - loss: 0.3385\n",
      "Epoch 26/100\n",
      "25/25 [==============================] - 0s 9ms/step - loss: 0.3289\n",
      "Epoch 27/100\n",
      "25/25 [==============================] - 0s 9ms/step - loss: 0.2816\n",
      "Epoch 28/100\n",
      "25/25 [==============================] - 0s 10ms/step - loss: 0.3282\n",
      "Epoch 29/100\n",
      "25/25 [==============================] - 0s 9ms/step - loss: 0.3455\n",
      "Epoch 30/100\n",
      "25/25 [==============================] - 0s 9ms/step - loss: 0.2971\n",
      "Epoch 31/100\n",
      "25/25 [==============================] - 0s 10ms/step - loss: 0.2794\n",
      "Epoch 32/100\n",
      "25/25 [==============================] - 0s 10ms/step - loss: 0.3351\n",
      "Epoch 33/100\n",
      "25/25 [==============================] - 0s 11ms/step - loss: 0.2878\n",
      "Epoch 34/100\n",
      "25/25 [==============================] - 0s 11ms/step - loss: 0.3325\n",
      "Epoch 35/100\n",
      "25/25 [==============================] - 0s 9ms/step - loss: 0.3359\n",
      "Epoch 36/100\n",
      "25/25 [==============================] - 0s 9ms/step - loss: 0.2917\n",
      "Epoch 37/100\n",
      "25/25 [==============================] - 0s 10ms/step - loss: 0.3163\n",
      "Epoch 38/100\n",
      "25/25 [==============================] - 0s 10ms/step - loss: 0.3281\n",
      "Epoch 39/100\n",
      "25/25 [==============================] - 0s 11ms/step - loss: 0.3122\n",
      "Epoch 40/100\n",
      "25/25 [==============================] - 0s 12ms/step - loss: 0.3083\n",
      "Epoch 41/100\n",
      "25/25 [==============================] - 0s 12ms/step - loss: 0.2934\n",
      "Epoch 42/100\n",
      "25/25 [==============================] - 0s 12ms/step - loss: 0.3105\n",
      "Epoch 43/100\n",
      "25/25 [==============================] - 0s 11ms/step - loss: 0.3505\n",
      "Epoch 44/100\n",
      "25/25 [==============================] - 0s 13ms/step - loss: 0.2710\n",
      "Epoch 45/100\n",
      "25/25 [==============================] - 0s 10ms/step - loss: 0.2792\n",
      "Epoch 46/100\n",
      "25/25 [==============================] - 0s 10ms/step - loss: 0.3239\n",
      "Epoch 47/100\n",
      "25/25 [==============================] - 0s 11ms/step - loss: 0.3056\n",
      "Epoch 48/100\n",
      "25/25 [==============================] - 0s 13ms/step - loss: 0.2618\n",
      "Epoch 49/100\n",
      "25/25 [==============================] - 0s 10ms/step - loss: 0.2849\n",
      "Epoch 50/100\n",
      "25/25 [==============================] - 0s 9ms/step - loss: 0.2618\n",
      "Epoch 51/100\n",
      "25/25 [==============================] - 0s 12ms/step - loss: 0.2747\n",
      "Epoch 52/100\n",
      "25/25 [==============================] - 0s 12ms/step - loss: 0.2713\n",
      "Epoch 53/100\n",
      "25/25 [==============================] - 0s 10ms/step - loss: 0.2580\n",
      "Epoch 54/100\n",
      "25/25 [==============================] - 0s 9ms/step - loss: 0.3265\n",
      "Epoch 55/100\n",
      "25/25 [==============================] - 0s 9ms/step - loss: 0.2792\n",
      "Epoch 56/100\n",
      "25/25 [==============================] - 0s 10ms/step - loss: 0.2868\n",
      "Epoch 57/100\n",
      "25/25 [==============================] - 0s 10ms/step - loss: 0.2269\n",
      "Epoch 58/100\n",
      "25/25 [==============================] - 0s 10ms/step - loss: 0.2714\n",
      "Epoch 59/100\n",
      "25/25 [==============================] - 0s 10ms/step - loss: 0.2621\n",
      "Epoch 60/100\n",
      "25/25 [==============================] - 0s 10ms/step - loss: 0.2687\n",
      "Epoch 61/100\n",
      "25/25 [==============================] - 0s 10ms/step - loss: 0.2671\n",
      "Epoch 62/100\n",
      "25/25 [==============================] - 0s 10ms/step - loss: 0.2334\n",
      "Epoch 63/100\n",
      "25/25 [==============================] - 0s 10ms/step - loss: 0.2542\n",
      "Epoch 64/100\n",
      "25/25 [==============================] - 0s 10ms/step - loss: 0.2631\n",
      "Epoch 65/100\n",
      "25/25 [==============================] - 0s 12ms/step - loss: 0.2485\n",
      "Epoch 66/100\n",
      "25/25 [==============================] - 0s 10ms/step - loss: 0.2337\n",
      "Epoch 67/100\n",
      "25/25 [==============================] - 0s 10ms/step - loss: 0.2768\n",
      "Epoch 68/100\n",
      "25/25 [==============================] - 0s 10ms/step - loss: 0.2893\n",
      "Epoch 69/100\n",
      "25/25 [==============================] - 0s 10ms/step - loss: 0.2355\n",
      "Epoch 70/100\n",
      "25/25 [==============================] - 0s 11ms/step - loss: 0.2388\n",
      "Epoch 71/100\n",
      "25/25 [==============================] - 0s 9ms/step - loss: 0.2360\n",
      "Epoch 72/100\n",
      "25/25 [==============================] - 0s 9ms/step - loss: 0.2094\n",
      "Epoch 73/100\n",
      "25/25 [==============================] - 0s 9ms/step - loss: 0.2147\n",
      "Epoch 74/100\n",
      "25/25 [==============================] - 0s 9ms/step - loss: 0.2146\n",
      "Epoch 75/100\n",
      "25/25 [==============================] - 0s 9ms/step - loss: 0.1971\n",
      "Epoch 76/100\n",
      "25/25 [==============================] - 0s 11ms/step - loss: 0.2474\n",
      "Epoch 77/100\n",
      "25/25 [==============================] - 0s 11ms/step - loss: 0.2396\n",
      "Epoch 78/100\n",
      "25/25 [==============================] - 0s 10ms/step - loss: 0.2514\n",
      "Epoch 79/100\n",
      "25/25 [==============================] - 0s 10ms/step - loss: 0.2220\n",
      "Epoch 80/100\n",
      "25/25 [==============================] - 0s 10ms/step - loss: 0.2373\n",
      "Epoch 81/100\n",
      "25/25 [==============================] - 0s 10ms/step - loss: 0.2244\n",
      "Epoch 82/100\n",
      "25/25 [==============================] - 0s 10ms/step - loss: 0.2483\n",
      "Epoch 83/100\n",
      "25/25 [==============================] - 0s 9ms/step - loss: 0.2093\n",
      "Epoch 84/100\n",
      "25/25 [==============================] - 0s 9ms/step - loss: 0.1935\n",
      "Epoch 85/100\n",
      "25/25 [==============================] - 0s 9ms/step - loss: 0.2349\n",
      "Epoch 86/100\n",
      "25/25 [==============================] - 0s 9ms/step - loss: 0.1999\n",
      "Epoch 87/100\n",
      "25/25 [==============================] - 0s 12ms/step - loss: 0.1779\n",
      "Epoch 88/100\n",
      "25/25 [==============================] - 0s 11ms/step - loss: 0.1751\n",
      "Epoch 89/100\n",
      "25/25 [==============================] - 0s 9ms/step - loss: 0.2256\n",
      "Epoch 90/100\n",
      "25/25 [==============================] - 0s 9ms/step - loss: 0.2054\n",
      "Epoch 91/100\n",
      "25/25 [==============================] - 0s 9ms/step - loss: 0.1965\n",
      "Epoch 92/100\n",
      "25/25 [==============================] - 0s 10ms/step - loss: 0.2298\n",
      "Epoch 93/100\n",
      "25/25 [==============================] - 0s 10ms/step - loss: 0.1792\n",
      "Epoch 94/100\n",
      "25/25 [==============================] - 0s 9ms/step - loss: 0.2154\n",
      "Epoch 95/100\n",
      "25/25 [==============================] - 0s 9ms/step - loss: 0.2392\n",
      "Epoch 96/100\n",
      "25/25 [==============================] - 0s 9ms/step - loss: 0.1723\n",
      "Epoch 97/100\n",
      "25/25 [==============================] - 0s 9ms/step - loss: 0.1500\n",
      "Epoch 98/100\n",
      "25/25 [==============================] - 0s 8ms/step - loss: 0.2174\n",
      "Epoch 99/100\n",
      "25/25 [==============================] - 0s 8ms/step - loss: 0.2000\n",
      "Epoch 100/100\n",
      "25/25 [==============================] - 0s 8ms/step - loss: 0.2360\n"
     ]
    },
    {
     "data": {
      "text/plain": [
       "<keras.callbacks.History at 0x17e75e576c8>"
      ]
     },
     "execution_count": 128,
     "metadata": {},
     "output_type": "execute_result"
    }
   ],
   "source": [
    "# Train the model\n",
    "# Use at least 10 epochs\n",
    "# Do not shuffle the data\n",
    "# Experiement with the batch size, but a smaller batch size is recommended\n",
    "model.fit(X_train, y_train, epochs=100, shuffle=False, batch_size=3, verbose=1)"
   ]
  },
  {
   "cell_type": "code",
   "execution_count": 129,
   "id": "b862817c-4c41-4b2a-92fd-02ca09955e7a",
   "metadata": {},
   "outputs": [
    {
     "data": {
      "text/plain": [
       "1.0286204814910889"
      ]
     },
     "execution_count": 129,
     "metadata": {},
     "output_type": "execute_result"
    }
   ],
   "source": [
    "# Evaluate the model\n",
    "model.evaluate(X_test, y_test, verbose=0)"
   ]
  },
  {
   "cell_type": "code",
   "execution_count": 130,
   "id": "cfc8ef49-17d2-41d8-b76f-e854feb459d4",
   "metadata": {},
   "outputs": [
    {
     "name": "stdout",
     "output_type": "stream",
     "text": [
      "1/1 [==============================] - 0s 22ms/step\n"
     ]
    }
   ],
   "source": [
    "# Make some predictions\n",
    "predicted = model.predict(X_test)"
   ]
  },
  {
   "cell_type": "code",
   "execution_count": 131,
   "id": "64571669-af14-4536-b288-5c25d10c9d60",
   "metadata": {},
   "outputs": [],
   "source": [
    "# Recover the original prices instead of the scaled version\n",
    "predicted_prices = scaler.inverse_transform(predicted)\n",
    "real_prices = scaler.inverse_transform(y_test.reshape(-1, 1))"
   ]
  },
  {
   "cell_type": "code",
   "execution_count": 132,
   "id": "5b65eeb1-158e-4684-813d-84eb2ee4dce9",
   "metadata": {},
   "outputs": [
    {
     "data": {
      "text/html": [
       "<div>\n",
       "<style scoped>\n",
       "    .dataframe tbody tr th:only-of-type {\n",
       "        vertical-align: middle;\n",
       "    }\n",
       "\n",
       "    .dataframe tbody tr th {\n",
       "        vertical-align: top;\n",
       "    }\n",
       "\n",
       "    .dataframe thead th {\n",
       "        text-align: right;\n",
       "    }\n",
       "</style>\n",
       "<table border=\"1\" class=\"dataframe\">\n",
       "  <thead>\n",
       "    <tr style=\"text-align: right;\">\n",
       "      <th></th>\n",
       "      <th>Real</th>\n",
       "      <th>Predicted</th>\n",
       "    </tr>\n",
       "    <tr>\n",
       "      <th>Date</th>\n",
       "      <th></th>\n",
       "      <th></th>\n",
       "    </tr>\n",
       "  </thead>\n",
       "  <tbody>\n",
       "    <tr>\n",
       "      <th>2021-10-25</th>\n",
       "      <td>459.250000</td>\n",
       "      <td>424.846313</td>\n",
       "    </tr>\n",
       "    <tr>\n",
       "      <th>2021-11-01</th>\n",
       "      <td>468.529999</td>\n",
       "      <td>425.320709</td>\n",
       "    </tr>\n",
       "    <tr>\n",
       "      <th>2021-11-08</th>\n",
       "      <td>467.269989</td>\n",
       "      <td>426.170135</td>\n",
       "    </tr>\n",
       "    <tr>\n",
       "      <th>2021-11-15</th>\n",
       "      <td>468.890015</td>\n",
       "      <td>421.596588</td>\n",
       "    </tr>\n",
       "    <tr>\n",
       "      <th>2021-11-22</th>\n",
       "      <td>458.970001</td>\n",
       "      <td>417.124786</td>\n",
       "    </tr>\n",
       "  </tbody>\n",
       "</table>\n",
       "</div>"
      ],
      "text/plain": [
       "                  Real   Predicted\n",
       "Date                              \n",
       "2021-10-25  459.250000  424.846313\n",
       "2021-11-01  468.529999  425.320709\n",
       "2021-11-08  467.269989  426.170135\n",
       "2021-11-15  468.890015  421.596588\n",
       "2021-11-22  458.970001  417.124786"
      ]
     },
     "execution_count": 132,
     "metadata": {},
     "output_type": "execute_result"
    }
   ],
   "source": [
    "# Create a DataFrame of Real and Predicted values\n",
    "assets = pd.DataFrame({\n",
    "    \"Real\": real_prices.ravel(),\n",
    "    \"Predicted\": predicted_prices.ravel()\n",
    "}, index = combined_asset_data.index[-len(real_prices): ]) \n",
    "assets.head()"
   ]
  },
  {
   "cell_type": "code",
   "execution_count": 133,
   "id": "55c5ac84-6ab2-4d8d-9b70-8e592847a018",
   "metadata": {},
   "outputs": [
    {
     "data": {
      "text/plain": [
       "<AxesSubplot:title={'center':'Actual Vs. Predicted BTC Prices'}, xlabel='Date'>"
      ]
     },
     "execution_count": 133,
     "metadata": {},
     "output_type": "execute_result"
    },
    {
     "data": {
      "image/png": "[encoded data removed]",
      "text/plain": [
       "<Figure size 432x288 with 1 Axes>"
      ]
     },
     "metadata": {
      "needs_background": "light"
     },
     "output_type": "display_data"
    }
   ],
   "source": [
    "# Plot the real vs predicted values as a line chart\n",
    "assets.plot(title=\"Actual Vs. Predicted BTC Prices\")"
   ]
  },
  {
   "cell_type": "code",
   "execution_count": null,
   "id": "fa02ce34-b151-488a-8787-bbee7e830830",
   "metadata": {},
   "outputs": [],
   "source": []
  }
 ],
 "metadata": {
  "kernelspec": {
   "display_name": "Python 3 (ipykernel)",
   "language": "python",
   "name": "python3"
  },
  "language_info": {
   "codemirror_mode": {
    "name": "ipython",
    "version": 3
   },
   "file_extension": ".py",
   "mimetype": "text/x-python",
   "name": "python",
   "nbconvert_exporter": "python",
   "pygments_lexer": "ipython3",
   "version": "3.7.11"
  }
 },
 "nbformat": 4,
 "nbformat_minor": 5
}
