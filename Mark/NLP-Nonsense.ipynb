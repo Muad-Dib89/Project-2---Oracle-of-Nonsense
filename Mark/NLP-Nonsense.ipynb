{
 "cells": [
  {
   "cell_type": "code",
   "execution_count": 4,
   "id": "10880bf4-b6eb-4e8b-8cc1-da14c2cf274c",
   "metadata": {},
   "outputs": [],
   "source": [
    "import os\n",
    "import pandas as pd\n",
    "import datetime as dt\n",
    "from datetime import datetime, timedelta\n",
    "from dotenv import load_dotenv\n",
    "import alpaca_trade_api as tradeapi\n",
    "from newsapi.newsapi_client import NewsApiClient\n",
    "from nltk.sentiment.vader import SentimentIntensityAnalyzer\n",
    "#from newsdataapi import NewsDataApiClient\n",
    "\n",
    "# API key authorization, Initialize the client with your API key\n",
    "\n",
    "#api_newsdata = NewsDataApiClient(apikey=\"YOUR_API_KEY\")\n",
    "\n",
    "# You can pass empty or with request parameters {ex. (country = \"us\")}\n",
    "\n",
    "#response = api_newsdata.news_api( q= \"ronaldo\" , country = \"us\")"
   ]
  },
  {
   "cell_type": "code",
   "execution_count": 2,
   "id": "0e0327ec-0504-416c-b677-c721dde7e66a",
   "metadata": {},
   "outputs": [],
   "source": [
    "# Load .env enviroment variables\n",
    "load_dotenv()\n",
    "\n",
    "# Set News API Key\n",
    "newsapi = NewsApiClient(api_key=os.environ[\"NEWS_API\"])\n",
    "newsapi = NewsApiClient(api_key=os.environ[\"NEWS_API_2\"])\n",
    "#api_newsdata = NewsDataApiClient(apikey=\"newsdata\")\n",
    "\n",
    "# Set Alpaca API key and secret\n",
    "alpaca_api_key = os.getenv(\"ALPACA_API_KEY\")\n",
    "alpaca_secret_key = os.getenv(\"ALPACA_SECRET_KEY\")\n",
    "\n",
    "api = tradeapi.REST(alpaca_api_key, alpaca_secret_key, api_version='v2')"
   ]
  },
  {
   "cell_type": "code",
   "execution_count": 124,
   "id": "0d8ffc6c-aba7-4c15-b273-08f2b7245ee4",
   "metadata": {},
   "outputs": [],
   "source": [
    "# Use newsapi client to get most relevant 20 headlines per day in the past month\n",
    "def get_headlines(keyword,fdate,edate):\n",
    "    all_headlines = []\n",
    "    all_contents = []\n",
    "    all_dates = [] \n",
    "    # string conversion of dates passed in to function\n",
    "    fdate_str=str(fdate.strftime(\"%Y-%m-%d\"))\n",
    "    edate_str=str(edate.strftime(\"%Y-%m-%d\"))\n",
    "\n",
    "    print(f\"Fetching news about '{keyword}'\")\n",
    "    print(\"*\" * 30)\n",
    "    #while date > end_date:\n",
    "    print(f\"retrieving news from: {fdate} - {edate}\")\n",
    "    articles = newsapi.get_everything(\n",
    "        q=keyword,\n",
    "        # from_param=str(date)[:10],\n",
    "        # to=str(date)[:10],\n",
    "        from_param=fdate_str,\n",
    "        to=edate_str,\n",
    "        language=\"en\",\n",
    "        sort_by=\"relevancy\",\n",
    "        page=1,\n",
    "    )\n",
    "    headlines = []\n",
    "    contents = []\n",
    "    for i in range(0, len(articles[\"articles\"])):\n",
    "        headlines.append(articles[\"articles\"][i][\"title\"])\n",
    "        contents.append(articles[\"articles\"][i][\"content\"])\n",
    "    all_headlines.append(headlines)\n",
    "    all_contents.append(contents)\n",
    "    all_dates.append(fdate)\n",
    "    #date = date - timedelta(weeks=1)\n",
    "    return all_headlines, all_dates, all_contents\n",
    "\n",
    "# Create function that computes average compound sentiment of headlines for each day\n",
    "def headline_sentiment_summarizer_avg(data,sdate):\n",
    "    df=data.copy()\n",
    "    sentiment = []\n",
    "    sentiment_pos = []\n",
    "    sentiment_neg = []\n",
    "    for day in data:\n",
    "        day_score = []\n",
    "        day_positive = []\n",
    "        day_negative = []\n",
    "        for h in day:\n",
    "            \n",
    "            if h == None:\n",
    "                continue\n",
    "            else:\n",
    "                day_score.append(sid.polarity_scores(h)[\"compound\"])\n",
    "                day_positive.append(sid.polarity_scores(h)[\"pos\"])\n",
    "                day_negative.append(sid.polarity_scores(h)[\"neg\"])\n",
    "        sentiment.append(sum(day_score) / len(day_score))\n",
    "        sentiment_pos.append(sum(day_positive) / len(day_positive))\n",
    "        sentiment_neg.append(sum(day_negative) / len(day_negative))\n",
    "    d={\"c0\":sentiment,\"p0\":sentiment_pos,\"n0\":sentiment_neg,\"Date\":str(sdate.strftime(\"%Y-%m-%d\"))}\n",
    "    sentiment_df=pd.DataFrame(data=d).set_index(\"Date\")\n",
    "    return sentiment_df #, sentiment_pos, sentiment_neg"
   ]
  },
  {
   "cell_type": "code",
   "execution_count": 45,
   "id": "961cb0ff-7d09-4d4d-9e7c-8cc00f067ffa",
   "metadata": {},
   "outputs": [],
   "source": [
    "# Setting up Variable initial values\n",
    "# current_date = pd.Timestamp(datetime.now(), tz=\"America/New_York\").isoformat()\n",
    "# past_date = pd.Timestamp(datetime.now()- timedelta(7), tz=\"America/New_York\").isoformat()\n",
    "# date = datetime.strptime(current_date[:10], \"%Y-%m-%d\")\n",
    "# end_date = datetime.strptime(past_date[:10], \"%Y-%m-%d\")\n",
    "fdate = datetime(2022, 6, 1)\n",
    "edate = fdate + timedelta(days=1)\n",
    "# Instantiate SentimentIntensityAnalyzer\n",
    "sid = SentimentIntensityAnalyzer()"
   ]
  },
  {
   "cell_type": "code",
   "execution_count": 46,
   "id": "1c2bd885-21b7-47f3-96ad-b87cdd419876",
   "metadata": {},
   "outputs": [
    {
     "name": "stdout",
     "output_type": "stream",
     "text": [
      "Fetching news about 'bitcoin'\n",
      "******************************\n",
      "retrieving news from: 2022-05-26 00:00:00 - 2022-06-01 00:00:00\n"
     ]
    }
   ],
   "source": [
    "btc_headlines, btc_dates, btc_contents = get_headlines(\"bitcoin\",fdate,edate)\n",
    "\n",
    "# eth_headlines, eth_dates = get_headlines(\"ethereum\")\n",
    "# gold_headlines, gold_dates = get_headlines(\"gold\")\n",
    "# crude_oil_headlines, crude_oil_dates, crude_oil_contents = get_headlines(\"crude oil\")\n",
    "# sp500_headlines, sp500_dates = get_headlines(\"S&P 500\")"
   ]
  },
  {
   "cell_type": "code",
   "execution_count": 1,
   "id": "33f1a8f1-c735-4166-a8d8-5aec4a76db56",
   "metadata": {},
   "outputs": [
    {
     "ename": "NameError",
     "evalue": "name 'headline_sentiment_summarizer_avg' is not defined",
     "output_type": "error",
     "traceback": [
      "\u001b[1;31m---------------------------------------------------------------------------\u001b[0m",
      "\u001b[1;31mNameError\u001b[0m                                 Traceback (most recent call last)",
      "\u001b[1;32m~\\AppData\\Local\\Temp/ipykernel_6984/3329252929.py\u001b[0m in \u001b[0;36m<module>\u001b[1;34m\u001b[0m\n\u001b[0;32m      1\u001b[0m \u001b[1;31m#btc_avg_compound_sentiment,btc_avg_pos_sentiment,btc_neg_sentiment = headline_sentiment_summarizer_avg(btc_contents)\u001b[0m\u001b[1;33m\u001b[0m\u001b[1;33m\u001b[0m\u001b[1;33m\u001b[0m\u001b[0m\n\u001b[0;32m      2\u001b[0m \u001b[1;31m#btc_avg_compound_sentiment = headline_sentiment_summarizer_avg(btc_contents)\u001b[0m\u001b[1;33m\u001b[0m\u001b[1;33m\u001b[0m\u001b[1;33m\u001b[0m\u001b[0m\n\u001b[1;32m----> 3\u001b[1;33m \u001b[0mbtc_sentiment_df\u001b[0m\u001b[1;33m=\u001b[0m\u001b[0mheadline_sentiment_summarizer_avg\u001b[0m\u001b[1;33m(\u001b[0m\u001b[0mbtc_contents\u001b[0m\u001b[1;33m,\u001b[0m\u001b[0mfdate\u001b[0m\u001b[1;33m)\u001b[0m\u001b[1;33m\u001b[0m\u001b[1;33m\u001b[0m\u001b[0m\n\u001b[0m\u001b[0;32m      4\u001b[0m \u001b[0mbtc_sentiment_df\u001b[0m\u001b[1;33m\u001b[0m\u001b[1;33m\u001b[0m\u001b[0m\n\u001b[0;32m      5\u001b[0m \u001b[1;31m#btc_contents\u001b[0m\u001b[1;33m\u001b[0m\u001b[1;33m\u001b[0m\u001b[1;33m\u001b[0m\u001b[0m\n",
      "\u001b[1;31mNameError\u001b[0m: name 'headline_sentiment_summarizer_avg' is not defined"
     ]
    }
   ],
   "source": [
    "#btc_avg_compound_sentiment,btc_avg_pos_sentiment,btc_neg_sentiment = headline_sentiment_summarizer_avg(btc_contents)\n",
    "#btc_avg_compound_sentiment = headline_sentiment_summarizer_avg(btc_contents)\n",
    "btc_sentiment_df=headline_sentiment_summarizer_avg(btc_contents,fdate)\n",
    "btc_sentiment_df\n",
    "#btc_contents\n",
    "type(btc_sentiment_df.index)"
   ]
  },
  {
   "cell_type": "code",
   "execution_count": 43,
   "id": "a11791c1-c10d-415f-9c91-d99c81d9770c",
   "metadata": {},
   "outputs": [
    {
     "name": "stdout",
     "output_type": "stream",
     "text": [
      "2022-05-25\n",
      "2022-05-31\n"
     ]
    },
    {
     "data": {
      "text/plain": [
       "'2022-05-25'"
      ]
     },
     "execution_count": 43,
     "metadata": {},
     "output_type": "execute_result"
    }
   ],
   "source": [
    "fdate = datetime(2022, 5, 25)\n",
    "edate = fdate + timedelta(days=6)\n",
    "print(fdate.strftime(\"%Y-%m-%d\"))\n",
    "print(edate.strftime(\"%Y-%m-%d\"))\n",
    "str(fdate.strftime(\"%Y-%m-%d\"))"
   ]
  },
  {
   "cell_type": "code",
   "execution_count": 79,
   "id": "55980c33-a29a-4438-8ded-70157e2838aa",
   "metadata": {},
   "outputs": [],
   "source": [
    "df = pd.DataFrame(btc_avg_compound_sentiment,pd.DatetimeIndex(btc_dates).rename(\"Date\"))\n",
    "df.rename(columns={0:\"Sentiment_BTC\"},inplace=True)"
   ]
  },
  {
   "cell_type": "code",
   "execution_count": 80,
   "id": "6351ba6e-1031-45b9-9ba4-ee77fde55fba",
   "metadata": {},
   "outputs": [
    {
     "data": {
      "text/html": [
       "<div>\n",
       "<style scoped>\n",
       "    .dataframe tbody tr th:only-of-type {\n",
       "        vertical-align: middle;\n",
       "    }\n",
       "\n",
       "    .dataframe tbody tr th {\n",
       "        vertical-align: top;\n",
       "    }\n",
       "\n",
       "    .dataframe thead th {\n",
       "        text-align: right;\n",
       "    }\n",
       "</style>\n",
       "<table border=\"1\" class=\"dataframe\">\n",
       "  <thead>\n",
       "    <tr style=\"text-align: right;\">\n",
       "      <th></th>\n",
       "      <th>Sentiment_BTC</th>\n",
       "    </tr>\n",
       "    <tr>\n",
       "      <th>Date</th>\n",
       "      <th></th>\n",
       "    </tr>\n",
       "  </thead>\n",
       "  <tbody>\n",
       "    <tr>\n",
       "      <th>2022-05-26</th>\n",
       "      <td>0.098313</td>\n",
       "    </tr>\n",
       "  </tbody>\n",
       "</table>\n",
       "</div>"
      ],
      "text/plain": [
       "            Sentiment_BTC\n",
       "Date                     \n",
       "2022-05-26       0.098313"
      ]
     },
     "execution_count": 80,
     "metadata": {},
     "output_type": "execute_result"
    }
   ],
   "source": [
    "df"
   ]
  },
  {
   "cell_type": "code",
   "execution_count": 5,
   "id": "afd5f52f-0c75-418a-9432-e87d5cd15e48",
   "metadata": {},
   "outputs": [
    {
     "data": {
      "text/plain": [
       "datetime.datetime(2022, 6, 26, 21, 1, 8, 181918)"
      ]
     },
     "execution_count": 5,
     "metadata": {},
     "output_type": "execute_result"
    }
   ],
   "source": [
    "dt.datetime.now()"
   ]
  },
  {
   "cell_type": "code",
   "execution_count": null,
   "id": "a8e69d62-17e2-4ed5-af1f-21354d967f7d",
   "metadata": {},
   "outputs": [],
   "source": []
  }
 ],
 "metadata": {
  "kernelspec": {
   "display_name": "Python [conda env:pyvizlearn] *",
   "language": "python",
   "name": "conda-env-pyvizlearn-py"
  },
  "language_info": {
   "codemirror_mode": {
    "name": "ipython",
    "version": 3
   },
   "file_extension": ".py",
   "mimetype": "text/x-python",
   "name": "python",
   "nbconvert_exporter": "python",
   "pygments_lexer": "ipython3",
   "version": "3.7.11"
  }
 },
 "nbformat": 4,
 "nbformat_minor": 5
}
