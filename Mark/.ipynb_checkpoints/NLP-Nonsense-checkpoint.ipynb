{
 "cells": [
  {
   "cell_type": "code",
   "execution_count": 1,
   "id": "10880bf4-b6eb-4e8b-8cc1-da14c2cf274c",
   "metadata": {},
   "outputs": [],
   "source": [
    "import os\n",
    "import pandas as pd\n",
    "from datetime import datetime, timedelta\n",
    "from dotenv import load_dotenv\n",
    "import alpaca_trade_api as tradeapi\n",
    "from newsapi.newsapi_client import NewsApiClient\n",
    "from nltk.sentiment.vader import SentimentIntensityAnalyzer"
   ]
  },
  {
   "cell_type": "code",
   "execution_count": 3,
   "id": "0e0327ec-0504-416c-b677-c721dde7e66a",
   "metadata": {},
   "outputs": [],
   "source": [
    "# Load .env enviroment variables\n",
    "load_dotenv()\n",
    "\n",
    "# Set News API Key\n",
    "newsapi = NewsApiClient(api_key=os.environ[\"NEWS_API\"])\n",
    "newsapi = NewsApiClient(api_key=os.environ[\"NEWS_API_2\"])\n",
    "\n",
    "# Set Alpaca API key and secret\n",
    "alpaca_api_key = os.getenv(\"ALPACA_API_KEY\")\n",
    "alpaca_secret_key = os.getenv(\"ALPACA_SECRET_KEY\")\n",
    "\n",
    "api = tradeapi.REST(alpaca_api_key, alpaca_secret_key, api_version='v2')"
   ]
  },
  {
   "cell_type": "code",
   "execution_count": 9,
   "id": "0d8ffc6c-aba7-4c15-b273-08f2b7245ee4",
   "metadata": {},
   "outputs": [],
   "source": [
    "# Use newsapi client to get most relevant 20 headlines per day in the past month\n",
    "def get_headlines(keyword):\n",
    "    all_headlines = []\n",
    "    all_dates = []    \n",
    "    date = datetime.strptime(current_date[:10], \"%Y-%m-%d\")\n",
    "    end_date = datetime.strptime(past_date[:10], \"%Y-%m-%d\")\n",
    "    print(f\"Fetching news about '{keyword}'\")\n",
    "    print(\"*\" * 30)\n",
    "    while date > end_date:\n",
    "        print(f\"retrieving news from: {date}\")\n",
    "        articles = newsapi.get_everything(\n",
    "            q=keyword,\n",
    "            from_param=str(date)[:10],\n",
    "            to=str(date)[:10],\n",
    "            language=\"en\",\n",
    "            sort_by=\"relevancy\",\n",
    "            page=1,\n",
    "        )\n",
    "        headlines = []\n",
    "        for i in range(0, len(articles[\"articles\"])):\n",
    "            headlines.append(articles[\"articles\"][i][\"title\"])\n",
    "        all_headlines.append(headlines)\n",
    "        all_dates.append(date)\n",
    "        date = date - timedelta(days=1)\n",
    "    return all_headlines, all_dates\n",
    "\n",
    "# Create function that computes average compound sentiment of headlines for each day\n",
    "def headline_sentiment_summarizer_avg(headlines):\n",
    "    sentiment = []\n",
    "    for day in headlines:\n",
    "        day_score = []\n",
    "        for h in day:\n",
    "            if h == None:\n",
    "                continue\n",
    "            else:\n",
    "                day_score.append(sid.polarity_scores(h)[\"compound\"])\n",
    "        sentiment.append(sum(day_score) / len(day_score))\n",
    "    return sentiment"
   ]
  },
  {
   "cell_type": "code",
   "execution_count": 10,
   "id": "961cb0ff-7d09-4d4d-9e7c-8cc00f067ffa",
   "metadata": {},
   "outputs": [],
   "source": [
    "# Setting up Variable initial values\n",
    "current_date = pd.Timestamp(datetime.now(), tz=\"America/New_York\").isoformat()\n",
    "past_date = pd.Timestamp(datetime.now()- timedelta(30), tz=\"America/New_York\").isoformat()\n",
    "date = datetime.strptime(current_date[:10], \"%Y-%m-%d\")\n",
    "end_date = datetime.strptime(past_date[:10], \"%Y-%m-%d\")\n",
    "\n",
    "# Instantiate SentimentIntensityAnalyzer\n",
    "sid = SentimentIntensityAnalyzer()"
   ]
  },
  {
   "cell_type": "code",
   "execution_count": null,
   "id": "1c2bd885-21b7-47f3-96ad-b87cdd419876",
   "metadata": {},
   "outputs": [],
   "source": []
  }
 ],
 "metadata": {
  "kernelspec": {
   "display_name": "Python [conda env:pyvizlearn] *",
   "language": "python",
   "name": "conda-env-pyvizlearn-py"
  },
  "language_info": {
   "codemirror_mode": {
    "name": "ipython",
    "version": 3
   },
   "file_extension": ".py",
   "mimetype": "text/x-python",
   "name": "python",
   "nbconvert_exporter": "python",
   "pygments_lexer": "ipython3",
   "version": "3.7.11"
  }
 },
 "nbformat": 4,
 "nbformat_minor": 5
}
