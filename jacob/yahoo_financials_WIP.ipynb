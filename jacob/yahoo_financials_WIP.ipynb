{
 "cells": [
  {
   "cell_type": "code",
   "execution_count": 5,
   "id": "eb45aae7-80e8-4b88-aec3-d3323567e56b",
   "metadata": {},
   "outputs": [],
   "source": [
    "#install yahoo finanace \n",
    "#python -m pip install yahoofinancials"
   ]
  },
  {
   "cell_type": "code",
   "execution_count": 6,
   "id": "9fe51594-59aa-4927-b891-07c0e8ff14db",
   "metadata": {},
   "outputs": [],
   "source": [
    "import os\n",
    "import requests\n",
    "import pandas as pd\n",
    "from yahoofinancials import YahooFinancials"
   ]
  },
  {
   "cell_type": "code",
   "execution_count": 38,
   "id": "fe5b502e-c80a-4004-a568-416943daaf18",
   "metadata": {},
   "outputs": [],
   "source": [
    "yahoo_financials = YahooFinancials('GLD')\n",
    "gold_df = (yahoo_financials.get_historical_price_data(\"2020-06-01\", \"2022-06-01\", \"daily\"))"
   ]
  },
  {
   "cell_type": "code",
   "execution_count": 39,
   "id": "94f73e1f-ceda-478e-b67d-106fab8db4fe",
   "metadata": {},
   "outputs": [],
   "source": [
    "pd_data = pd.read_json('sample.json')\n",
    "json_object= json.demps(gold_df['GLD']['prices'], indent = 4)\n",
    "\n",
    "import json\n",
    "json_object = json.dumps(gold_df, indent = 4)\n",
    "with open(\"sample.json\", \"w\") as outfile:\n",
    "    outfile.write(json_object)"
   ]
  },
  {
   "cell_type": "code",
   "execution_count": null,
   "id": "2f280c54-dca8-4169-babc-e93a23d74a6a",
   "metadata": {},
   "outputs": [],
   "source": []
  },
  {
   "cell_type": "code",
   "execution_count": 43,
   "id": "5eaf3c6d-ee0d-471e-b2bb-c7845ea4dc2d",
   "metadata": {},
   "outputs": [
    {
     "ename": "TypeError",
     "evalue": "unhashable type: 'slice'",
     "output_type": "error",
     "traceback": [
      "\u001b[1;31m---------------------------------------------------------------------------\u001b[0m",
      "\u001b[1;31mTypeError\u001b[0m                                 Traceback (most recent call last)",
      "Input \u001b[1;32mIn [43]\u001b[0m, in \u001b[0;36m<cell line: 1>\u001b[1;34m()\u001b[0m\n\u001b[1;32m----> 1\u001b[0m pd\u001b[38;5;241m.\u001b[39mread_json(\u001b[43mgold_df\u001b[49m\u001b[43m[\u001b[49m\u001b[38;5;124;43m'\u001b[39;49m\u001b[38;5;124;43mGLD\u001b[39;49m\u001b[38;5;124;43m'\u001b[39;49m\u001b[43m]\u001b[49m\u001b[43m[\u001b[49m\u001b[43m:\u001b[49m\u001b[43m]\u001b[49m[\u001b[38;5;124m'\u001b[39m\u001b[38;5;124mprices\u001b[39m\u001b[38;5;124m'\u001b[39m])\n",
      "\u001b[1;31mTypeError\u001b[0m: unhashable type: 'slice'"
     ]
    }
   ],
   "source": [
    "pd.read_json(gold_df['GLD'][:]['prices'])"
   ]
  },
  {
   "cell_type": "code",
   "execution_count": 28,
   "id": "77c30c23-0e2d-4db8-a345-080c8544fd78",
   "metadata": {},
   "outputs": [
    {
     "ename": "KeyError",
     "evalue": "'prices'",
     "output_type": "error",
     "traceback": [
      "\u001b[1;31m---------------------------------------------------------------------------\u001b[0m",
      "\u001b[1;31mKeyError\u001b[0m                                  Traceback (most recent call last)",
      "Input \u001b[1;32mIn [28]\u001b[0m, in \u001b[0;36m<cell line: 1>\u001b[1;34m()\u001b[0m\n\u001b[1;32m----> 1\u001b[0m gold_df_data \u001b[38;5;241m=\u001b[39m \u001b[43mgold_df\u001b[49m\u001b[43m[\u001b[49m\u001b[38;5;124;43m'\u001b[39;49m\u001b[38;5;124;43mprices\u001b[39;49m\u001b[38;5;124;43m'\u001b[39;49m\u001b[43m]\u001b[49m[\u001b[38;5;241m0\u001b[39m][\u001b[38;5;124m'\u001b[39m\u001b[38;5;124mclose\u001b[39m\u001b[38;5;124m'\u001b[39m]\n",
      "\u001b[1;31mKeyError\u001b[0m: 'prices'"
     ]
    }
   ],
   "source": [
    "gold_df_data = gold_df['event data['prices'][0]['close'] "
   ]
  },
  {
   "cell_type": "code",
   "execution_count": null,
   "id": "c88592dc-e31f-4d12-ab8e-ddef54a5681a",
   "metadata": {},
   "outputs": [],
   "source": []
  }
 ],
 "metadata": {
  "kernelspec": {
   "display_name": "Python 3 (ipykernel)",
   "language": "python",
   "name": "python3"
  },
  "language_info": {
   "codemirror_mode": {
    "name": "ipython",
    "version": 3
   },
   "file_extension": ".py",
   "mimetype": "text/x-python",
   "name": "python",
   "nbconvert_exporter": "python",
   "pygments_lexer": "ipython3",
   "version": "3.9.7"
  }
 },
 "nbformat": 4,
 "nbformat_minor": 5
}
