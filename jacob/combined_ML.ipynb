{
 "cells": [
  {
   "cell_type": "code",
   "execution_count": 53,
   "id": "cbee52eb-c94a-481e-ad7a-7afe35ad7989",
   "metadata": {},
   "outputs": [
    {
     "name": "stderr",
     "output_type": "stream",
     "text": [
      "WARNING:param.panel_extension: A HoloViz extension was loaded previously. This means the extension is already initialized and the following Panel extensions could not be properly loaded: ['plotly']. If you are loading custom extensions with pn.extension(...) ensure that this is called before any other HoloViz extension such as hvPlot or HoloViews.\n"
     ]
    }
   ],
   "source": [
    "# Initial imports\n",
    "import os\n",
    "import requests\n",
    "import pandas as pd\n",
    "from dotenv import load_dotenv\n",
    "import alpaca_trade_api as tradeapi\n",
    "from yahoofinancials import YahooFinancials\n",
    "import json\n",
    "import hvplot.pandas\n",
    "\n",
    "\n",
    "import numpy as np\n",
    "import panel as pn\n",
    "from panel.interact import interact\n",
    "import plotly.express as px\n",
    "pn.extension(\"plotly\")"
   ]
  },
  {
   "cell_type": "code",
   "execution_count": 54,
   "id": "3bd7eee6-62d4-4748-9724-1c56900193c3",
   "metadata": {},
   "outputs": [],
   "source": [
    "#call and set API from yahoo financials - crude oil price\n",
    "yahoo_financials = YahooFinancials('CL=F')\n",
    "crude_prices=(yahoo_financials.get_historical_price_data(\"2020-06-01\", \"2022-06-01\", \"weekly\"))"
   ]
  },
  {
   "cell_type": "code",
   "execution_count": 55,
   "id": "2fd1c83a-30b3-4497-820b-138a03f118ed",
   "metadata": {},
   "outputs": [],
   "source": [
    "#set json object and write crrude prices to json\n",
    "json_object= json.dumps(crude_prices['CL=F']['prices'], indent = 4)\n",
    "with open(\"sample.json\", \"w\") as outfile:\n",
    "    outfile.write(json_object)      "
   ]
  },
  {
   "cell_type": "code",
   "execution_count": 56,
   "id": "db108c71-bcfb-44a2-823d-4c85af4870fb",
   "metadata": {},
   "outputs": [],
   "source": [
    "#read json\n",
    "crude_prices = pd.read_json('sample.json')"
   ]
  },
  {
   "cell_type": "code",
   "execution_count": 57,
   "id": "95221168-8954-490f-b61f-b807c63fd931",
   "metadata": {},
   "outputs": [],
   "source": [
    "#create dataframe for crude prices \n",
    "crude_prices_df = pd.DataFrame(crude_prices)\n",
    "#crude_prices_df.head()"
   ]
  },
  {
   "cell_type": "code",
   "execution_count": 58,
   "id": "5c5c1ecf-d486-436a-86ca-f2e3eb1d8a82",
   "metadata": {},
   "outputs": [],
   "source": [
    "#drop unneeded columns \n",
    "crude_prices_df.drop(['date','high','low','open','adjclose'],axis=1, inplace = True)\n",
    "#crude_prices_df.head()"
   ]
  },
  {
   "cell_type": "code",
   "execution_count": 59,
   "id": "685335da-00a9-4ea6-bd3f-95137e513f0d",
   "metadata": {},
   "outputs": [],
   "source": [
    "#rename columns and set index of dataframe on date\n",
    "crude_prices_df.rename(columns = {'close':'Crude Close', 'volume':'Crude Volume','formatted_date':'Date'}, inplace = True)\n",
    "crude_prices_df.set_index('Date', inplace = True)\n",
    "#crude_prices_df.head()"
   ]
  },
  {
   "cell_type": "code",
   "execution_count": 60,
   "id": "63dd0edc-f6ee-4f9a-ab9d-c17f74feafc2",
   "metadata": {},
   "outputs": [],
   "source": [
    "#call yahoo financial to get gold prices \n",
    "yahoo_financials = YahooFinancials('GC=F')\n",
    "gold_prices=(yahoo_financials.get_historical_price_data(\"2020-06-01\", \"2022-06-01\", \"weekly\"))\n",
    "#print(gold_prices)"
   ]
  },
  {
   "cell_type": "code",
   "execution_count": 61,
   "id": "2a0d0f1a-05ed-4dd8-87af-20e748a9c183",
   "metadata": {},
   "outputs": [],
   "source": [
    "#set json object and write gold prices to json\n",
    "json_object= json.dumps(gold_prices['GC=F']['prices'], indent = 4)\n",
    "with open(\"sample.json\", \"w\") as outfile:\n",
    "    outfile.write(json_object)"
   ]
  },
  {
   "cell_type": "code",
   "execution_count": 62,
   "id": "6b70f181-09e6-45e2-94d0-ae9115e11c55",
   "metadata": {},
   "outputs": [],
   "source": [
    "#read json\n",
    "gold_prices = pd.read_json('sample.json')"
   ]
  },
  {
   "cell_type": "code",
   "execution_count": 63,
   "id": "a10edada-afc1-4016-b27a-f866f21f2804",
   "metadata": {},
   "outputs": [],
   "source": [
    "#convert gold prices to dataframe\n",
    "gold_prices_df = pd.DataFrame(gold_prices)\n",
    "#gold_prices_df.head()"
   ]
  },
  {
   "cell_type": "code",
   "execution_count": 64,
   "id": "10c389bb-755f-44b3-9460-faec3ad088de",
   "metadata": {},
   "outputs": [],
   "source": [
    "#drop unneeded columns from the data frame\n",
    "gold_prices_df.drop(['date','high','low','open','adjclose'],axis=1, inplace = True)\n",
    "#gold_prices_df.head()"
   ]
  },
  {
   "cell_type": "code",
   "execution_count": 65,
   "id": "a69ff152-54d7-45ac-bcac-76b5dbc94eaa",
   "metadata": {},
   "outputs": [],
   "source": [
    "#rename columns and set index to date \n",
    "gold_prices_df.rename(columns = {'close':'Gold Close', 'volume':'Gold Volume','formatted_date':'Date'}, inplace = True)\n",
    "gold_prices_df.set_index('Date', inplace = True)"
   ]
  },
  {
   "cell_type": "code",
   "execution_count": 66,
   "id": "66ea88fd-1e5e-4217-be3b-4843f9ee059a",
   "metadata": {},
   "outputs": [],
   "source": [
    "#call api for SPY s and p 500 data\n",
    "yahoo_financials = YahooFinancials('SPY')\n",
    "SPY_prices=(yahoo_financials.get_historical_price_data(\"2020-06-01\", \"2022-06-01\", \"weekly\"))\n",
    "#print(SPY_prices)"
   ]
  },
  {
   "cell_type": "code",
   "execution_count": 67,
   "id": "98d2ae9a-c686-4f13-a6c7-705c6f29df1a",
   "metadata": {},
   "outputs": [],
   "source": [
    "#set json object and write data \n",
    "json_object= json.dumps(SPY_prices['SPY']['prices'], indent = 4)\n",
    "with open(\"sample.json\", \"w\") as outfile:\n",
    "    outfile.write(json_object)"
   ]
  },
  {
   "cell_type": "code",
   "execution_count": 68,
   "id": "2af85efb-28da-44f6-9740-a540c998eb99",
   "metadata": {},
   "outputs": [],
   "source": [
    "#read the json data\n",
    "SPY_prices = pd.read_json('sample.json')"
   ]
  },
  {
   "cell_type": "code",
   "execution_count": 69,
   "id": "26f9b503-1307-4d42-9aa0-2bcd117074d3",
   "metadata": {},
   "outputs": [],
   "source": [
    "#convert json to a data frame\n",
    "SPY_prices_df = pd.DataFrame(SPY_prices)\n",
    "#SPY_prices_df.head()"
   ]
  },
  {
   "cell_type": "code",
   "execution_count": 70,
   "id": "ae4e8e0c-e23c-4a10-b812-05861741bf5c",
   "metadata": {},
   "outputs": [],
   "source": [
    "#drop unneedeeed columns, rename columns and set index to date \n",
    "SPY_prices_df.drop(['date','high','low','open','adjclose','volume'],axis=1, inplace = True)\n",
    "SPY_prices_df.rename(columns = {'close':'SPY Close', 'formatted_date':'Date'}, inplace = True)\n",
    "SPY_prices_df.set_index('Date', inplace = True)"
   ]
  },
  {
   "cell_type": "code",
   "execution_count": 71,
   "id": "9f8776b4-455b-4638-935d-e227ab04cc58",
   "metadata": {},
   "outputs": [],
   "source": [
    "#call api and get bitcoin prices \n",
    "yahoo_financials = YahooFinancials('BTC-USD')\n",
    "BTC_prices=(yahoo_financials.get_historical_price_data(\"2020-06-01\", \"2022-06-01\", \"weekly\"))\n",
    "#print(BTC_prices)"
   ]
  },
  {
   "cell_type": "code",
   "execution_count": 72,
   "id": "5afcc8c7-8728-4a1e-a936-8fcf60aa0ec9",
   "metadata": {},
   "outputs": [],
   "source": [
    "#set sson object and write data\n",
    "json_object= json.dumps(BTC_prices['BTC-USD']['prices'], indent = 4)\n",
    "with open(\"sample.json\", \"w\") as outfile:\n",
    "    outfile.write(json_object)"
   ]
  },
  {
   "cell_type": "code",
   "execution_count": 73,
   "id": "00f90702-e03a-496a-bef4-978ca806cb69",
   "metadata": {},
   "outputs": [],
   "source": [
    "#read json data\n",
    "BTC_prices = pd.read_json('sample.json')"
   ]
  },
  {
   "cell_type": "code",
   "execution_count": 74,
   "id": "0a84f127-db4e-4a67-9367-ee7e0ad0480e",
   "metadata": {},
   "outputs": [],
   "source": [
    "#create Btc data frame\n",
    "BTC_prices_df = pd.DataFrame(BTC_prices)\n",
    "#BTC_prices_df.head()"
   ]
  },
  {
   "cell_type": "code",
   "execution_count": 75,
   "id": "37c98ff6-99f4-4fb1-b390-bb6de9dba6d2",
   "metadata": {},
   "outputs": [],
   "source": [
    "#drop undeeded columns, rename columns set index of data frame to date\n",
    "BTC_prices_df.drop(['date','high','low','open','adjclose'],axis=1, inplace = True)\n",
    "BTC_prices_df.rename(columns = {'close':'BTC Close', 'volume':'BTC Volume','formatted_date':'Date'}, inplace = True)\n",
    "BTC_prices_df.set_index('Date', inplace = True)"
   ]
  },
  {
   "cell_type": "code",
   "execution_count": 76,
   "id": "ad3dc5a1-18bc-469d-9d10-1b36a76d70a9",
   "metadata": {},
   "outputs": [],
   "source": [
    "# call yahoo financial api for eth data\n",
    "yahoo_financials = YahooFinancials('ETH-USD')\n",
    "ETH_prices=(yahoo_financials.get_historical_price_data(\"2020-06-01\", \"2022-06-01\", \"weekly\"))\n",
    "#print(ETH_prices)"
   ]
  },
  {
   "cell_type": "code",
   "execution_count": 77,
   "id": "380c6947-291b-4d55-8717-00a15536f525",
   "metadata": {},
   "outputs": [],
   "source": [
    "#set json obect write data to json\n",
    "json_object= json.dumps(ETH_prices['ETH-USD']['prices'], indent = 4)\n",
    "with open(\"sample.json\", \"w\") as outfile:\n",
    "    outfile.write(json_object)"
   ]
  },
  {
   "cell_type": "code",
   "execution_count": 78,
   "id": "3cb82ce0-a0bc-4788-beba-695b5d570622",
   "metadata": {},
   "outputs": [],
   "source": [
    "#read json data\n",
    "ETH_prices = pd.read_json('sample.json')"
   ]
  },
  {
   "cell_type": "code",
   "execution_count": 79,
   "id": "b9e07db9-6192-48f9-89bf-25709d71e008",
   "metadata": {},
   "outputs": [],
   "source": [
    "#create eath data frame\n",
    "ETH_prices_df = pd.DataFrame(ETH_prices)\n",
    "#ETH_prices_df.head()"
   ]
  },
  {
   "cell_type": "code",
   "execution_count": 80,
   "id": "f74ffcfe-fc6a-4935-b8b5-620365c3f972",
   "metadata": {},
   "outputs": [],
   "source": [
    "#drop unneeded columns, rename columns, set index to date\n",
    "ETH_prices_df.drop(['date','high','low','open','adjclose'],axis=1, inplace = True)\n",
    "ETH_prices_df.rename(columns = {'close':'ETH Close', 'volume':'ETH Volume','formatted_date':'Date'}, inplace = True)\n",
    "ETH_prices_df.set_index('Date', inplace = True)\n"
   ]
  },
  {
   "cell_type": "code",
   "execution_count": 81,
   "id": "20523d34-86ed-41b2-a9cc-a8ec1b7b86ab",
   "metadata": {},
   "outputs": [],
   "source": [
    "#concatenate asset dataframes into one data frame\n",
    "combined_asset_data = pd.concat([crude_prices_df, gold_prices_df, BTC_prices_df, ETH_prices_df,SPY_prices_df, ], axis=\"columns\", join=\"inner\")\n",
    "#combined_asset_data.head()\n",
    "#set_index('Date')"
   ]
  },
  {
   "cell_type": "code",
   "execution_count": 82,
   "id": "7d8220d1-876a-4c13-88c4-9864ec2ee7f8",
   "metadata": {},
   "outputs": [],
   "source": [
    "# Initial imports\n",
    "import numpy as np\n",
    "import pandas as pd\n",
    "import hvplot.pandas"
   ]
  },
  {
   "cell_type": "code",
   "execution_count": 83,
   "id": "9fa34132-ac59-484b-ab7c-859671e90142",
   "metadata": {},
   "outputs": [],
   "source": [
    "# Set the random seed \n",
    "from numpy.random import seed\n",
    "\n",
    "seed(1)\n",
    "from tensorflow import random\n",
    "random.set_seed(2)"
   ]
  },
  {
   "cell_type": "code",
   "execution_count": 84,
   "id": "180b91e3-c2ff-4060-b044-279242cb1d89",
   "metadata": {},
   "outputs": [],
   "source": [
    "# # This function accepts the column number for the features (X) and the target (y)\n",
    "# # It chunks the data up with a rolling window of Xt-n to predict Xt\n",
    "# # It returns a numpy array of X any y\n",
    "# def window_data(combined_asset_data, window, feature_col_number, target_col_number):\n",
    "#     X = []\n",
    "#     y = []\n",
    "#     for i in range(len(combined_asset_data) - window - 1):\n",
    "#         features = combined_asset_data.iloc[i:(i + window), feature_col_number]\n",
    "#         target = combined_asset_data.iloc[(i + window), target_col_number]\n",
    "#         X.append(features)\n",
    "#         y.append(target)\n",
    "#     return np.array(X), np.array(y).reshape(-1, 1)\n",
    "\n",
    "\n",
    "# create feature x and target y dataframes\n",
    "X = combined_asset_data.iloc[:, 0:7]\n",
    "y = combined_asset_data.iloc[:, 8]"
   ]
  },
  {
   "cell_type": "code",
   "execution_count": 85,
   "id": "2a308636-6694-4450-99dc-d974f6c6f2e0",
   "metadata": {},
   "outputs": [],
   "source": [
    "# # Predict Closing Prices using a 10 day window of previous closing prices\n",
    "\n",
    "# feature_column = 1\n",
    "# target_column = 1\n",
    "# X, y = window_data(combined_asset_data, window_size, feature_column, target_column)\n",
    "\n",
    "# Scale the data of the features set using the StandardScaler, imports \n",
    "from sklearn.preprocessing import MinMaxScaler\n",
    "from sklearn.preprocessing import StandardScaler\n",
    "# Use the MinMaxScaler to scale data between 0 and 1.\n",
    "#set scalare to standard scaler\n",
    "scaler = StandardScaler().fit(X)\n",
    "\n",
    "\n",
    "\n",
    "#from sklearn.preprocessing import StandardScaler\n",
    "# scaler = StandardScaler().fit(X)\n",
    "# X = scaler.transform(X)"
   ]
  },
  {
   "cell_type": "code",
   "execution_count": 86,
   "id": "2a95c2fe-e82d-41a7-b581-c5f7b1250348",
   "metadata": {},
   "outputs": [],
   "source": [
    "# # Use 70% of the data for training and the remaineder for testing\n",
    "split = int(0.7 * len(X))\n",
    "\n",
    "X_train = X[: split]\n",
    "X_test = X[split:]\n",
    "\n",
    "y_train = y[: split]\n",
    "y_test = y[split:]\n",
    "y_train = pd.DataFrame(y_train)\n",
    "y_test = pd.DataFrame(y_test)"
   ]
  },
  {
   "cell_type": "code",
   "execution_count": 87,
   "id": "76472343-0f73-4aaf-a885-8eec564dc9a2",
   "metadata": {},
   "outputs": [
    {
     "data": {
      "text/plain": [
       "array([[1.65010712],\n",
       "       [1.85500902],\n",
       "       [1.82718807],\n",
       "       [1.86295815],\n",
       "       [1.64392477],\n",
       "       [1.52138132],\n",
       "       [1.90380551],\n",
       "       [1.66379659],\n",
       "       [1.90071467],\n",
       "       [1.99698292],\n",
       "       [1.80113389],\n",
       "       [1.77088447],\n",
       "       [1.18046687],\n",
       "       [1.26812429],\n",
       "       [1.41716394],\n",
       "       [1.23522471],\n",
       "       [1.09766707],\n",
       "       [1.17538824],\n",
       "       [1.05218243],\n",
       "       [0.78501492],\n",
       "       [1.32486925],\n",
       "       [1.50526272],\n",
       "       [1.51034135],\n",
       "       [1.39221349],\n",
       "       [1.17627163],\n",
       "       [0.91683224],\n",
       "       [0.60682958],\n",
       "       [0.59225673],\n",
       "       [0.37984774],\n",
       "       [0.11290124],\n",
       "       [0.67881042],\n",
       "       [0.62736377]])"
      ]
     },
     "execution_count": 87,
     "metadata": {},
     "output_type": "execute_result"
    }
   ],
   "source": [
    "#  Fit the Scaler object with the features data X\n",
    "scaler.fit(X_train)\n",
    "\n",
    "# # Scale the features training and testing sets\n",
    "X_train = scaler.transform(X_train)\n",
    "X_test = scaler.transform(X_test)\n",
    "\n",
    "# # Fit theScaler object with the target data Y\n",
    "scaler.fit(y_train)\n",
    "\n",
    "# # Scale the target training and testing sets\n",
    "y_train = scaler.transform(y_train)\n",
    "y_test = scaler.transform(y_test)\n",
    "#\n",
    "y_test"
   ]
  },
  {
   "cell_type": "code",
   "execution_count": 88,
   "id": "410f018a-8c95-4ac2-845a-d678cfaf35ad",
   "metadata": {},
   "outputs": [],
   "source": [
    "#import keras models and layers \n",
    "from tensorflow.keras.models import Sequential\n",
    "from tensorflow.keras.layers import Dense, LSTM, Dropout\n",
    "# Create a shallow, 1 hidden layer, neural network\n",
    "nn = Sequential()\n",
    "\n",
    "# Hidden layer\n",
    "nn.add(Dense(units=2, input_dim=7, activation=\"relu\"))\n",
    "nn.add(Dense(units=2, activation=\"relu\"))\n",
    "\n",
    "# Output layer\n",
    "nn.add(Dense(units=1, activation=\"linear\"))"
   ]
  },
  {
   "cell_type": "code",
   "execution_count": 89,
   "id": "46fc6990-4df0-4e4a-8826-aac916b3b527",
   "metadata": {},
   "outputs": [
    {
     "name": "stdout",
     "output_type": "stream",
     "text": [
      "Epoch 1/10\n",
      "3/3 [==============================] - 1s 150ms/step - loss: nan - mse: nan - val_loss: nan - val_mse: nan               \n",
      "Epoch 2/10\n",
      "3/3 [==============================] - 0s 27ms/step - loss: nan - mse: nan - val_loss: nan - val_mse: nan\n",
      "Epoch 3/10\n",
      "3/3 [==============================] - 0s 24ms/step - loss: nan - mse: nan - val_loss: nan - val_mse: nan\n",
      "Epoch 4/10\n",
      "3/3 [==============================] - 0s 15ms/step - loss: nan - mse: nan - val_loss: nan - val_mse: nan\n",
      "Epoch 5/10\n",
      "3/3 [==============================] - 0s 16ms/step - loss: nan - mse: nan - val_loss: nan - val_mse: nan\n",
      "Epoch 6/10\n",
      "3/3 [==============================] - 0s 14ms/step - loss: nan - mse: nan - val_loss: nan - val_mse: nan\n",
      "Epoch 7/10\n",
      "3/3 [==============================] - 0s 15ms/step - loss: nan - mse: nan - val_loss: nan - val_mse: nan\n",
      "Epoch 8/10\n",
      "3/3 [==============================] - 0s 26ms/step - loss: nan - mse: nan - val_loss: nan - val_mse: nan\n",
      "Epoch 9/10\n",
      "3/3 [==============================] - 0s 12ms/step - loss: nan - mse: nan - val_loss: nan - val_mse: nan\n",
      "Epoch 10/10\n",
      "3/3 [==============================] - 0s 12ms/step - loss: nan - mse: nan - val_loss: nan - val_mse: nan\n"
     ]
    }
   ],
   "source": [
    "# Compile the model\n",
    "nn.compile(loss=\"mean_squared_error\", optimizer=\"adam\", metrics=[\"mse\"])\n",
    "\n",
    "# Fit the model set epochs\n",
    "model_1 = nn.fit(X, y, validation_split=0.3, epochs=10)"
   ]
  },
  {
   "cell_type": "code",
   "execution_count": 90,
   "id": "3ae6b6dc-19c8-436b-91db-ab7256a3d8ea",
   "metadata": {},
   "outputs": [
    {
     "data": {
      "image/png": "[encoded data removed]",
      "text/plain": [
       "<Figure size 432x288 with 1 Axes>"
      ]
     },
     "metadata": {
      "needs_background": "light"
     },
     "output_type": "display_data"
    }
   ],
   "source": [
    "# Plot the loss function of the training results for the model\n",
    "import matplotlib.pyplot as plt\n",
    "plt.plot(model_1.history[\"loss\"])\n",
    "#plt.plot(model_2.history[\"loss\"])\n",
    "plt.title(\"loss_function - Training -2 hinden layer\")\n",
    "plt.legend([\"1 hidden layer\", \"2 hidden layers\"])\n",
    "plt.show()"
   ]
  },
  {
   "cell_type": "code",
   "execution_count": 91,
   "id": "38d63d7a-6ec5-4671-ad81-0897d7d98585",
   "metadata": {},
   "outputs": [],
   "source": [
    "# # Reshape the features for the model\n",
    "# X_train = X_train.reshape((X_train.shape[0], X_train.shape[1], 1))\n",
    "# X_test = X_test.reshape((X_test.shape[0], X_test.shape[1], 1))"
   ]
  },
  {
   "cell_type": "code",
   "execution_count": 92,
   "id": "5bac077f-c692-4b61-afec-197519ab1d7f",
   "metadata": {},
   "outputs": [],
   "source": [
    "# The return sequences need to be set to True if you are adding additional LSTM layers, but \n",
    "# You don't have to do this for the final layer. \n",
    "# Note: The dropouts help prevent overfitting\n",
    "# Note: The input shape is the number of time steps and the number of indicators\n",
    "# Note: Batching inputs has a different input shape of Samples/TimeSteps/Features\n",
    "\n",
    "model = Sequential()\n",
    "\n",
    "# Initial model setup\n",
    "number_units = 8\n",
    "dropout_fraction = 0.2\n",
    "\n",
    "# Layer 1\n",
    "model.add(LSTM(\n",
    "    units=number_units,\n",
    "    return_sequences=True,\n",
    "    input_shape=(X_train.shape[1], 1))\n",
    "    )\n",
    "model.add(Dropout(dropout_fraction))\n",
    "\n",
    "# Layer 2\n",
    "model.add(LSTM(units=number_units, return_sequences=True))\n",
    "model.add(Dropout(dropout_fraction))\n",
    "\n",
    "# Layer 3\n",
    "model.add(LSTM(units=number_units))\n",
    "model.add(Dropout(dropout_fraction))\n",
    "\n",
    "# Output layer\n",
    "model.add(Dense(1))"
   ]
  },
  {
   "cell_type": "code",
   "execution_count": 93,
   "id": "9f621b44-efee-4120-b770-cf4134f68b5c",
   "metadata": {},
   "outputs": [],
   "source": [
    "# Compile the model\n",
    "model.compile(optimizer=\"adam\", loss=\"mean_squared_error\")"
   ]
  },
  {
   "cell_type": "code",
   "execution_count": 94,
   "id": "c58d6f7f-d41d-4015-844f-ce6ba141fcd3",
   "metadata": {},
   "outputs": [
    {
     "name": "stdout",
     "output_type": "stream",
     "text": [
      "Model: \"sequential_4\"\n",
      "_________________________________________________________________\n",
      " Layer (type)                Output Shape              Param #   \n",
      "=================================================================\n",
      " lstm_3 (LSTM)               (None, 7, 8)              320       \n",
      "                                                                 \n",
      " dropout_3 (Dropout)         (None, 7, 8)              0         \n",
      "                                                                 \n",
      " lstm_4 (LSTM)               (None, 7, 8)              544       \n",
      "                                                                 \n",
      " dropout_4 (Dropout)         (None, 7, 8)              0         \n",
      "                                                                 \n",
      " lstm_5 (LSTM)               (None, 8)                 544       \n",
      "                                                                 \n",
      " dropout_5 (Dropout)         (None, 8)                 0         \n",
      "                                                                 \n",
      " dense_10 (Dense)            (None, 1)                 9         \n",
      "                                                                 \n",
      "=================================================================\n",
      "Total params: 1,417\n",
      "Trainable params: 1,417\n",
      "Non-trainable params: 0\n",
      "_________________________________________________________________\n"
     ]
    }
   ],
   "source": [
    "# Summarize the model\n",
    "model.summary()"
   ]
  },
  {
   "cell_type": "code",
   "execution_count": 95,
   "id": "6b4571a6-b740-4de9-ba7f-e191133cade8",
   "metadata": {},
   "outputs": [
    {
     "name": "stdout",
     "output_type": "stream",
     "text": [
      "Epoch 1/100\n",
      "25/25 [==============================] - 9s 17ms/step - loss: 1.0386\n",
      "Epoch 2/100\n",
      "25/25 [==============================] - 0s 16ms/step - loss: 0.9755\n",
      "Epoch 3/100\n",
      "25/25 [==============================] - 0s 16ms/step - loss: 0.9185\n",
      "Epoch 4/100\n",
      "25/25 [==============================] - 0s 15ms/step - loss: 0.8042\n",
      "Epoch 5/100\n",
      "25/25 [==============================] - 0s 16ms/step - loss: 0.6210\n",
      "Epoch 6/100\n",
      "25/25 [==============================] - 0s 16ms/step - loss: 0.4735\n",
      "Epoch 7/100\n",
      "25/25 [==============================] - 0s 15ms/step - loss: 0.4212\n",
      "Epoch 8/100\n",
      "25/25 [==============================] - 0s 14ms/step - loss: 0.3724\n",
      "Epoch 9/100\n",
      "25/25 [==============================] - 0s 14ms/step - loss: 0.4081\n",
      "Epoch 10/100\n",
      "25/25 [==============================] - 0s 14ms/step - loss: 0.3994\n",
      "Epoch 11/100\n",
      "25/25 [==============================] - 0s 14ms/step - loss: 0.3394\n",
      "Epoch 12/100\n",
      "25/25 [==============================] - 0s 15ms/step - loss: 0.3675\n",
      "Epoch 13/100\n",
      "25/25 [==============================] - 0s 11ms/step - loss: 0.3725\n",
      "Epoch 14/100\n",
      "25/25 [==============================] - 0s 7ms/step - loss: 0.3354\n",
      "Epoch 15/100\n",
      "25/25 [==============================] - 0s 8ms/step - loss: 0.3661\n",
      "Epoch 16/100\n",
      "25/25 [==============================] - 0s 8ms/step - loss: 0.3878\n",
      "Epoch 17/100\n",
      "25/25 [==============================] - 0s 10ms/step - loss: 0.3937\n",
      "Epoch 18/100\n",
      "25/25 [==============================] - 0s 11ms/step - loss: 0.3193\n",
      "Epoch 19/100\n",
      "25/25 [==============================] - 0s 13ms/step - loss: 0.3481\n",
      "Epoch 20/100\n",
      "25/25 [==============================] - 0s 13ms/step - loss: 0.3278\n",
      "Epoch 21/100\n",
      "25/25 [==============================] - 0s 13ms/step - loss: 0.2754\n",
      "Epoch 22/100\n",
      "25/25 [==============================] - 0s 13ms/step - loss: 0.3468\n",
      "Epoch 23/100\n",
      "25/25 [==============================] - 0s 12ms/step - loss: 0.3307\n",
      "Epoch 24/100\n",
      "25/25 [==============================] - 0s 14ms/step - loss: 0.3153\n",
      "Epoch 25/100\n",
      "25/25 [==============================] - 0s 13ms/step - loss: 0.3585\n",
      "Epoch 26/100\n",
      "25/25 [==============================] - 0s 12ms/step - loss: 0.3550\n",
      "Epoch 27/100\n",
      "25/25 [==============================] - 0s 13ms/step - loss: 0.3621\n",
      "Epoch 28/100\n",
      "25/25 [==============================] - 0s 14ms/step - loss: 0.3583\n",
      "Epoch 29/100\n",
      "25/25 [==============================] - 0s 12ms/step - loss: 0.3066\n",
      "Epoch 30/100\n",
      "25/25 [==============================] - 0s 13ms/step - loss: 0.3715\n",
      "Epoch 31/100\n",
      "25/25 [==============================] - 0s 13ms/step - loss: 0.3134\n",
      "Epoch 32/100\n",
      "25/25 [==============================] - 0s 13ms/step - loss: 0.3336\n",
      "Epoch 33/100\n",
      "25/25 [==============================] - 0s 13ms/step - loss: 0.3422\n",
      "Epoch 34/100\n",
      "25/25 [==============================] - 0s 13ms/step - loss: 0.2984\n",
      "Epoch 35/100\n",
      "25/25 [==============================] - 0s 13ms/step - loss: 0.3501\n",
      "Epoch 36/100\n",
      "25/25 [==============================] - 0s 13ms/step - loss: 0.3037\n",
      "Epoch 37/100\n",
      "25/25 [==============================] - 0s 13ms/step - loss: 0.2702\n",
      "Epoch 38/100\n",
      "25/25 [==============================] - 0s 13ms/step - loss: 0.3310\n",
      "Epoch 39/100\n",
      "25/25 [==============================] - 0s 14ms/step - loss: 0.2990\n",
      "Epoch 40/100\n",
      "25/25 [==============================] - 0s 13ms/step - loss: 0.2960\n",
      "Epoch 41/100\n",
      "25/25 [==============================] - 0s 13ms/step - loss: 0.2782\n",
      "Epoch 42/100\n",
      "25/25 [==============================] - 0s 13ms/step - loss: 0.3259\n",
      "Epoch 43/100\n",
      "25/25 [==============================] - 0s 14ms/step - loss: 0.2918\n",
      "Epoch 44/100\n",
      "25/25 [==============================] - 0s 13ms/step - loss: 0.3299\n",
      "Epoch 45/100\n",
      "25/25 [==============================] - 0s 13ms/step - loss: 0.3201\n",
      "Epoch 46/100\n",
      "25/25 [==============================] - 0s 14ms/step - loss: 0.3174\n",
      "Epoch 47/100\n",
      "25/25 [==============================] - 0s 13ms/step - loss: 0.3022\n",
      "Epoch 48/100\n",
      "25/25 [==============================] - 0s 11ms/step - loss: 0.3059\n",
      "Epoch 49/100\n",
      "25/25 [==============================] - 0s 12ms/step - loss: 0.3080\n",
      "Epoch 50/100\n",
      "25/25 [==============================] - 0s 13ms/step - loss: 0.2956\n",
      "Epoch 51/100\n",
      "25/25 [==============================] - 0s 11ms/step - loss: 0.3383\n",
      "Epoch 52/100\n",
      "25/25 [==============================] - 0s 11ms/step - loss: 0.3064\n",
      "Epoch 53/100\n",
      "25/25 [==============================] - 0s 12ms/step - loss: 0.3277\n",
      "Epoch 54/100\n",
      "25/25 [==============================] - 0s 15ms/step - loss: 0.2428\n",
      "Epoch 55/100\n",
      "25/25 [==============================] - 0s 15ms/step - loss: 0.2694\n",
      "Epoch 56/100\n",
      "25/25 [==============================] - 0s 14ms/step - loss: 0.3163\n",
      "Epoch 57/100\n",
      "25/25 [==============================] - 0s 14ms/step - loss: 0.2710\n",
      "Epoch 58/100\n",
      "25/25 [==============================] - 0s 9ms/step - loss: 0.2887\n",
      "Epoch 59/100\n",
      "25/25 [==============================] - 0s 8ms/step - loss: 0.2616\n",
      "Epoch 60/100\n",
      "25/25 [==============================] - 0s 8ms/step - loss: 0.2760\n",
      "Epoch 61/100\n",
      "25/25 [==============================] - 0s 11ms/step - loss: 0.2731\n",
      "Epoch 62/100\n",
      "25/25 [==============================] - 0s 10ms/step - loss: 0.2975\n",
      "Epoch 63/100\n",
      "25/25 [==============================] - 0s 7ms/step - loss: 0.2574\n",
      "Epoch 64/100\n",
      "25/25 [==============================] - 0s 8ms/step - loss: 0.2984\n",
      "Epoch 65/100\n",
      "25/25 [==============================] - 0s 11ms/step - loss: 0.2691\n",
      "Epoch 66/100\n",
      "25/25 [==============================] - 0s 8ms/step - loss: 0.2701\n",
      "Epoch 67/100\n",
      "25/25 [==============================] - 0s 9ms/step - loss: 0.2475\n",
      "Epoch 68/100\n",
      "25/25 [==============================] - 0s 9ms/step - loss: 0.2438\n",
      "Epoch 69/100\n",
      "25/25 [==============================] - 0s 12ms/step - loss: 0.2718\n",
      "Epoch 70/100\n",
      "25/25 [==============================] - 0s 13ms/step - loss: 0.2766\n",
      "Epoch 71/100\n",
      "25/25 [==============================] - 0s 13ms/step - loss: 0.2777\n",
      "Epoch 72/100\n",
      "25/25 [==============================] - 0s 12ms/step - loss: 0.2033\n",
      "Epoch 73/100\n",
      "25/25 [==============================] - 0s 13ms/step - loss: 0.2280\n",
      "Epoch 74/100\n",
      "25/25 [==============================] - 0s 13ms/step - loss: 0.2476\n",
      "Epoch 75/100\n",
      "25/25 [==============================] - 0s 13ms/step - loss: 0.2285\n",
      "Epoch 76/100\n",
      "25/25 [==============================] - 0s 13ms/step - loss: 0.2265\n",
      "Epoch 77/100\n",
      "25/25 [==============================] - 0s 13ms/step - loss: 0.2671\n",
      "Epoch 78/100\n",
      "25/25 [==============================] - 0s 12ms/step - loss: 0.2911\n",
      "Epoch 79/100\n",
      "25/25 [==============================] - 0s 12ms/step - loss: 0.1823\n",
      "Epoch 80/100\n",
      "25/25 [==============================] - 0s 13ms/step - loss: 0.2192\n",
      "Epoch 81/100\n",
      "25/25 [==============================] - 0s 13ms/step - loss: 0.2210\n",
      "Epoch 82/100\n",
      "25/25 [==============================] - 0s 13ms/step - loss: 0.1950\n",
      "Epoch 83/100\n",
      "25/25 [==============================] - 0s 13ms/step - loss: 0.2079\n",
      "Epoch 84/100\n",
      "25/25 [==============================] - 0s 13ms/step - loss: 0.2114\n",
      "Epoch 85/100\n",
      "25/25 [==============================] - 0s 13ms/step - loss: 0.1863\n",
      "Epoch 86/100\n",
      "25/25 [==============================] - 0s 12ms/step - loss: 0.2722\n",
      "Epoch 87/100\n",
      "25/25 [==============================] - 0s 13ms/step - loss: 0.2140\n",
      "Epoch 88/100\n",
      "25/25 [==============================] - 0s 12ms/step - loss: 0.2649\n",
      "Epoch 89/100\n",
      "25/25 [==============================] - 0s 13ms/step - loss: 0.2339\n",
      "Epoch 90/100\n",
      "25/25 [==============================] - 0s 12ms/step - loss: 0.1894\n",
      "Epoch 91/100\n",
      "25/25 [==============================] - 0s 12ms/step - loss: 0.2213\n",
      "Epoch 92/100\n",
      "25/25 [==============================] - 0s 12ms/step - loss: 0.2287\n",
      "Epoch 93/100\n",
      "25/25 [==============================] - 0s 13ms/step - loss: 0.2062\n",
      "Epoch 94/100\n",
      "25/25 [==============================] - 0s 13ms/step - loss: 0.1973\n",
      "Epoch 95/100\n",
      "25/25 [==============================] - 0s 12ms/step - loss: 0.2111\n",
      "Epoch 96/100\n",
      "25/25 [==============================] - 0s 13ms/step - loss: 0.1871\n",
      "Epoch 97/100\n",
      "25/25 [==============================] - 0s 13ms/step - loss: 0.1621\n",
      "Epoch 98/100\n",
      "25/25 [==============================] - 0s 13ms/step - loss: 0.1766\n",
      "Epoch 99/100\n",
      "25/25 [==============================] - 0s 13ms/step - loss: 0.1969\n",
      "Epoch 100/100\n",
      "25/25 [==============================] - 0s 13ms/step - loss: 0.1829\n"
     ]
    },
    {
     "data": {
      "text/plain": [
       "<keras.callbacks.History at 0x1c8b5e249d0>"
      ]
     },
     "execution_count": 95,
     "metadata": {},
     "output_type": "execute_result"
    }
   ],
   "source": [
    "# Train the model\n",
    "# Use at least 10 epochs\n",
    "# Do not shuffle the data\n",
    "# Experiement with the batch size, but a smaller batch size is recommended\n",
    "model.fit(X_train, y_train, epochs=100, shuffle=False, batch_size=3, verbose=1)"
   ]
  },
  {
   "cell_type": "code",
   "execution_count": 96,
   "id": "b862817c-4c41-4b2a-92fd-02ca09955e7a",
   "metadata": {},
   "outputs": [
    {
     "data": {
      "text/plain": [
       "0.8378706574440002"
      ]
     },
     "execution_count": 96,
     "metadata": {},
     "output_type": "execute_result"
    }
   ],
   "source": [
    "# Evaluate the model\n",
    "model.evaluate(X_test, y_test, verbose=0)"
   ]
  },
  {
   "cell_type": "code",
   "execution_count": 97,
   "id": "cfc8ef49-17d2-41d8-b76f-e854feb459d4",
   "metadata": {},
   "outputs": [
    {
     "name": "stdout",
     "output_type": "stream",
     "text": [
      "1/1 [==============================] - 2s 2s/step\n"
     ]
    }
   ],
   "source": [
    "# Make some predictions\n",
    "predicted = model.predict(X_test)"
   ]
  },
  {
   "cell_type": "code",
   "execution_count": 98,
   "id": "64571669-af14-4536-b288-5c25d10c9d60",
   "metadata": {},
   "outputs": [],
   "source": [
    "# Recover the original prices instead of the scaled version\n",
    "predicted_prices = scaler.inverse_transform(predicted)\n",
    "real_prices = scaler.inverse_transform(y_test.reshape(-1, 1))"
   ]
  },
  {
   "cell_type": "code",
   "execution_count": 99,
   "id": "5b65eeb1-158e-4684-813d-84eb2ee4dce9",
   "metadata": {},
   "outputs": [
    {
     "data": {
      "text/html": [
       "<div>\n",
       "<style scoped>\n",
       "    .dataframe tbody tr th:only-of-type {\n",
       "        vertical-align: middle;\n",
       "    }\n",
       "\n",
       "    .dataframe tbody tr th {\n",
       "        vertical-align: top;\n",
       "    }\n",
       "\n",
       "    .dataframe thead th {\n",
       "        text-align: right;\n",
       "    }\n",
       "</style>\n",
       "<table border=\"1\" class=\"dataframe\">\n",
       "  <thead>\n",
       "    <tr style=\"text-align: right;\">\n",
       "      <th></th>\n",
       "      <th>Real</th>\n",
       "      <th>Predicted</th>\n",
       "    </tr>\n",
       "    <tr>\n",
       "      <th>Date</th>\n",
       "      <th></th>\n",
       "      <th></th>\n",
       "    </tr>\n",
       "  </thead>\n",
       "  <tbody>\n",
       "    <tr>\n",
       "      <th>2021-10-25</th>\n",
       "      <td>459.250000</td>\n",
       "      <td>424.225586</td>\n",
       "    </tr>\n",
       "    <tr>\n",
       "      <th>2021-11-01</th>\n",
       "      <td>468.529999</td>\n",
       "      <td>423.091675</td>\n",
       "    </tr>\n",
       "    <tr>\n",
       "      <th>2021-11-08</th>\n",
       "      <td>467.269989</td>\n",
       "      <td>421.524323</td>\n",
       "    </tr>\n",
       "    <tr>\n",
       "      <th>2021-11-15</th>\n",
       "      <td>468.890015</td>\n",
       "      <td>421.263123</td>\n",
       "    </tr>\n",
       "    <tr>\n",
       "      <th>2021-11-22</th>\n",
       "      <td>458.970001</td>\n",
       "      <td>411.127319</td>\n",
       "    </tr>\n",
       "  </tbody>\n",
       "</table>\n",
       "</div>"
      ],
      "text/plain": [
       "                  Real   Predicted\n",
       "Date                              \n",
       "2021-10-25  459.250000  424.225586\n",
       "2021-11-01  468.529999  423.091675\n",
       "2021-11-08  467.269989  421.524323\n",
       "2021-11-15  468.890015  421.263123\n",
       "2021-11-22  458.970001  411.127319"
      ]
     },
     "execution_count": 99,
     "metadata": {},
     "output_type": "execute_result"
    }
   ],
   "source": [
    "# Create a DataFrame of Real and Predicted values\n",
    "assets = pd.DataFrame({\n",
    "    \"Real\": real_prices.ravel(),\n",
    "    \"Predicted\": predicted_prices.ravel()\n",
    "}, index = combined_asset_data.index[-len(real_prices): ]) \n",
    "assets.head()"
   ]
  },
  {
   "cell_type": "code",
   "execution_count": 102,
   "id": "55c5ac84-6ab2-4d8d-9b70-8e592847a018",
   "metadata": {},
   "outputs": [
    {
     "data": {
      "text/plain": [
       "<AxesSubplot:title={'center':'Actual Vs. Predicted SPY Prices'}, xlabel='Date'>"
      ]
     },
     "execution_count": 102,
     "metadata": {},
     "output_type": "execute_result"
    },
    {
     "data": {
      "image/png": "[encoded data removed]",
      "text/plain": [
       "<Figure size 432x288 with 1 Axes>"
      ]
     },
     "metadata": {
      "needs_background": "light"
     },
     "output_type": "display_data"
    }
   ],
   "source": [
    "# Plot the real vs predicted values as a line chart\n",
    "assets.plot(title=\"Actual Vs. Predicted SPY Prices\")"
   ]
  },
  {
   "cell_type": "code",
   "execution_count": null,
   "id": "fa02ce34-b151-488a-8787-bbee7e830830",
   "metadata": {},
   "outputs": [],
   "source": []
  }
 ],
 "metadata": {
  "kernelspec": {
   "display_name": "Python 3 (ipykernel)",
   "language": "python",
   "name": "python3"
  },
  "language_info": {
   "codemirror_mode": {
    "name": "ipython",
    "version": 3
   },
   "file_extension": ".py",
   "mimetype": "text/x-python",
   "name": "python",
   "nbconvert_exporter": "python",
   "pygments_lexer": "ipython3",
   "version": "3.9.7"
  }
 },
 "nbformat": 4,
 "nbformat_minor": 5
}
